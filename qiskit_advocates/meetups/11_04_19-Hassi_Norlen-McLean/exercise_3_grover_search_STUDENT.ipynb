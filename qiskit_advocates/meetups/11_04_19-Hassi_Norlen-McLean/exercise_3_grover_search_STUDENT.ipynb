{
 "cells": [
  {
   "cell_type": "markdown",
   "metadata": {
    "slideshow": {
     "slide_type": "slide"
    }
   },
   "source": [
    "# Grover's search algorithm\n",
    "Grover's search algorithm is one of the more straightforward quantum algorithms for solving an actual problem using quantum computing, namely finding information in an indexed but unsorted database.  Grover is expected to be quadratically faster than its classical counterpart. \n",
    "\n",
    "This exercise is losely based on the [Grover's algorithm and its Qiskit implementation Qiskit tutorial](https://quantum-computing.ibm.com/support/guides/quantum-algorithms-with-qiskit?page=5cc0d9fd86b50d00642353ca#experiment-with-simulators), which goes inte greater detail regarding the implementation and theory.\n",
    "\n",
    "A good read on understanding Grover, from Scott Aaronson: https://www.scottaaronson.com/qclec/22.pdf\n",
    "\n",
    "What we will demonstrate is an unstructured search of a database, using the so called amplitude magnification trick."
   ]
  },
  {
   "cell_type": "markdown",
   "metadata": {
    "slideshow": {
     "slide_type": "subslide"
    }
   },
   "source": [
    "Let's start by importing the required methods."
   ]
  },
  {
   "cell_type": "code",
   "execution_count": null,
   "metadata": {
    "slideshow": {
     "slide_type": "fragment"
    }
   },
   "outputs": [],
   "source": [
    "# Importing Qiskit\n",
    "from qiskit import IBMQ, BasicAer\n",
    "from qiskit import QuantumCircuit, ClassicalRegister, QuantumRegister, execute\n",
    "from qiskit.providers.ibmq import least_busy\n",
    "\n",
    "# Import basic plot tools\n",
    "from qiskit.tools.visualization import plot_histogram"
   ]
  },
  {
   "cell_type": "markdown",
   "metadata": {},
   "source": [
    "# Qiskit Terra Grover implementation\n",
    "In Qiskit terra we can create a Grover implementation using for example a phase oracle, which in combination with a phase ... inversion about average increases the amplitude of the \"correct\" answer according to the oracle.\n",
    "\n",
    "With the Grover algorithm we create a so called oracle function, which is designed to take as input a set of qubits in initial superposition, and switch the phase of the correct answer (|$\\psi$>) by 2$\\pi$, while leaving the phase of the incorrect answers alone. The oracle can identify the correct answer if you feed it that answer. It cnnot calculate a correct answer. \n",
    "\n",
    "The Grover unitary matrix is essentially a diagonal matrix containing ones, with a negative one that represents the solution, and will switch the phase for the corresponding state. This unitary matrix can be realized using standard gates in a quantum circuit. For a look at an example oracle unitary, see the 'Taking a look at the Grover circuit, step-by-step' section at the end of the Notebook.\n",
    "\n",
    "In the examples below, the two-qubit Toffoli gate (CCX) serves as a controlled phase shift gate (HXH = Z) that shifts the phase of the state by by 2$\\pi$ (-1) if the value of the three qubits match the correct answer. \n",
    "\n"
   ]
  },
  {
   "cell_type": "markdown",
   "metadata": {},
   "source": [
    "## Examples\n",
    "\n",
    "Oracle for: |100>\n",
    "![Oracle for: |100>](data:image/png;base64,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)\n",
    "\n",
    "Oracle for: |111>\n",
    "\n",
    "![Oracle for: |111>](data:image/png;base64,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)\n",
    "\n",
    "For this exercise we created a 3-qubit Oracle circuit for the |100> oracle that we can then add to our Grover circuit."
   ]
  },
  {
   "cell_type": "code",
   "execution_count": null,
   "metadata": {
    "slideshow": {
     "slide_type": "slide"
    }
   },
   "outputs": [],
   "source": [
    "# Let's create the oracle circuit for the |100> state as the correct answer.\n",
    "\n",
    "qr = QuantumRegister(3)\n",
    "cr = ClassicalRegister(3)\n",
    "oracleCircuit=QuantumCircuit(qr,cr)\n",
    "\n",
    "\n",
    "oracle_type=\"|100>\"\n",
    "oracleCircuit.x(qr[0])\n",
    "oracleCircuit.x(qr[1])\n",
    "oracleCircuit.h(qr[2])\n",
    "oracleCircuit.ccx(qr[0],qr[1],qr[2])\n",
    "oracleCircuit.x(qr[1])\n",
    "oracleCircuit.h(qr[2]) \n",
    "oracleCircuit.x(qr[0]) \n",
    "\n",
    "display(oracleCircuit.draw(output=\"mpl\"))\n"
   ]
  },
  {
   "cell_type": "markdown",
   "metadata": {},
   "source": [
    "The next step in the Grover method is to create an amplifier circuit that takes the incoming states and amplifies the phase that corresponds to the correct answer by 'mirroring' it across the average amplitude. Again, this can be represented as a unitary matrix where. For a look at an example amplifier unitary, see the 'Taking a look at the Grover circuit, step-by-step' section at the end of the Notebook."
   ]
  },
  {
   "cell_type": "code",
   "execution_count": null,
   "metadata": {},
   "outputs": [],
   "source": [
    "# Let's create the amplifier circuit for three qubits.\n",
    "\n",
    "amplifierCircuit=QuantumCircuit(qr,cr)\n",
    "\n",
    "amplifierCircuit.barrier(qr)\n",
    "amplifierCircuit.h(qr)\n",
    "amplifierCircuit.x(qr)\n",
    "amplifierCircuit.h(qr[2])\n",
    "amplifierCircuit.ccx(qr[0],qr[1],qr[2])\n",
    "amplifierCircuit.h(qr[2])\n",
    "amplifierCircuit.barrier(qr)\n",
    "amplifierCircuit.x(qr)\n",
    "amplifierCircuit.h(qr)\n",
    "\n",
    "display(amplifierCircuit.draw(output=\"mpl\"))"
   ]
  },
  {
   "cell_type": "markdown",
   "metadata": {
    "slideshow": {
     "slide_type": "slide"
    }
   },
   "source": [
    "Now, let's create the quantum circuit that will enclose our oracle and amplifier, add some measurement gates and give it a whirl."
   ]
  },
  {
   "cell_type": "code",
   "execution_count": null,
   "metadata": {
    "slideshow": {
     "slide_type": "fragment"
    }
   },
   "outputs": [],
   "source": [
    "groverCircuit = QuantumCircuit(qr,cr)\n",
    "\n",
    "# Initiate the Grover with Hadamards\n",
    "groverCircuit.h(qr)\n",
    "groverCircuit.barrier(qr)\n",
    "\n",
    "# Add the oracle and the inversion\n",
    "groverCircuit+=oracleCircuit\n",
    "groverCircuit+=amplifierCircuit\n",
    "\n",
    "# Add measurements\n",
    "groverCircuit.measure(qr,cr)\n",
    "print(\"Grover circuit for:\", oracle_type)\n",
    "groverCircuit.draw(output=\"mpl\")"
   ]
  },
  {
   "cell_type": "markdown",
   "metadata": {},
   "source": [
    "Finally, let us run the Grover circuit on the qasm simulator to see if it finds the correct solution."
   ]
  },
  {
   "cell_type": "code",
   "execution_count": null,
   "metadata": {},
   "outputs": [],
   "source": [
    "backend = BasicAer.get_backend('qasm_simulator')\n",
    "shots = 1024\n",
    "results = execute(groverCircuit, backend=backend, shots=shots).result()\n",
    "answer = results.get_counts()\n",
    "print(\"Oracle for: \", oracle_type)\n",
    "display(plot_histogram(answer))"
   ]
  },
  {
   "cell_type": "markdown",
   "metadata": {},
   "source": [
    "**Now it is your turn!** Modify the code in the oracleCircuit box above to create a different Oracle, such as the other example from above: `|111>`. When you have successfully run that circuit and gotten the expected results, try adding a second set of oracleCircuit and amplifierCircuit to set up two iterations instead of one. Does that make a difference in the end results. How about three iterations? More?"
   ]
  },
  {
   "cell_type": "markdown",
   "metadata": {},
   "source": [
    "**For the really curious!** See if you can create the oracleCircuit for the following oracles: `|000>` and `|010>`"
   ]
  },
  {
   "cell_type": "markdown",
   "metadata": {},
   "source": [
    "# Qiskit Aqua Grover algorithm\n",
    "\n",
    "Grover comes built-in with Qiskit Aqua. With Aqua you can use two input types to define the oracle: `LogicalExpressionOracle` and `TruthTableOracle`.\n",
    "\n",
    "An example of a logical expression oracle for the `|100>` oracle above, with the least significant bit (LSB) to the left in the logic:\n",
    "```\n",
    "'(A & ~B & ~C)'\n",
    "```\n",
    "When you use truth table input you create a bit-string that represents the expected output for the oracle. For the `|100>` example, this bit string is:\n",
    "```\n",
    "'00001000'\n",
    "```"
   ]
  },
  {
   "cell_type": "code",
   "execution_count": null,
   "metadata": {},
   "outputs": [],
   "source": [
    "# Do the necessary import for our program\n",
    "from qiskit.aqua.algorithms import Grover\n",
    "from qiskit.aqua.components.oracles import LogicalExpressionOracle, TruthTableOracle\n",
    "from qiskit.compiler import transpile"
   ]
  },
  {
   "cell_type": "markdown",
   "metadata": {},
   "source": [
    "We can now set the oracle method that we want to use, and then provide the logical expression and bitstring."
   ]
  },
  {
   "cell_type": "code",
   "execution_count": null,
   "metadata": {},
   "outputs": [],
   "source": [
    "# set the oracle method: \"Log\" for logical expression or \"Bit\" for bit string. \n",
    "oracle_method = \"Log\" \n",
    "\n",
    "# set the input\n",
    "log_expr = '(~A & ~B & C)' #<- Oracle for |001>\n",
    "bitstr = '00001000'  \n",
    "\n",
    "# build the circuit\n",
    "if oracle_method==\"Log\":\n",
    "    algorithm = Grover(LogicalExpressionOracle(log_expr))\n",
    "    circuit = Grover(LogicalExpressionOracle(log_expr)).construct_circuit()\n",
    "else:\n",
    "    algorithm = Grover(TruthTableOracle(bitstr))\n",
    "    circuit = Grover(TruthTableOracle(bitstr)).construct_circuit()\n",
    "\n",
    "circuit.draw(output=\"mpl\")"
   ]
  },
  {
   "cell_type": "code",
   "execution_count": null,
   "metadata": {},
   "outputs": [],
   "source": [
    "# Run the algorithm on a simulator, printing the most frequently occurring result\n",
    "backend = BasicAer.get_backend('qasm_simulator')\n",
    "\n",
    "result = algorithm.run(backend)\n",
    "print(\"Oracle for:\", oracle_type)\n",
    "print(\"Oracle method:\",oracle_method)\n",
    "print(result['top_measurement'])\n",
    "plot_histogram(result['measurement'])"
   ]
  },
  {
   "cell_type": "markdown",
   "metadata": {},
   "source": [
    "**Your turn!** Modify the logical expression and/or bitstring to realize the `|111>`, `|000>`, and `|010>` oracles from above. Do they produce the same probabilities as your gate circuit Grover? "
   ]
  },
  {
   "cell_type": "markdown",
   "metadata": {},
   "source": [
    "# Taking a look at the Grover circuit, step-by-step\n",
    "\n",
    "Let's take a look at the behavior of our qubits as we walk through the circuit by viewing the unitary matrix for the oracle and amplifier circuits + the state vector in numeric form and with the Q Sphere.\n",
    "\n"
   ]
  },
  {
   "cell_type": "code",
   "execution_count": null,
   "metadata": {},
   "outputs": [],
   "source": [
    "# Import visualization\n",
    "from qiskit.visualization import plot_histogram, plot_bloch_multivector, iplot_bloch_multivector, plot_state_qsphere, iplot_state_qsphere\n",
    "\n",
    "# Add the state vector calculation function\n",
    "def get_psi(circuit, vis): \n",
    "    global psi\n",
    "    backend = BasicAer.get_backend('statevector_simulator') \n",
    "    psi = execute(circuit, backend).result().get_statevector(circuit)\n",
    "    if vis==\"IQ\":\n",
    "        display(iplot_state_qsphere(psi))\n",
    "    elif vis==\"Q\":\n",
    "        display(plot_state_qsphere(psi))\n",
    "    elif vis==\"M\":\n",
    "        print(psi)\n",
    "    elif vis==\"B\":\n",
    "        display(plot_bloch_multivector(psi))\n",
    "    else: # vis=\"IB\"\n",
    "        display(iplot_bloch_multivector(psi))\n",
    "        \n",
    "    vis=\"\""
   ]
  },
  {
   "cell_type": "markdown",
   "metadata": {},
   "source": [
    "## Step 1: Create the circuit\n",
    "\n",
    "Here we create the sircuit and prepare the qubits in a superposition state. The state vector and Q Sphere representions shows us eight possible outcomes with equal probability, as expected."
   ]
  },
  {
   "cell_type": "code",
   "execution_count": null,
   "metadata": {},
   "outputs": [],
   "source": [
    "groverVisCircuit = QuantumCircuit(qr,cr)\n",
    "\n",
    "# initiate the Grover with Hadamards\n",
    "groverVisCircuit.h(qr)\n",
    "groverVisCircuit.barrier(qr)\n",
    "display(groverVisCircuit.draw(output=\"mpl\"))\n",
    "get_psi(groverVisCircuit,\"M\")\n",
    "get_psi(groverVisCircuit,\"Q\")"
   ]
  },
  {
   "cell_type": "markdown",
   "metadata": {},
   "source": [
    "From the state vector, and from the Q Sphere, you can see that the initial circuit would give all possible results from |000> to |111> with equal probability of 12% (0.3535^2)."
   ]
  },
  {
   "cell_type": "markdown",
   "metadata": {},
   "source": [
    "## Step 2: Run the oracle\n",
    "\n",
    "In this step we run the oracle, which flips the oracle state $\\pi$ radians from the other possible states. The flipping is done by the doubly-controlled Z-gate (H+CCX+H in the circuit below). The state vector and Q Sphere shows the opposite phase for the |001> state indicated by a minus sign for the state vector, and a phase colored vector for the Q Sphere. "
   ]
  },
  {
   "cell_type": "code",
   "execution_count": null,
   "metadata": {},
   "outputs": [],
   "source": [
    "# Add the oracle\n",
    "groverVisCircuit+=oracleCircuit\n",
    "\n",
    "display(groverVisCircuit.draw(output=\"mpl\"))\n",
    "\n",
    "# Choose unitary simulator\n",
    "backend = BasicAer.get_backend('unitary_simulator') \n",
    "unit=execute(oracleCircuit, backend).result().get_unitary(oracleCircuit)\n",
    "print(\"Oracle unitary matrix vector:\\n\")\n",
    "print(unit.real)\n",
    "print(\"State vector after oracle:\\n\")\n",
    "\n",
    "get_psi(groverVisCircuit,\"M\")\n",
    "get_psi(groverVisCircuit,\"Q\")"
   ]
  },
  {
   "cell_type": "markdown",
   "metadata": {},
   "source": [
    "Now you can see that the outcome that matches the oracle (|100> has shifted phase. Notice the minus sign in the state vector, and the different color in the Q Sphere."
   ]
  },
  {
   "cell_type": "markdown",
   "metadata": {},
   "source": [
    "## Step 3: Phase amplification\n",
    "\n",
    "Finally, we run the qubits through the phase amplification, where the prepared state is again amplified."
   ]
  },
  {
   "cell_type": "code",
   "execution_count": null,
   "metadata": {
    "scrolled": true
   },
   "outputs": [],
   "source": [
    "# Add the amplifier\n",
    "groverVisCircuit+=amplifierCircuit\n",
    "display(groverVisCircuit.draw(output=\"mpl\"))\n",
    "\n",
    "# Choose unitary simulator\n",
    "backend = BasicAer.get_backend('unitary_simulator') \n",
    "unit_amp=execute(amplifierCircuit, backend).result().get_unitary(amplifierCircuit)\n",
    "print(\"Amplifier unitary matrix vector:\\n\")\n",
    "print(unit_amp.real)\n",
    "print(\"State vector after amplifier:\\n\")\n",
    "\n",
    "get_psi(groverVisCircuit,\"M\")\n",
    "get_psi(groverVisCircuit,\"Q\")"
   ]
  },
  {
   "cell_type": "markdown",
   "metadata": {},
   "source": [
    "This last step produces some dramatic results. We have now reflected the state vectOrder s against the average, which has ballooned the correct answer, and shrunk the non-correct ones. You can see this in the state vection, and in the Q Sphere where one major correct state vector stands out among the incorrect ones."
   ]
  },
  {
   "cell_type": "markdown",
   "metadata": {},
   "source": [
    "## Bonus exercise: Run the oracle on a real quantum computer\n",
    "\n",
    "Use your knowledge from the previous exercises to modify the execution steps in this exercise to run on an actual IBM Q backend."
   ]
  }
 ],
 "metadata": {
  "celltoolbar": "Slideshow",
  "kernelspec": {
   "display_name": "Python 3",
   "language": "python",
   "name": "python3"
  },
  "language_info": {
   "codemirror_mode": {
    "name": "ipython",
    "version": 3
   },
   "file_extension": ".py",
   "mimetype": "text/x-python",
   "name": "python",
   "nbconvert_exporter": "python",
   "pygments_lexer": "ipython3",
   "version": "3.7.3"
  }
 },
 "nbformat": 4,
 "nbformat_minor": 2
}
