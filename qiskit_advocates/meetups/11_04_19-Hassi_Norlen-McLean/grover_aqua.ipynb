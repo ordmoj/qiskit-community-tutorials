{
 "cells": [
  {
   "cell_type": "markdown",
   "metadata": {
    "colab_type": "text",
    "id": "view-in-github"
   },
   "source": [
    "<a href=\"https://colab.research.google.com/github/JavaFXpert/qiskit4devs-workshop-notebooks/blob/master/grover_search_party.ipynb\" target=\"_parent\"><img src=\"https://colab.research.google.com/assets/colab-badge.svg\" alt=\"Open In Colab\"/></a>"
   ]
  },
  {
   "cell_type": "markdown",
   "metadata": {
    "colab_type": "text",
    "id": "AWtng_Jgdkry"
   },
   "source": [
    "## Using Grover search for boolean satisfiability\n",
    "### *Throwing a party while avoiding the drama*\n",
    "\n",
    "Imagine you are inviting some friends to a party, some who are couples, and some who are not on speaking terms. Specifically, **Alice** and **Bob** are in a relationship, as are **Carol** and **David**. However, **Alice** and **David** had a bad breakup a while ago and haven't been civil with each other since. Armed with a quantum computer and Qiskit Aqua, how can you leverage Grover search algorithm to identify friendly combinations of people to invite?\n",
    "\n",
    "Fortunately, Grover search may be used for [boolean satisfiability problems](https://en.wikipedia.org/wiki/Boolean_satisfiability_problem), and the constraints for our party planning problem may be formulated with the following boolean expression:\n",
    "\n",
    "`((A and B) or (C and D)) and not (A and D)`"
   ]
  },
  {
   "cell_type": "code",
   "execution_count": 5,
   "metadata": {
    "colab": {},
    "colab_type": "code",
    "id": "M3JxYNYNFjir"
   },
   "outputs": [],
   "source": [
    "# Do the necessary import for our program\n",
    "#!pip install qiskit-aqua\n",
    "from qiskit import BasicAer\n",
    "from qiskit.aqua.algorithms import Grover\n",
    "from qiskit.aqua.components.oracles import LogicalExpressionOracle, TruthTableOracle\n",
    "from qiskit.tools.visualization import plot_histogram\n",
    "from qiskit.compiler import transpile"
   ]
  },
  {
   "cell_type": "code",
   "execution_count": null,
   "metadata": {},
   "outputs": [],
   "source": []
  },
  {
   "cell_type": "markdown",
   "metadata": {
    "colab_type": "text",
    "id": "FyuHM63TirCA"
   },
   "source": [
    "Let's go ahead and use our expression in a Grover search to find out compatible combinations of people to invite.\n",
    "> Note: We'll represent `and` with `&`, `or` with `|`, `not` with `~` in our expression. "
   ]
  },
  {
   "cell_type": "code",
   "execution_count": 48,
   "metadata": {
    "colab": {},
    "colab_type": "code",
    "id": "vNq_w8OSYhBc"
   },
   "outputs": [
    {
     "name": "stdout",
     "output_type": "stream",
     "text": [
      "          ┌──────────┐ ┌─────────────┐                                        »\n",
      "v_0: |0>──┤ U2(0,pi) ├─┤ U3(pi,0,pi) ├────────────────────■───────────────────»\n",
      "          ├──────────┤ └─────────────┘                    │                   »\n",
      "v_1: |0>──┤ U2(0,pi) ├──────────────────■─────────────────┼────────────────■──»\n",
      "          ├──────────┤                  │                 │                │  »\n",
      "v_2: |0>──┤ U2(0,pi) ├──────────────────┼─────────────────┼────────────────┼──»\n",
      "        ┌─┴──────────┴┐  ┌──────────┐   │                 │                │  »\n",
      "o_0: |0>┤ U3(pi,0,pi) ├──┤ U2(0,pi) ├───┼─────────────────┼────────────────┼──»\n",
      "        └─┬──────────┬┘  ├──────────┤ ┌─┴─┐┌───────────┐┌─┴─┐┌──────────┐┌─┴─┐»\n",
      "a_0: |0>──┤ U2(0,pi) ├───┤ U1(pi/4) ├─┤ X ├┤ U1(-pi/4) ├┤ X ├┤ U1(pi/4) ├┤ X ├»\n",
      "          └──────────┘   └──────────┘ └───┘└───────────┘└───┘└──────────┘└───┘»\n",
      "«                                                                             »\n",
      "«v_0: ────────────────────────────────────────────────────────────────────────»\n",
      "«                                                                             »\n",
      "«v_1: ────────────────────────────────────────────────────────■───────────────»\n",
      "«                                                             │               »\n",
      "«v_2: ───────────────────────────■────────────────────────────┼───────────────»\n",
      "«                              ┌─┴─┐                          │               »\n",
      "«o_0: ─────────────────────────┤ X ├──────────────────────────┼───────────────»\n",
      "«     ┌───────────┐┌──────────┐└─┬─┘┌──────────┐┌──────────┐┌─┴─┐┌───────────┐»\n",
      "«a_0: ┤ U1(-pi/4) ├┤ U2(0,pi) ├──■──┤ U2(0,pi) ├┤ U1(pi/4) ├┤ X ├┤ U1(-pi/4) ├»\n",
      "«     └───────────┘└──────────┘     └──────────┘└──────────┘└───┘└───────────┘»\n",
      "«          ┌─────────────┐           ░      ┌───────────────────────────────┐»\n",
      "«v_0: ──■──┤ U3(pi,0,pi) ├───────────░──────┤ U2(-3.14159265358979 - pi,pi) ├»\n",
      "«       │  └─────────────┘           ░      ├───────────────────────────────┤»\n",
      "«v_1: ──┼───────────────────■────────░──────┤ U2(-3.14159265358979 - pi,pi) ├»\n",
      "«       │                   │        ░      ├───────────────────────────────┤»\n",
      "«v_2: ──┼───────────────────┼────────░──────┤ U2(-3.14159265358979 - pi,pi) ├»\n",
      "«       │                   │        ░      └───────────────────────────────┘»\n",
      "«o_0: ──┼───────────────────┼────────────────────────────────────────────────»\n",
      "«     ┌─┴─┐  ┌──────────┐ ┌─┴─┐┌───────────┐           ┌──────────┐          »\n",
      "«a_0: ┤ X ├──┤ U1(pi/4) ├─┤ X ├┤ U1(-pi/4) ├───────────┤ U2(0,pi) ├──────────»\n",
      "«     └───┘  └──────────┘ └───┘└───────────┘           └──────────┘          »\n",
      "«     ┌─────────────┐                 ┌─────────────┐  ┌──────────┐ »\n",
      "«v_0: ┤ U3(pi,0,pi) ├──────────────■──┤ U3(pi,0,pi) ├──┤ U2(0,pi) ├─»\n",
      "«     ├─────────────┤              │  ├─────────────┤  ├──────────┤ »\n",
      "«v_1: ┤ U3(pi,0,pi) ├──────────────■──┤ U3(pi,0,pi) ├──┤ U2(0,pi) ├─»\n",
      "«     ├─────────────┤┌──────────┐┌─┴─┐└─┬──────────┬┘┌─┴──────────┴┐»\n",
      "«v_2: ┤ U3(pi,0,pi) ├┤ U2(0,pi) ├┤ X ├──┤ U2(0,pi) ├─┤ U3(pi,0,pi) ├»\n",
      "«     └─────────────┘└──────────┘└───┘  └──────────┘ └─────────────┘»\n",
      "«o_0: ──────────────────────────────────────────────────────────────»\n",
      "«                                                                   »\n",
      "«a_0: ──────────────────────────────────────────────────────────────»\n",
      "«                                                                   »\n",
      "«                  ░ \n",
      "«v_0: ─────────────░─\n",
      "«                  ░ \n",
      "«v_1: ─────────────░─\n",
      "«     ┌──────────┐ ░ \n",
      "«v_2: ┤ U2(0,pi) ├─░─\n",
      "«     └──────────┘ ░ \n",
      "«o_0: ───────────────\n",
      "«                    \n",
      "«a_0: ───────────────\n",
      "«                    \n"
     ]
    }
   ],
   "source": [
    "oracle_type = \"Bit\" #<-\"Log\" or \"Bit\"\n",
    "\n",
    "\n",
    "#log_expr = '((A & B) | (C & D)) & ~(A & D) & (F | G)'\n",
    "#log_expr = '(A & B & C)' #<- Oracle for |111>\n",
    "#bitstr = '00000001'\n",
    "\n",
    "#log_expr = '(~A & ~B & ~C)' #<- Oracle for |000>\n",
    "#bitstr = '10000000'\n",
    "\n",
    "#log_expr = '((~A & ~B & ~C) & (A & B & C))' #<- Oracle for |000> + |111>\n",
    "#bitstr = '10000001'\n",
    "\n",
    "log_expr = '(~A & B & C)' #<- Oracle for |110>\n",
    "bitstr = '00000010'\n",
    "\n",
    "\n",
    "if oracle_type==\"Log\":\n",
    "    algorithm = Grover(LogicalExpressionOracle(log_expr))\n",
    "    circuit = Grover(LogicalExpressionOracle(log_expr)).construct_circuit()\n",
    "else:\n",
    "    algorithm = Grover(TruthTableOracle(bitstr))\n",
    "    circuit = Grover(TruthTableOracle(bitstr)).construct_circuit()\n",
    "\n",
    "print(circuit)\n"
   ]
  },
  {
   "cell_type": "markdown",
   "metadata": {
    "colab_type": "text",
    "id": "RhWTThom1qdL"
   },
   "source": [
    "Now we'll run the algorithm on a simulator, printing the result that occurred most often. This result is expressed as the numeric representations of our four friends; a minus sign indicating which ones Grover advised against inviting in that particular result."
   ]
  },
  {
   "cell_type": "code",
   "execution_count": 49,
   "metadata": {
    "colab": {
     "base_uri": "https://localhost:8080/",
     "height": 34
    },
    "colab_type": "code",
    "id": "mZ3O0TclIPG2",
    "outputId": "08ec9888-2cf1-4a8b-eb92-49389961e970"
   },
   "outputs": [
    {
     "name": "stdout",
     "output_type": "stream",
     "text": [
      "110\n",
      "{'001': 26, '110': 806, '111': 24, '101': 38, '100': 27, '000': 32, '010': 33, '011': 38}\n"
     ]
    }
   ],
   "source": [
    "# Run the algorithm on a simulator, printing the most frequently occurring result\n",
    "backend = BasicAer.get_backend('qasm_simulator')\n",
    "\n",
    "result = algorithm.run(backend)\n",
    "print(result['top_measurement'])\n",
    "print(result['measurement'])"
   ]
  },
  {
   "cell_type": "markdown",
   "metadata": {
    "colab_type": "text",
    "id": "sKv4fdR_33yy"
   },
   "source": [
    "Finally, we'll plot the results. Each basis state represents our four friends, with the least significant bit representing Alice. If a bit is 1, then the advice is to invite the person that the bit represents. If the bit is 0, then Grover advises not to send an invitation."
   ]
  },
  {
   "cell_type": "code",
   "execution_count": 50,
   "metadata": {
    "colab": {
     "base_uri": "https://localhost:8080/",
     "height": 351
    },
    "colab_type": "code",
    "id": "OVUlFwGAIkY_",
    "outputId": "70ca0597-f126-46c2-e96a-e48d8492ca10"
   },
   "outputs": [
    {
     "data": {
      "image/png": "[encoded data removed]",
      "text/plain": [
       "<Figure size 504x360 with 1 Axes>"
      ]
     },
     "execution_count": 50,
     "metadata": {},
     "output_type": "execute_result"
    }
   ],
   "source": [
    "plot_histogram(result['measurement'])"
   ]
  },
  {
   "cell_type": "code",
   "execution_count": 38,
   "metadata": {},
   "outputs": [
    {
     "data": {
      "image/png": "[encoded data removed]",
      "text/plain": [
       "<Figure size 457.52x204.68 with 1 Axes>"
      ]
     },
     "metadata": {},
     "output_type": "display_data"
    },
    {
     "data": {
      "image/png": "[encoded data removed]",
      "text/plain": [
       "<Figure size 457.52x204.68 with 1 Axes>"
      ]
     },
     "metadata": {},
     "output_type": "display_data"
    },
    {
     "data": {
      "image/png": "[encoded data removed]",
      "text/plain": [
       "<Figure size 287.756x144.48 with 1 Axes>"
      ]
     },
     "metadata": {},
     "output_type": "display_data"
    },
    {
     "data": {
      "text/html": [
       "<pre style=\"word-wrap: normal;white-space: pre;background: #fff0;line-height: 1.1;font-family: &quot;Courier New&quot;,Courier,monospace\">                ┌────────────────────────┐     ┌────────────────────────┐\n",
       "     (q80) q0|0>┤ U3(pi/1,-1.7682,4.515) ├──■──┤ U3(pi,-0.65478,5.6284) ├\n",
       "                └─┬───────────────────┬──┘┌─┴─┐└──────┬─────────┬───────┘\n",
       "     (q81) q1|0>──┤ U3(pi/2,pi,-pi/1) ├───┤ X ├───────┤ U2(0,0) ├────────\n",
       "                  └───────────────────┘   └───┘       └─────────┘        \n",
       "(ancilla0) q2|0>─────────────────────────────────────────────────────────\n",
       "                                                                         \n",
       "(ancilla1) q3|0>─────────────────────────────────────────────────────────\n",
       "                                                                         \n",
       "(ancilla2) q4|0>─────────────────────────────────────────────────────────\n",
       "                                                                         </pre>"
      ],
      "text/plain": [
       "<qiskit.visualization.text.TextDrawing at 0x12e01d438>"
      ]
     },
     "execution_count": 38,
     "metadata": {},
     "output_type": "execute_result"
    }
   ],
   "source": [
    "\"\"\"Test\"\"\"\n",
    "bitstr_test = '1000'\n",
    "oracle_test = TruthTableOracle(bitstr_test)\n",
    "display(oracle_test.circuit.draw(output='mpl'))\n",
    "\n",
    "\n",
    "expression_test2 = ('(~A & ~B)')\n",
    "oracle_test2 = LogicalExpressionOracle(expression_test2)\n",
    "display(oracle_test2.circuit.draw(output='mpl'))\n",
    "\n",
    "from qiskit.quantum_info.operators import Operator\n",
    "from qiskit import QuantumCircuit, ClassicalRegister, QuantumRegister, IBMQ\n",
    "from qiskit.compiler import transpile\n",
    "%matplotlib inline\n",
    "\n",
    "IBMQ.load_account()\n",
    "provider = IBMQ.load_account()\n",
    "\n",
    "unitary_oracle_0 = Operator([\n",
    "    [1, 0, 0, 0],\n",
    "    [0, -1, 0, 0],\n",
    "    [0, 0, -1, 0],\n",
    "    [0, 0, 0, -1]])\n",
    "\n",
    "qr=QuantumRegister(2)\n",
    "oracle_test3=QuantumCircuit(qr)\n",
    "oracle_test3.append(unitary_oracle_0,qr)\n",
    "display(oracle_test3.draw(output='mpl'))\n",
    "\n",
    "\n",
    "device = provider.get_backend('ibmqx2')\n",
    "trans_test = transpile(oracle_test3, device)\n",
    "trans_test.draw()\n"
   ]
  },
  {
   "cell_type": "code",
   "execution_count": null,
   "metadata": {},
   "outputs": [],
   "source": [
    "trans_bell2 = transpile(bell2, device)\n",
    "trans_bell2.draw()"
   ]
  },
  {
   "cell_type": "code",
   "execution_count": null,
   "metadata": {},
   "outputs": [],
   "source": [
    "help(Grover)\n"
   ]
  },
  {
   "cell_type": "markdown",
   "metadata": {
    "colab_type": "text",
    "id": "qlHiKXnCCYMn"
   },
   "source": [
    "#### Now it's you're turn to play!\n",
    "\n",
    "Create and implement your own scenario that can be modeled as a boolean satisfiability problem using Grover search. Have fun with it, and carry on with your quantum computing journey!"
   ]
  }
 ],
 "metadata": {
  "colab": {
   "collapsed_sections": [],
   "include_colab_link": true,
   "name": "grover_search_party.ipynb",
   "provenance": [],
   "version": "0.3.2"
  },
  "kernelspec": {
   "display_name": "Python 3",
   "language": "python",
   "name": "python3"
  },
  "language_info": {
   "codemirror_mode": {
    "name": "ipython",
    "version": 3
   },
   "file_extension": ".py",
   "mimetype": "text/x-python",
   "name": "python",
   "nbconvert_exporter": "python",
   "pygments_lexer": "ipython3",
   "version": "3.7.3"
  }
 },
 "nbformat": 4,
 "nbformat_minor": 1
}
