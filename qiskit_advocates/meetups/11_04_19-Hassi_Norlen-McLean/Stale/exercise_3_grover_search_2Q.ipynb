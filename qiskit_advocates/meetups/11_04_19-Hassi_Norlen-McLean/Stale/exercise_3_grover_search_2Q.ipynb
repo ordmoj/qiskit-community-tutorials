{
 "cells": [
  {
   "cell_type": "markdown",
   "metadata": {
    "slideshow": {
     "slide_type": "slide"
    }
   },
   "source": [
    "# Grover's search algorithm\n",
    "Grover's search algorithm is one of the more straightforward quantum algorithms for solving an actual problem using quantum computing quadratically faster than its classical counterpart. This exercise is losely based on the [Grover's algorithm and its Qiskit implementation Qiskit tutorial](https://quantum-computing.ibm.com/support/guides/quantum-algorithms-with-qiskit?page=5cc0d9fd86b50d00642353ca#experiment-with-simulators), which goes inte greater detail regarding the implementation and theory.\n",
    "\n",
    "A good read on understanding Grover, from Scott Aaronson: https://www.scottaaronson.com/qclec/22.pdf\n",
    "\n",
    "What we will demonstrate is an unstructured search of a database, using the so called amplitude magnification trick."
   ]
  },
  {
   "cell_type": "markdown",
   "metadata": {
    "slideshow": {
     "slide_type": "subslide"
    }
   },
   "source": [
    "Let's start by importing the required methods."
   ]
  },
  {
   "cell_type": "code",
   "execution_count": 74,
   "metadata": {
    "slideshow": {
     "slide_type": "fragment"
    }
   },
   "outputs": [],
   "source": [
    "# Importing Qiskit\n",
    "from qiskit import IBMQ, BasicAer\n",
    "from qiskit import QuantumCircuit, ClassicalRegister, QuantumRegister, execute\n",
    "from qiskit.providers.ibmq import least_busy\n",
    "\n",
    "from math import pi\n",
    "\n",
    "# Import basic plot tools\n",
    "from qiskit.tools.visualization import plot_histogram"
   ]
  },
  {
   "cell_type": "markdown",
   "metadata": {},
   "source": [
    "# Qiskit Terra Grover implementation\n",
    "In Qiskit terra we can create a Grover implementation using for example a phase oracle, which in combination with a phase ... inversion about average increases the amplitude of the \"correct\" answer according to the oracle.\n",
    "\n"
   ]
  },
  {
   "cell_type": "markdown",
   "metadata": {},
   "source": [
    "## Examples\n",
    "\n",
    "Oracle for: | 100 >\n",
    "<code>                                  \n",
    "     ┌───┐     ┌───┐\n",
    "q_0: ┤ X ├──■──┤ X ├\n",
    "     ├───┤  │  ├───┤\n",
    "q_1: ┤ X ├──■──┤ X ├\n",
    "     ├───┤┌─┴─┐├───┤\n",
    "q_2: ┤ H ├┤ X ├┤ H ├\n",
    "     └───┘└───┘└───┘\n",
    "</code>\n",
    "\n",
    "Oracle for: | 111 >\n",
    "\n",
    "<code>                        \n",
    "q_0: ───────■───────\n",
    "            │           \n",
    "q_1: ───────■───────\n",
    "     ┌───┐┌─┴─┐┌───┐\n",
    "q_2: ┤ H ├┤ X ├┤ H ├\n",
    "     └───┘└───┘└───┘\n",
    "</code>\n",
    "\n",
    "For this exercise we created a 3-qubit Oracle circuit for the |100> oracle that we can then add to our Grover circuit."
   ]
  },
  {
   "cell_type": "code",
   "execution_count": 108,
   "metadata": {
    "slideshow": {
     "slide_type": "slide"
    }
   },
   "outputs": [
    {
     "data": {
      "image/png": "[encoded data removed]",
      "text/plain": [
       "<Figure size 358.792x264.88 with 1 Axes>"
      ]
     },
     "metadata": {},
     "output_type": "display_data"
    },
    {
     "name": "stdout",
     "output_type": "stream",
     "text": [
      "Oracle unitary matrix vector:\n",
      "\n",
      "[[ 0.          0.          0.          0.70710678  0.          0.\n",
      "   0.          0.70710678]\n",
      " [ 0.          0.          0.70710678  0.          0.          0.\n",
      "   0.70710678  0.        ]\n",
      " [ 0.          0.70710678  0.          0.          0.          0.70710678\n",
      "   0.          0.        ]\n",
      " [-0.70710678  0.          0.          0.          0.70710678  0.\n",
      "   0.          0.        ]\n",
      " [ 0.          0.          0.         -0.70710678  0.          0.\n",
      "   0.          0.70710678]\n",
      " [ 0.          0.         -0.70710678  0.          0.          0.\n",
      "   0.70710678  0.        ]\n",
      " [ 0.         -0.70710678  0.          0.          0.          0.70710678\n",
      "   0.          0.        ]\n",
      " [ 0.70710678  0.          0.          0.          0.70710678  0.\n",
      "   0.          0.        ]]\n"
     ]
    }
   ],
   "source": [
    "qr = QuantumRegister(3)\n",
    "cr = ClassicalRegister(2)\n",
    "oracleCircuit=QuantumCircuit(qr,cr)\n",
    "\n",
    "\n",
    "oracle_type=\"|100>\"\n",
    "oracleCircuit.x(qr[0])\n",
    "oracleCircuit.x(qr[1])\n",
    "oracleCircuit.x(qr[2])\n",
    "oracleCircuit.h(qr[2])\n",
    "oracleCircuit.ccx(qr[0],qr[1],qr[2])\n",
    "#oracleCircuit.x(qr[1])\n",
    "#oracleCircuit.h(qr[2]) \n",
    "#oracleCircuit.x(qr[0]) \n",
    "\n",
    "display(oracleCircuit.draw(output=\"mpl\"))\n",
    "\n",
    "# Choose unitary simulator\n",
    "backend = BasicAer.get_backend('unitary_simulator') \n",
    "unit=execute(oracleCircuit, backend).result().get_unitary(oracleCircuit)\n",
    "print(\"Oracle unitary matrix vector:\\n\")\n",
    "print(unit.real)\n"
   ]
  },
  {
   "cell_type": "markdown",
   "metadata": {},
   "source": [
    "We also create an amplifier circuit that is used to boost the phase of the correct solution."
   ]
  },
  {
   "cell_type": "code",
   "execution_count": 104,
   "metadata": {},
   "outputs": [
    {
     "data": {
      "image/png": "[encoded data removed]",
      "text/plain": [
       "<Figure size 780.192x264.88 with 1 Axes>"
      ]
     },
     "metadata": {},
     "output_type": "display_data"
    }
   ],
   "source": [
    "amplifierCircuit=QuantumCircuit(qr,cr)\n",
    "\n",
    "amplifierCircuit.barrier(qr[0],qr[1])\n",
    "amplifierCircuit.h(qr[0])\n",
    "amplifierCircuit.h(qr[1])\n",
    "amplifierCircuit.x(qr[0])\n",
    "amplifierCircuit.x(qr[1])\n",
    "amplifierCircuit.h(qr[1])\n",
    "amplifierCircuit.cx(qr[0],qr[1])\n",
    "amplifierCircuit.h(qr[1])\n",
    "amplifierCircuit.barrier(qr[0],qr[1])\n",
    "amplifierCircuit.u2(-2*pi,pi, qr[0])\n",
    "amplifierCircuit.u2(-2*pi,pi, qr[1])\n",
    "amplifierCircuit.x(qr[0])\n",
    "amplifierCircuit.x(qr[1])\n",
    "\n",
    "display(amplifierCircuit.draw(output=\"mpl\"))"
   ]
  },
  {
   "cell_type": "markdown",
   "metadata": {
    "slideshow": {
     "slide_type": "slide"
    }
   },
   "source": [
    "Now, let's create the quantum circuit that will enclose our oracle and amplifier, add some measurement gates and give it a whirl."
   ]
  },
  {
   "cell_type": "code",
   "execution_count": 105,
   "metadata": {
    "slideshow": {
     "slide_type": "fragment"
    }
   },
   "outputs": [
    {
     "name": "stdout",
     "output_type": "stream",
     "text": [
      "Grover circuit for: |100>\n"
     ]
    },
    {
     "data": {
      "image/png": "[encoded data removed]",
      "text/plain": [
       "<Figure size 1201.59x264.88 with 1 Axes>"
      ]
     },
     "execution_count": 105,
     "metadata": {},
     "output_type": "execute_result"
    }
   ],
   "source": [
    "groverCircuit = QuantumCircuit(qr,cr)\n",
    "\n",
    "# initiate the Grover with Hadamards\n",
    "groverCircuit.h(qr[0])\n",
    "groverCircuit.h(qr[1])\n",
    "groverCircuit.barrier(qr)\n",
    "\n",
    "# add the oracle and the inversion\n",
    "groverCircuit+=oracleCircuit\n",
    "groverCircuit+=amplifierCircuit\n",
    "\n",
    "# add measurements\n",
    "groverCircuit.measure(qr[0],cr[0])\n",
    "groverCircuit.measure(qr[1],cr[1])\n",
    "print(\"Grover circuit for:\", oracle_type)\n",
    "groverCircuit.draw(output=\"mpl\")"
   ]
  },
  {
   "cell_type": "markdown",
   "metadata": {},
   "source": [
    "Finally, let us run the Grover circuit on the qasm simulator to see if it finds the correct solution."
   ]
  },
  {
   "cell_type": "code",
   "execution_count": 106,
   "metadata": {},
   "outputs": [
    {
     "name": "stdout",
     "output_type": "stream",
     "text": [
      "Oracle for:  |100>\n"
     ]
    },
    {
     "data": {
      "image/png": "[encoded data removed]",
      "text/plain": [
       "<Figure size 504x360 with 1 Axes>"
      ]
     },
     "metadata": {},
     "output_type": "display_data"
    }
   ],
   "source": [
    "backend = BasicAer.get_backend('qasm_simulator')\n",
    "shots = 1024\n",
    "results = execute(groverCircuit, backend=backend, shots=shots).result()\n",
    "answer = results.get_counts()\n",
    "print(\"Oracle for: \", oracle_type)\n",
    "display(plot_histogram(answer))"
   ]
  },
  {
   "cell_type": "markdown",
   "metadata": {},
   "source": [
    "**Now it is your turn!** Modify the code in the oracleCircuit box above to create a different Oracle, such as the other example from above: `|111>`. When you have successfully run that circuit and gotten the expected results, try adding a second set of oracleCircuit and amplifierCircuit to set up two iterations instead of one. Does that make a difference in the end results. How about three iterations?"
   ]
  },
  {
   "cell_type": "markdown",
   "metadata": {},
   "source": [
    "**For the really curious!** See if you can create the oracleCircuit for the following oracles: `|000>` and `|010>`"
   ]
  },
  {
   "cell_type": "markdown",
   "metadata": {},
   "source": [
    "# Qiskit Aqua Grover algorithm\n",
    "\n",
    "Grover comes built-in with Qiskit Aqua. With Aqua you can use two input types to define the oracle: `LogicalExpressionOracle` and `TruthTableOracle`.\n",
    "\n",
    "An example of a logical expression oracle for the `|001>` oracle above is (with the LSB to the left in the logic):\n",
    "```\n",
    "'(A & ~B & ~C)'\n",
    "```\n",
    "When you use truth table input you create a bit-string that represents the expected output for the oracle. For the `|001>` example, this bit string is:\n",
    "```\n",
    "'01000000'\n",
    "```"
   ]
  },
  {
   "cell_type": "code",
   "execution_count": 29,
   "metadata": {},
   "outputs": [],
   "source": [
    "# Do the necessary import for our program\n",
    "from qiskit.aqua.algorithms import Grover\n",
    "from qiskit.aqua.components.oracles import LogicalExpressionOracle, TruthTableOracle\n",
    "from qiskit.compiler import transpile"
   ]
  },
  {
   "cell_type": "markdown",
   "metadata": {},
   "source": [
    "We can now set the oracle method that we want to use, and then provide the logical expression and bitstring."
   ]
  },
  {
   "cell_type": "code",
   "execution_count": 30,
   "metadata": {},
   "outputs": [
    {
     "data": {
      "image/png": "[encoded data removed]",
      "text/plain": [
       "<Figure size 1360.52x204.68 with 1 Axes>"
      ]
     },
     "execution_count": 30,
     "metadata": {},
     "output_type": "execute_result"
    }
   ],
   "source": [
    "# set the oracle method: \"Log\" for logical expression or \"Bit\" for bit string. \n",
    "oracle_method = \"Log\" \n",
    "\n",
    "# set the input\n",
    "log_expr = '(A & B)' #<- Oracle for |001>\n",
    "bitstr = '0001'  \n",
    "\n",
    "# build the circuit\n",
    "if oracle_method==\"Log\":\n",
    "    algorithm = Grover(LogicalExpressionOracle(log_expr))\n",
    "    circuit = Grover(LogicalExpressionOracle(log_expr)).construct_circuit()\n",
    "else:\n",
    "    algorithm = Grover(TruthTableOracle(bitstr))\n",
    "    circuit = Grover(TruthTableOracle(bitstr)).construct_circuit()\n",
    "\n",
    "circuit.draw(output=\"mpl\")"
   ]
  },
  {
   "cell_type": "code",
   "execution_count": 31,
   "metadata": {},
   "outputs": [
    {
     "name": "stdout",
     "output_type": "stream",
     "text": [
      "Oracle for: |100>\n",
      "Oracle method: Log\n",
      "11\n"
     ]
    },
    {
     "data": {
      "image/png": "[encoded data removed]",
      "text/plain": [
       "<Figure size 504x360 with 1 Axes>"
      ]
     },
     "execution_count": 31,
     "metadata": {},
     "output_type": "execute_result"
    }
   ],
   "source": [
    "# Run the algorithm on a simulator, printing the most frequently occurring result\n",
    "backend = BasicAer.get_backend('qasm_simulator')\n",
    "\n",
    "result = algorithm.run(backend)\n",
    "print(\"Oracle for:\", oracle_type)\n",
    "print(\"Oracle method:\",oracle_method)\n",
    "print(result['top_measurement'])\n",
    "plot_histogram(result['measurement'])"
   ]
  },
  {
   "cell_type": "markdown",
   "metadata": {},
   "source": [
    "**Your turn!** Modify the logical expression and/or bitstring to realize the `|111>`, `|000>`, and `|010>` oracles from above. Do they produce the same probabilities as your gate circuit Grover? "
   ]
  },
  {
   "cell_type": "markdown",
   "metadata": {},
   "source": [
    "# Taking a look at the Grover circuit, step-by-step\n",
    "\n",
    "Let's take a look at the behavior of our qubits as we walk through the circuit by viewing the unitary matrix for the oracle and amplifier circuits + the state vector in numeric form and with the Q Sphere.\n",
    "\n"
   ]
  },
  {
   "cell_type": "code",
   "execution_count": 64,
   "metadata": {},
   "outputs": [],
   "source": [
    "# Import visualization\n",
    "from qiskit.visualization import plot_histogram, plot_bloch_multivector, iplot_bloch_multivector, plot_state_qsphere, iplot_state_qsphere\n",
    "\n",
    "# Add the state vector calculation function\n",
    "def get_psi(circuit, vis=\"B\"): \n",
    "    global psi\n",
    "    backend = BasicAer.get_backend('statevector_simulator') \n",
    "    psi = execute(circuit, backend).result().get_statevector(circuit)\n",
    "    print(\"State vector:\\n\")\n",
    "    print(psi)\n",
    "    if vis==\"Q\":\n",
    "        display(iplot_state_qsphere(psi))\n",
    "    elif vis==\"q\":\n",
    "        display(plot_state_qsphere(psi))\n",
    "    elif vis==\"M\":\n",
    "        print(psi)\n",
    "    elif vis==\"b\":\n",
    "        display(plot_state_qsphere(psi))\n",
    "    else: # vis=\"B\"\n",
    "        display(iplot_bloch_multivector(psi))\n",
    "    \n",
    "    vis=\"\""
   ]
  },
  {
   "cell_type": "markdown",
   "metadata": {},
   "source": [
    "## Step 1: Create the circuit\n",
    "\n",
    "Here we create the sircuit and prepare the qubits in a superposition state. The state vector and Q Sphere representions shows us eight possible outcomes with equal probability, as expected."
   ]
  },
  {
   "cell_type": "code",
   "execution_count": 65,
   "metadata": {},
   "outputs": [
    {
     "data": {
      "image/png": "[encoded data removed]",
      "text/plain": [
       "<Figure size 298.592x264.88 with 1 Axes>"
      ]
     },
     "metadata": {},
     "output_type": "display_data"
    },
    {
     "name": "stdout",
     "output_type": "stream",
     "text": [
      "State vector:\n",
      "\n",
      "[0.35355339+0.j 0.35355339+0.j 0.35355339+0.j 0.35355339+0.j\n",
      " 0.35355339+0.j 0.35355339+0.j 0.35355339+0.j 0.35355339+0.j]\n"
     ]
    },
    {
     "data": {
      "text/html": [
       "\n",
       "    <p>\n",
       "        <div id=\"content_15723096432940202\" style=\"position: absolute; z-index: 1;\">\n",
       "            <div id=\"qsphere_15723096432940202\"></div>\n",
       "        </div>\n",
       "    </p>\n",
       "    \n",
       "    <script>\n",
       "        requirejs.config({\n",
       "            paths: {\n",
       "                qVisualization: \"https://qvisualization.mybluemix.net/q-visualizations\"\n",
       "            }\n",
       "        });\n",
       "        require([\"qVisualization\"], function(qVisualizations) {\n",
       "            data = [{'points': [{'x': 0.0, 'y': 0.0, 'z': 1.0, 'prob': 0.12500000000000003, 'phase': 0.0}, {'x': 0.9428090415820634, 'y': 0.0, 'z': 0.33333333333333337, 'prob': 0.1249999999999999, 'phase': 0.0}, {'x': -0.47140452079103146, 'y': 0.8164965809277261, 'z': 0.33333333333333337, 'prob': 0.12499999999999994, 'phase': 0.0}, {'x': 0.9428090415820634, 'y': 0.0, 'z': -0.33333333333333326, 'prob': 0.12499999999999994, 'phase': 0.0}, {'x': -0.4714045207910321, 'y': -0.8164965809277258, 'z': 0.33333333333333337, 'prob': 0.12499999999999994, 'phase': 0.0}, {'x': -0.47140452079103146, 'y': 0.8164965809277261, 'z': -0.33333333333333326, 'prob': 0.12499999999999994, 'phase': 0.0}, {'x': -0.4714045207910321, 'y': -0.8164965809277258, 'z': -0.33333333333333326, 'prob': 0.12499999999999994, 'phase': 0.0}, {'x': 0.0, 'y': 0.0, 'z': -1.0, 'prob': 0.1249999999999999, 'phase': 0.0}], 'eigenvalue': 0.9999999999999999}];\n",
       "            qVisualizations.plotState(\"qsphere_15723096432940202\",\n",
       "                                      \"qsphere\",\n",
       "                                      data,\n",
       "                                      {});\n",
       "        });\n",
       "    </script>\n",
       "\n",
       "    "
      ],
      "text/plain": [
       "<IPython.core.display.HTML object>"
      ]
     },
     "metadata": {},
     "output_type": "display_data"
    },
    {
     "data": {
      "text/plain": [
       "None"
      ]
     },
     "metadata": {},
     "output_type": "display_data"
    }
   ],
   "source": [
    "groverVisCircuit = QuantumCircuit(qr,cr)\n",
    "\n",
    "# initiate the Grover with Hadamards\n",
    "groverVisCircuit.h(qr)\n",
    "groverVisCircuit.barrier(qr)\n",
    "display(groverVisCircuit.draw(output=\"mpl\"))\n",
    "get_psi(groverVisCircuit,\"Q\")"
   ]
  },
  {
   "cell_type": "markdown",
   "metadata": {},
   "source": [
    "## Step 2: Run the oracle\n",
    "\n",
    "In this step we run the oracle, which flips the oracle state $\\pi$ radians from the other possible states. The flipping is done by the doubly-controlled Z-gate (H+CCX+H in the circuit below). The state vector and Q Sphere shows the opposite phase for the |001> state indicated by a minus sign for the state vector, and a phase colored vector for the Q Sphere. "
   ]
  },
  {
   "cell_type": "code",
   "execution_count": 66,
   "metadata": {},
   "outputs": [
    {
     "data": {
      "image/png": "[encoded data removed]",
      "text/plain": [
       "<Figure size 539.392x264.88 with 1 Axes>"
      ]
     },
     "metadata": {},
     "output_type": "display_data"
    },
    {
     "name": "stdout",
     "output_type": "stream",
     "text": [
      "Oracle unitary matrix vector:\n",
      "\n",
      "[[ 0.70710678  0.          0.          0.          0.70710678  0.\n",
      "   0.          0.        ]\n",
      " [ 0.          0.70710678  0.          0.          0.          0.70710678\n",
      "   0.          0.        ]\n",
      " [ 0.          0.         -0.70710678  0.          0.          0.\n",
      "   0.70710678  0.        ]\n",
      " [ 0.          0.          0.          0.70710678  0.          0.\n",
      "   0.          0.70710678]\n",
      " [-0.70710678  0.          0.          0.          0.70710678  0.\n",
      "   0.          0.        ]\n",
      " [ 0.         -0.70710678  0.          0.          0.          0.70710678\n",
      "   0.          0.        ]\n",
      " [ 0.          0.          0.70710678  0.          0.          0.\n",
      "   0.70710678  0.        ]\n",
      " [ 0.          0.          0.         -0.70710678  0.          0.\n",
      "   0.          0.70710678]]\n",
      "State vector:\n",
      "\n",
      "[0.5+0.j 0.5+0.j 0. +0.j 0.5+0.j 0. +0.j 0. +0.j 0.5+0.j 0. +0.j]\n"
     ]
    },
    {
     "data": {
      "text/html": [
       "\n",
       "    <p>\n",
       "        <div id=\"content_15723096685910459\" style=\"position: absolute; z-index: 1;\">\n",
       "            <div id=\"qsphere_15723096685910459\"></div>\n",
       "        </div>\n",
       "    </p>\n",
       "    \n",
       "    <script>\n",
       "        requirejs.config({\n",
       "            paths: {\n",
       "                qVisualization: \"https://qvisualization.mybluemix.net/q-visualizations\"\n",
       "            }\n",
       "        });\n",
       "        require([\"qVisualization\"], function(qVisualizations) {\n",
       "            data = [{'points': [{'x': 0.0, 'y': 0.0, 'z': 1.0, 'prob': 0.24999999999999994, 'phase': 0.0}, {'x': 0.9428090415820634, 'y': 0.0, 'z': 0.33333333333333337, 'prob': 0.25, 'phase': 0.0}, {'x': -0.47140452079103146, 'y': 0.8164965809277261, 'z': 0.33333333333333337, 'prob': 0.0, 'phase': 0.0}, {'x': 0.9428090415820634, 'y': 0.0, 'z': -0.33333333333333326, 'prob': 0.2499999999999999, 'phase': 0.0}, {'x': -0.4714045207910321, 'y': -0.8164965809277258, 'z': 0.33333333333333337, 'prob': 0.0, 'phase': 0.0}, {'x': -0.47140452079103146, 'y': 0.8164965809277261, 'z': -0.33333333333333326, 'prob': 0.0, 'phase': 0.0}, {'x': -0.4714045207910321, 'y': -0.8164965809277258, 'z': -0.33333333333333326, 'prob': 0.25, 'phase': 0.0}, {'x': 0.0, 'y': 0.0, 'z': -1.0, 'prob': 0.0, 'phase': 0.0}], 'eigenvalue': 0.9999999999999999}];\n",
       "            qVisualizations.plotState(\"qsphere_15723096685910459\",\n",
       "                                      \"qsphere\",\n",
       "                                      data,\n",
       "                                      {});\n",
       "        });\n",
       "    </script>\n",
       "\n",
       "    "
      ],
      "text/plain": [
       "<IPython.core.display.HTML object>"
      ]
     },
     "metadata": {},
     "output_type": "display_data"
    },
    {
     "data": {
      "text/plain": [
       "None"
      ]
     },
     "metadata": {},
     "output_type": "display_data"
    }
   ],
   "source": [
    "# add the oracle\n",
    "groverVisCircuit+=oracleCircuit\n",
    "\n",
    "display(groverVisCircuit.draw(output=\"mpl\"))\n",
    "\n",
    "# Choose unitary simulator\n",
    "backend = BasicAer.get_backend('unitary_simulator') \n",
    "unit=execute(oracleCircuit, backend).result().get_unitary(oracleCircuit)\n",
    "print(\"Oracle unitary matrix vector:\\n\")\n",
    "print(unit.real)\n",
    "\n",
    "get_psi(groverVisCircuit,\"Q\")"
   ]
  },
  {
   "cell_type": "markdown",
   "metadata": {},
   "source": [
    "## Step 3: Phase amplification\n",
    "\n",
    "Finally, we run the qubits through the phase amplification, where the prepared state is again amplified."
   ]
  },
  {
   "cell_type": "code",
   "execution_count": 67,
   "metadata": {
    "scrolled": true
   },
   "outputs": [
    {
     "data": {
      "image/png": "[encoded data removed]",
      "text/plain": [
       "<Figure size 1081.19x264.88 with 1 Axes>"
      ]
     },
     "metadata": {},
     "output_type": "display_data"
    },
    {
     "name": "stdout",
     "output_type": "stream",
     "text": [
      "Amplifier unitary matrix vector:\n",
      "\n",
      "[[-0.5 -0.5 -0.5  0.5  0.   0.   0.   0. ]\n",
      " [ 0.5  0.5 -0.5  0.5  0.   0.   0.   0. ]\n",
      " [ 0.5 -0.5  0.5  0.5  0.   0.   0.   0. ]\n",
      " [ 0.5 -0.5 -0.5 -0.5  0.   0.   0.   0. ]\n",
      " [ 0.   0.   0.   0.  -0.5 -0.5 -0.5  0.5]\n",
      " [ 0.   0.   0.   0.   0.5  0.5 -0.5  0.5]\n",
      " [ 0.   0.   0.   0.   0.5 -0.5  0.5  0.5]\n",
      " [ 0.   0.   0.   0.   0.5 -0.5 -0.5 -0.5]]\n",
      "State vector:\n",
      "\n",
      "[-0.25+0.j  0.75+0.j  0.25+0.j -0.25+0.j -0.25+0.j -0.25+0.j  0.25+0.j\n",
      " -0.25+0.j]\n"
     ]
    },
    {
     "data": {
      "text/html": [
       "\n",
       "    <p>\n",
       "        <div id=\"content_1572309693912027\" style=\"position: absolute; z-index: 1;\">\n",
       "            <div id=\"qsphere_1572309693912027\"></div>\n",
       "        </div>\n",
       "    </p>\n",
       "    \n",
       "    <script>\n",
       "        requirejs.config({\n",
       "            paths: {\n",
       "                qVisualization: \"https://qvisualization.mybluemix.net/q-visualizations\"\n",
       "            }\n",
       "        });\n",
       "        require([\"qVisualization\"], function(qVisualizations) {\n",
       "            data = [{'points': [{'x': 0.0, 'y': 0.0, 'z': 1.0, 'prob': 0.06249999999999993, 'phase': 3.141592653589793}, {'x': 0.9428090415820634, 'y': 0.0, 'z': 0.33333333333333337, 'prob': 0.5625, 'phase': 0.0}, {'x': -0.47140452079103146, 'y': 0.8164965809277261, 'z': 0.33333333333333337, 'prob': 0.06249999999999997, 'phase': 0.0}, {'x': 0.9428090415820634, 'y': 0.0, 'z': -0.33333333333333326, 'prob': 0.06249999999999992, 'phase': 3.141592653589793}, {'x': -0.4714045207910321, 'y': -0.8164965809277258, 'z': 0.33333333333333337, 'prob': 0.06249999999999997, 'phase': 3.141592653589793}, {'x': -0.47140452079103146, 'y': 0.8164965809277261, 'z': -0.33333333333333326, 'prob': 0.06250000000000011, 'phase': 3.141592653589793}, {'x': -0.4714045207910321, 'y': -0.8164965809277258, 'z': -0.33333333333333326, 'prob': 0.06249999999999997, 'phase': 0.0}, {'x': 0.0, 'y': 0.0, 'z': -1.0, 'prob': 0.062499999999999986, 'phase': 3.141592653589793}], 'eigenvalue': 1.0000000000000004}];\n",
       "            qVisualizations.plotState(\"qsphere_1572309693912027\",\n",
       "                                      \"qsphere\",\n",
       "                                      data,\n",
       "                                      {});\n",
       "        });\n",
       "    </script>\n",
       "\n",
       "    "
      ],
      "text/plain": [
       "<IPython.core.display.HTML object>"
      ]
     },
     "metadata": {},
     "output_type": "display_data"
    },
    {
     "data": {
      "text/plain": [
       "None"
      ]
     },
     "metadata": {},
     "output_type": "display_data"
    }
   ],
   "source": [
    "# add the inversion\n",
    "groverVisCircuit+=amplifierCircuit\n",
    "display(groverVisCircuit.draw(output=\"mpl\"))\n",
    "\n",
    "# Choose unitary simulator\n",
    "backend = BasicAer.get_backend('unitary_simulator') \n",
    "unit_amp=execute(amplifierCircuit, backend).result().get_unitary(amplifierCircuit)\n",
    "print(\"Amplifier unitary matrix vector:\\n\")\n",
    "print(unit_amp.real)\n",
    "\n",
    "get_psi(groverVisCircuit,\"Q\")"
   ]
  },
  {
   "cell_type": "markdown",
   "metadata": {},
   "source": [
    "## Bonus exercise: Run the oracle on a real quantum computer\n",
    "\n",
    "Use your knowledge from the previous exercises to modify the execution steps in this exercise to run on an actual IBM Q backend."
   ]
  }
 ],
 "metadata": {
  "celltoolbar": "Slideshow",
  "kernelspec": {
   "display_name": "Python 3",
   "language": "python",
   "name": "python3"
  },
  "language_info": {
   "codemirror_mode": {
    "name": "ipython",
    "version": 3
   },
   "file_extension": ".py",
   "mimetype": "text/x-python",
   "name": "python",
   "nbconvert_exporter": "python",
   "pygments_lexer": "ipython3",
   "version": "3.7.3"
  }
 },
 "nbformat": 4,
 "nbformat_minor": 2
}
