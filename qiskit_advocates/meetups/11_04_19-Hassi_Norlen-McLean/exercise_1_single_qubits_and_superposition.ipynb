{
 "cells": [
  {
   "cell_type": "markdown",
   "metadata": {
    "slideshow": {
     "slide_type": "slide"
    }
   },
   "source": [
    "# Coin toss quantum circuit\n",
    "In this exercise we create a quantum circuit that simulates the probabilistic nature of a single qubit in superposition. The one qubit circuit initializes the qubit in the ground state $|0\\rangle$ and then uses a Hadamard gate to put the qubit in superposition $|\\psi\\rangle = \\left(|0\\rangle+|1\\rangle\\right)/\\sqrt{2}.$  \n",
    "Measuring the qubit causes it to collapse into one of the states $|0\\rangle$ or $|1\\rangle$ with a 50% probability, i.e. a coin toss.   \n",
    "In this exercise we introduce the Hadamard gate, which puts a qubit in superposition.\n",
    "```\n",
    "        ┌───┐  \n",
    "q_0: |0>┤ H ├  \n",
    "        └───┘  \n",
    "```\n"
   ]
  },
  {
   "cell_type": "code",
   "execution_count": 45,
   "metadata": {
    "slideshow": {
     "slide_type": "fragment"
    }
   },
   "outputs": [],
   "source": [
    "from qiskit import QuantumCircuit, execute, Aer\n",
    "\n",
    "# Import Blochsphere visualization\n",
    "from qiskit.visualization import plot_bloch_multivector, iplot_bloch_multivector, plot_histogram"
   ]
  },
  {
   "cell_type": "markdown",
   "metadata": {
    "slideshow": {
     "slide_type": "slide"
    }
   },
   "source": [
    "As we will be using the Bloch sphere visualization (`plot_bloch_multivector`) a bit, here's a quick function that calculates the state vector ($|\\psi\\rangle$) for the circuit to let you display the Bloch vector for any given state.\n"
   ]
  },
  {
   "cell_type": "code",
   "execution_count": 46,
   "metadata": {
    "slideshow": {
     "slide_type": "fragment"
    }
   },
   "outputs": [],
   "source": [
    "def get_psi(circuit): \n",
    "    global psi\n",
    "    backend = Aer.get_backend('statevector_simulator') \n",
    "    psi = execute(circuit, backend).result().get_statevector(circuit)\n",
    "    display(iplot_bloch_multivector(psi))"
   ]
  },
  {
   "cell_type": "markdown",
   "metadata": {
    "slideshow": {
     "slide_type": "slide"
    }
   },
   "source": [
    "Create an empty quantum circuit. We start out with the qubit in the $|0\\rangle$ state."
   ]
  },
  {
   "cell_type": "code",
   "execution_count": 47,
   "metadata": {
    "slideshow": {
     "slide_type": "fragment"
    }
   },
   "outputs": [
    {
     "name": "stdout",
     "output_type": "stream",
     "text": [
      "        \n",
      "q_0: |0>\n",
      "        \n",
      " c_0: 0 \n",
      "        \n"
     ]
    },
    {
     "data": {
      "text/html": [
       "\n",
       "    <p>\n",
       "        <div id=\"content_15716078930477388\" style=\"position: absolute; z-index: 1;\">\n",
       "            <div id=\"bloch_15716078930477388\"></div>\n",
       "        </div>\n",
       "    </p>\n",
       "    \n",
       "    <script>\n",
       "        requirejs.config({\n",
       "            paths: {\n",
       "                qVisualization: \"https://qvisualization.mybluemix.net/q-visualizations\"\n",
       "            }\n",
       "        });\n",
       "        data = [[0.0, 0.0, 1.0]];\n",
       "        dataValues = [];\n",
       "        for (var i = 0; i < data.length; i++) {\n",
       "            // Coordinates\n",
       "            var x = data[i][0];\n",
       "            var y = data[i][1];\n",
       "            var z = data[i][2];\n",
       "            var point = {'x': x,\n",
       "                        'y': y,\n",
       "                        'z': z};\n",
       "            dataValues.push(point);\n",
       "        }\n",
       "\n",
       "        require([\"qVisualization\"], function(qVisualizations) {\n",
       "            // Plot figure\n",
       "            qVisualizations.plotState(\"bloch_15716078930477388\",\n",
       "                                      \"bloch\",\n",
       "                                      dataValues,\n",
       "                                      {});\n",
       "        });\n",
       "    </script>\n",
       "    "
      ],
      "text/plain": [
       "<IPython.core.display.HTML object>"
      ]
     },
     "metadata": {},
     "output_type": "display_data"
    },
    {
     "data": {
      "text/plain": [
       "None"
      ]
     },
     "metadata": {},
     "output_type": "display_data"
    }
   ],
   "source": [
    "qc = QuantumCircuit(1,1)\n",
    "\n",
    "# Print out the circuit\n",
    "print(qc)\n",
    "\n",
    "# Display the Bloch sphere\n",
    "get_psi(qc)"
   ]
  },
  {
   "cell_type": "markdown",
   "metadata": {
    "slideshow": {
     "slide_type": "slide"
    }
   },
   "source": [
    "Add a Hadamard (super position) gate to the quantum circuit. This puts the qubit in a superposition: $|\\psi\\rangle = \\left(|0\\rangle+|1\\rangle\\right)/\\sqrt{2}.$"
   ]
  },
  {
   "cell_type": "code",
   "execution_count": 48,
   "metadata": {
    "slideshow": {
     "slide_type": "fragment"
    }
   },
   "outputs": [
    {
     "name": "stdout",
     "output_type": "stream",
     "text": [
      "        ┌───┐\n",
      "q_0: |0>┤ H ├\n",
      "        └───┘\n",
      " c_0: 0 ═════\n",
      "             \n"
     ]
    },
    {
     "data": {
      "text/html": [
       "\n",
       "    <p>\n",
       "        <div id=\"content_1571607910267562\" style=\"position: absolute; z-index: 1;\">\n",
       "            <div id=\"bloch_1571607910267562\"></div>\n",
       "        </div>\n",
       "    </p>\n",
       "    \n",
       "    <script>\n",
       "        requirejs.config({\n",
       "            paths: {\n",
       "                qVisualization: \"https://qvisualization.mybluemix.net/q-visualizations\"\n",
       "            }\n",
       "        });\n",
       "        data = [[1.0, 0.0, 2.220446049250313e-16]];\n",
       "        dataValues = [];\n",
       "        for (var i = 0; i < data.length; i++) {\n",
       "            // Coordinates\n",
       "            var x = data[i][0];\n",
       "            var y = data[i][1];\n",
       "            var z = data[i][2];\n",
       "            var point = {'x': x,\n",
       "                        'y': y,\n",
       "                        'z': z};\n",
       "            dataValues.push(point);\n",
       "        }\n",
       "\n",
       "        require([\"qVisualization\"], function(qVisualizations) {\n",
       "            // Plot figure\n",
       "            qVisualizations.plotState(\"bloch_1571607910267562\",\n",
       "                                      \"bloch\",\n",
       "                                      dataValues,\n",
       "                                      {});\n",
       "        });\n",
       "    </script>\n",
       "    "
      ],
      "text/plain": [
       "<IPython.core.display.HTML object>"
      ]
     },
     "metadata": {},
     "output_type": "display_data"
    },
    {
     "data": {
      "text/plain": [
       "None"
      ]
     },
     "metadata": {},
     "output_type": "display_data"
    }
   ],
   "source": [
    "qc.h(0)\n",
    "\n",
    "# Print out the circuit\n",
    "print(qc)\n",
    "\n",
    "# Display the Bloch sphere\n",
    "get_psi(qc)\n"
   ]
  },
  {
   "cell_type": "markdown",
   "metadata": {
    "slideshow": {
     "slide_type": "slide"
    }
   },
   "source": [
    "Finally, add a measurement gate to complete the circuit."
   ]
  },
  {
   "cell_type": "code",
   "execution_count": 49,
   "metadata": {
    "slideshow": {
     "slide_type": "fragment"
    }
   },
   "outputs": [
    {
     "name": "stdout",
     "output_type": "stream",
     "text": [
      "        ┌───┐┌─┐\n",
      "q_0: |0>┤ H ├┤M├\n",
      "        └───┘└╥┘\n",
      " c_0: 0 ══════╩═\n",
      "                \n"
     ]
    }
   ],
   "source": [
    "# Add measure gate\n",
    "qc.measure(0,0)\n",
    "print(qc)"
   ]
  },
  {
   "cell_type": "markdown",
   "metadata": {
    "slideshow": {
     "slide_type": "slide"
    }
   },
   "source": [
    "Set the backend to a local simulator."
   ]
  },
  {
   "cell_type": "code",
   "execution_count": 50,
   "metadata": {
    "slideshow": {
     "slide_type": "fragment"
    }
   },
   "outputs": [],
   "source": [
    "backend = Aer.get_backend('qasm_simulator')"
   ]
  },
  {
   "cell_type": "markdown",
   "metadata": {
    "slideshow": {
     "slide_type": "slide"
    }
   },
   "source": [
    "Create a quantum job that runs just one shot to simulate a coin toss. Then run the job and display the result; either 0 for up (base) or 1 for down (excited). Display the result as a histogram."
   ]
  },
  {
   "cell_type": "code",
   "execution_count": 51,
   "metadata": {
    "slideshow": {
     "slide_type": "fragment"
    }
   },
   "outputs": [
    {
     "name": "stdout",
     "output_type": "stream",
     "text": [
      "{'0': 1}\n"
     ]
    },
    {
     "data": {
      "image/png": "[encoded data removed]",
      "text/plain": [
       "<Figure size 504x360 with 1 Axes>"
      ]
     },
     "execution_count": 51,
     "metadata": {},
     "output_type": "execute_result"
    }
   ],
   "source": [
    "job = execute(qc, backend, shots=1)\n",
    "counts  = job.result().get_counts()\n",
    "print(counts)\n",
    "plot_histogram(counts)"
   ]
  },
  {
   "cell_type": "markdown",
   "metadata": {
    "slideshow": {
     "slide_type": "slide"
    }
   },
   "source": [
    "# Adding some statistics\n",
    "**Now, it is your turn!** Just running the circuit once gives you a single quantum outcome, 0 or 1. But generally that cingle result might not be useful, and you want to see some statistics of the potential outcome space. Lets run a thousand coin tosses in a row, print the outcome and display it in a histogram. With what probability do you expect to get 0 and 1? Do the results match your expectation? \n",
    "\n",
    "**Tip:** You can modify the previous commands, or create a new execution by adding code in the next window."
   ]
  },
  {
   "cell_type": "code",
   "execution_count": 52,
   "metadata": {
    "slideshow": {
     "slide_type": "fragment"
    }
   },
   "outputs": [
    {
     "name": "stdout",
     "output_type": "stream",
     "text": [
      "{'1': 489, '0': 511}\n"
     ]
    },
    {
     "data": {
      "image/png": "[encoded data removed]",
      "text/plain": [
       "<Figure size 504x360 with 1 Axes>"
      ]
     },
     "execution_count": 52,
     "metadata": {},
     "output_type": "execute_result"
    }
   ],
   "source": [
    "# Add your code here \n",
    "\n",
    "job_2 = execute(qc, backend, shots=1000)\n",
    "counts2  = job_2.result().get_counts()\n",
    "print(counts2)\n",
    "plot_histogram(counts2)"
   ]
  },
  {
   "cell_type": "markdown",
   "metadata": {
    "slideshow": {
     "slide_type": "fragment"
    }
   },
   "source": []
  },
  {
   "cell_type": "markdown",
   "metadata": {
    "slideshow": {
     "slide_type": "slide"
    }
   },
   "source": [
    "# Tossing with heads or tails up\n",
    "**Some more work for you!** We can also do our coin flip with the qubit starting in the $|1\\rangle$ state by first flipping the qubit by using the X gate. The Hadamard gate still flips the qubit to the equator, but now on the -X side. Would you expect any difference in the outcome. \n",
    "\n",
    "For this exercise we introduce the X gate that flips the qubit from $|0\\rangle$ to $|1\\rangle$ and vice versa.\n",
    "```\n",
    "        ┌───┐\n",
    "q_0: |0>┤ X ├\n",
    "        └───┘\n",
    "```\n",
    "\n",
    "**Tip:** You can modify the previous commands, or create and execute a new circuit, adding the gates, and then running the circuit and displaying the results by adding code in the next window. "
   ]
  },
  {
   "cell_type": "code",
   "execution_count": 53,
   "metadata": {
    "slideshow": {
     "slide_type": "fragment"
    }
   },
   "outputs": [
    {
     "data": {
      "text/html": [
       "\n",
       "    <p>\n",
       "        <div id=\"content_1571607936147862\" style=\"position: absolute; z-index: 1;\">\n",
       "            <div id=\"bloch_1571607936147862\"></div>\n",
       "        </div>\n",
       "    </p>\n",
       "    \n",
       "    <script>\n",
       "        requirejs.config({\n",
       "            paths: {\n",
       "                qVisualization: \"https://qvisualization.mybluemix.net/q-visualizations\"\n",
       "            }\n",
       "        });\n",
       "        data = [[0.0, 0.0, -1.0]];\n",
       "        dataValues = [];\n",
       "        for (var i = 0; i < data.length; i++) {\n",
       "            // Coordinates\n",
       "            var x = data[i][0];\n",
       "            var y = data[i][1];\n",
       "            var z = data[i][2];\n",
       "            var point = {'x': x,\n",
       "                        'y': y,\n",
       "                        'z': z};\n",
       "            dataValues.push(point);\n",
       "        }\n",
       "\n",
       "        require([\"qVisualization\"], function(qVisualizations) {\n",
       "            // Plot figure\n",
       "            qVisualizations.plotState(\"bloch_1571607936147862\",\n",
       "                                      \"bloch\",\n",
       "                                      dataValues,\n",
       "                                      {});\n",
       "        });\n",
       "    </script>\n",
       "    "
      ],
      "text/plain": [
       "<IPython.core.display.HTML object>"
      ]
     },
     "metadata": {},
     "output_type": "display_data"
    },
    {
     "data": {
      "text/plain": [
       "None"
      ]
     },
     "metadata": {},
     "output_type": "display_data"
    },
    {
     "data": {
      "text/html": [
       "\n",
       "    <p>\n",
       "        <div id=\"content_1571607936157938\" style=\"position: absolute; z-index: 1;\">\n",
       "            <div id=\"bloch_1571607936157938\"></div>\n",
       "        </div>\n",
       "    </p>\n",
       "    \n",
       "    <script>\n",
       "        requirejs.config({\n",
       "            paths: {\n",
       "                qVisualization: \"https://qvisualization.mybluemix.net/q-visualizations\"\n",
       "            }\n",
       "        });\n",
       "        data = [[-1.0, 0.0, -2.220446049250313e-16]];\n",
       "        dataValues = [];\n",
       "        for (var i = 0; i < data.length; i++) {\n",
       "            // Coordinates\n",
       "            var x = data[i][0];\n",
       "            var y = data[i][1];\n",
       "            var z = data[i][2];\n",
       "            var point = {'x': x,\n",
       "                        'y': y,\n",
       "                        'z': z};\n",
       "            dataValues.push(point);\n",
       "        }\n",
       "\n",
       "        require([\"qVisualization\"], function(qVisualizations) {\n",
       "            // Plot figure\n",
       "            qVisualizations.plotState(\"bloch_1571607936157938\",\n",
       "                                      \"bloch\",\n",
       "                                      dataValues,\n",
       "                                      {});\n",
       "        });\n",
       "    </script>\n",
       "    "
      ],
      "text/plain": [
       "<IPython.core.display.HTML object>"
      ]
     },
     "metadata": {},
     "output_type": "display_data"
    },
    {
     "data": {
      "text/plain": [
       "None"
      ]
     },
     "metadata": {},
     "output_type": "display_data"
    },
    {
     "name": "stdout",
     "output_type": "stream",
     "text": [
      "        ┌───┐┌───┐┌─┐\n",
      "q_0: |0>┤ X ├┤ H ├┤M├\n",
      "        └───┘└───┘└╥┘\n",
      " c_0: 0 ═══════════╩═\n",
      "                     \n",
      "{'1': 495, '0': 505}\n"
     ]
    },
    {
     "data": {
      "image/png": "[encoded data removed]",
      "text/plain": [
       "<Figure size 504x360 with 1 Axes>"
      ]
     },
     "execution_count": 53,
     "metadata": {},
     "output_type": "execute_result"
    }
   ],
   "source": [
    "# Add your code here \n",
    "\n",
    "qc2 = QuantumCircuit(1,1)\n",
    "qc2.x(0)\n",
    "\n",
    "get_psi(qc2)\n",
    "\n",
    "qc2.h(0)\n",
    "get_psi(qc2)\n",
    "\n",
    "qc2.measure(0,0)\n",
    "print(qc2)\n",
    "\n",
    "job2 = execute(qc2, backend, shots=1000)\n",
    "counts2  = job2.result().get_counts()\n",
    "print(counts2)\n",
    "plot_histogram(counts2)\n",
    "\n"
   ]
  },
  {
   "cell_type": "markdown",
   "metadata": {
    "slideshow": {
     "slide_type": "fragment"
    }
   },
   "source": [
    "# Cheating coin toss quantum circuit\n",
    "So, the X gate didn't make much of a difference; our coin toss is pretty fair. So, what can we do about this? Can we tweak the probabilistic nature of a single qubit in superposition? Can we cheat in coin tossing?\n",
    "\n",
    "Like before we put the qubit in superposition $|\\psi\\rangle = \\left(|0\\rangle+|1\\rangle\\right)/\\sqrt{2}.$  \n",
    "We then add an additional Ry (rotation around the Y axis) gate, which pushes the Bloch vector $\\pi/8$ closer to $|1\\rangle$. we tweak the odds in favor of $|1\\rangle$. The expected outcome is now $|0\\rangle$ ~ 33% and $|1\\rangle$ with a 66% probability.\n",
    "\n",
    "In this exercise we introduce the Ry gate, which rotates a qubit around the y-axis.\n",
    "```\n",
    "        ┌────────────┐\n",
    "q_0: |0>┤ Ry(0.3927) ├\n",
    "        └────────────┘\n",
    "```"
   ]
  },
  {
   "cell_type": "markdown",
   "metadata": {},
   "source": [
    "Add a Hadamard (super position) gate to the quantum circuit. This puts the qubit in a superposition: $|\\psi\\rangle = \\left(|0\\rangle+|1\\rangle\\right)/\\sqrt{2}.$"
   ]
  },
  {
   "cell_type": "code",
   "execution_count": 54,
   "metadata": {},
   "outputs": [
    {
     "name": "stdout",
     "output_type": "stream",
     "text": [
      "        ┌───┐\n",
      "q_0: |0>┤ H ├\n",
      "        └───┘\n",
      " c_0: 0 ═════\n",
      "             \n"
     ]
    },
    {
     "data": {
      "text/html": [
       "\n",
       "    <p>\n",
       "        <div id=\"content_15716079506479528\" style=\"position: absolute; z-index: 1;\">\n",
       "            <div id=\"bloch_15716079506479528\"></div>\n",
       "        </div>\n",
       "    </p>\n",
       "    \n",
       "    <script>\n",
       "        requirejs.config({\n",
       "            paths: {\n",
       "                qVisualization: \"https://qvisualization.mybluemix.net/q-visualizations\"\n",
       "            }\n",
       "        });\n",
       "        data = [[1.0, 0.0, 2.220446049250313e-16]];\n",
       "        dataValues = [];\n",
       "        for (var i = 0; i < data.length; i++) {\n",
       "            // Coordinates\n",
       "            var x = data[i][0];\n",
       "            var y = data[i][1];\n",
       "            var z = data[i][2];\n",
       "            var point = {'x': x,\n",
       "                        'y': y,\n",
       "                        'z': z};\n",
       "            dataValues.push(point);\n",
       "        }\n",
       "\n",
       "        require([\"qVisualization\"], function(qVisualizations) {\n",
       "            // Plot figure\n",
       "            qVisualizations.plotState(\"bloch_15716079506479528\",\n",
       "                                      \"bloch\",\n",
       "                                      dataValues,\n",
       "                                      {});\n",
       "        });\n",
       "    </script>\n",
       "    "
      ],
      "text/plain": [
       "<IPython.core.display.HTML object>"
      ]
     },
     "metadata": {},
     "output_type": "display_data"
    },
    {
     "data": {
      "text/plain": [
       "None"
      ]
     },
     "metadata": {},
     "output_type": "display_data"
    }
   ],
   "source": [
    "qc3 = QuantumCircuit(1,1)\n",
    "qc3.h(0)\n",
    "\n",
    "print(qc3)\n",
    "\n",
    "# Display the Bloch sphere\n",
    "get_psi(qc3)\n"
   ]
  },
  {
   "cell_type": "markdown",
   "metadata": {},
   "source": [
    "Now, let's rotate the Bloch vector vector $\\pi$/8 radians closer to $|1\\rangle$ by adding a Y rotation gate.\n",
    "\n",
    "For the rotation gate we need to use $\\pi$, which we import from Python math."
   ]
  },
  {
   "cell_type": "code",
   "execution_count": 55,
   "metadata": {},
   "outputs": [
    {
     "name": "stdout",
     "output_type": "stream",
     "text": [
      "        ┌───┐┌──────────┐\n",
      "q_0: |0>┤ H ├┤ Ry(pi/8) ├\n",
      "        └───┘└──────────┘\n",
      " c_0: 0 ═════════════════\n",
      "                         \n"
     ]
    },
    {
     "data": {
      "text/html": [
       "\n",
       "    <p>\n",
       "        <div id=\"content_1571607991603987\" style=\"position: absolute; z-index: 1;\">\n",
       "            <div id=\"bloch_1571607991603987\"></div>\n",
       "        </div>\n",
       "    </p>\n",
       "    \n",
       "    <script>\n",
       "        requirejs.config({\n",
       "            paths: {\n",
       "                qVisualization: \"https://qvisualization.mybluemix.net/q-visualizations\"\n",
       "            }\n",
       "        });\n",
       "        data = [[0.9238795325112867, 0.0, -0.3826834323650895]];\n",
       "        dataValues = [];\n",
       "        for (var i = 0; i < data.length; i++) {\n",
       "            // Coordinates\n",
       "            var x = data[i][0];\n",
       "            var y = data[i][1];\n",
       "            var z = data[i][2];\n",
       "            var point = {'x': x,\n",
       "                        'y': y,\n",
       "                        'z': z};\n",
       "            dataValues.push(point);\n",
       "        }\n",
       "\n",
       "        require([\"qVisualization\"], function(qVisualizations) {\n",
       "            // Plot figure\n",
       "            qVisualizations.plotState(\"bloch_1571607991603987\",\n",
       "                                      \"bloch\",\n",
       "                                      dataValues,\n",
       "                                      {});\n",
       "        });\n",
       "    </script>\n",
       "    "
      ],
      "text/plain": [
       "<IPython.core.display.HTML object>"
      ]
     },
     "metadata": {},
     "output_type": "display_data"
    },
    {
     "data": {
      "text/plain": [
       "None"
      ]
     },
     "metadata": {},
     "output_type": "display_data"
    }
   ],
   "source": [
    "from math import pi\n",
    "\n",
    "qc3.ry(pi/8,0) \n",
    "#Move the Bloch vector pi/8 radians closer to |1>. \n",
    "print(qc3)\n",
    "\n",
    "# Display the Bloch sphere\n",
    "get_psi(qc3)"
   ]
  },
  {
   "cell_type": "markdown",
   "metadata": {},
   "source": [
    "Add measurement and then run the circuit on a local simulator like before.\n"
   ]
  },
  {
   "cell_type": "code",
   "execution_count": 56,
   "metadata": {},
   "outputs": [
    {
     "name": "stdout",
     "output_type": "stream",
     "text": [
      "        ┌───┐┌──────────┐┌─┐\n",
      "q_0: |0>┤ H ├┤ Ry(pi/8) ├┤M├\n",
      "        └───┘└──────────┘└╥┘\n",
      " c_0: 0 ══════════════════╩═\n",
      "                            \n",
      "{'1': 702, '0': 298}\n"
     ]
    },
    {
     "data": {
      "image/png": "[encoded data removed]",
      "text/plain": [
       "<Figure size 504x360 with 1 Axes>"
      ]
     },
     "execution_count": 56,
     "metadata": {},
     "output_type": "execute_result"
    }
   ],
   "source": [
    "qc3.measure(0,0)\n",
    "print(qc3)\n",
    "\n",
    "backend = Aer.get_backend('qasm_simulator')\n",
    "\n",
    "job3 = execute(qc3, backend, shots=1000)\n",
    "result3 = job3.result()\n",
    "counts3  = result3.get_counts(qc3)\n",
    "print(counts3)\n",
    "plot_histogram(counts3)"
   ]
  },
  {
   "cell_type": "markdown",
   "metadata": {},
   "source": [
    "Notice the change inprobability for getting 0 and 1. The slight tweak of the Bloch vector towards |1> turns out to have a massive result in that ~70% of the coin tosses are now |1>."
   ]
  },
  {
   "cell_type": "markdown",
   "metadata": {},
   "source": [
    "##### Retweak your quantum coin to your advantage\n",
    "**Your turn again!** Now go ahead and change the probability for your coin toss to be ~75% chance to get the result 0.\n",
    "\n",
    "**Tip:** You can modify the previous commands, or create and execute a new circuit, adding the gates, and then running the circuit and displaying the results by adding code in the next window. \n",
    "\n",
    "**Challenge:** Can you get the same results *without* using the Hadamard gate?"
   ]
  },
  {
   "cell_type": "code",
   "execution_count": 57,
   "metadata": {},
   "outputs": [
    {
     "data": {
      "text/html": [
       "\n",
       "    <p>\n",
       "        <div id=\"content_1571608006380513\" style=\"position: absolute; z-index: 1;\">\n",
       "            <div id=\"bloch_1571608006380513\"></div>\n",
       "        </div>\n",
       "    </p>\n",
       "    \n",
       "    <script>\n",
       "        requirejs.config({\n",
       "            paths: {\n",
       "                qVisualization: \"https://qvisualization.mybluemix.net/q-visualizations\"\n",
       "            }\n",
       "        });\n",
       "        data = [[0.8686315144381911, 0.0, 0.49545866843240766]];\n",
       "        dataValues = [];\n",
       "        for (var i = 0; i < data.length; i++) {\n",
       "            // Coordinates\n",
       "            var x = data[i][0];\n",
       "            var y = data[i][1];\n",
       "            var z = data[i][2];\n",
       "            var point = {'x': x,\n",
       "                        'y': y,\n",
       "                        'z': z};\n",
       "            dataValues.push(point);\n",
       "        }\n",
       "\n",
       "        require([\"qVisualization\"], function(qVisualizations) {\n",
       "            // Plot figure\n",
       "            qVisualizations.plotState(\"bloch_1571608006380513\",\n",
       "                                      \"bloch\",\n",
       "                                      dataValues,\n",
       "                                      {});\n",
       "        });\n",
       "    </script>\n",
       "    "
      ],
      "text/plain": [
       "<IPython.core.display.HTML object>"
      ]
     },
     "metadata": {},
     "output_type": "display_data"
    },
    {
     "data": {
      "text/plain": [
       "None"
      ]
     },
     "metadata": {},
     "output_type": "display_data"
    },
    {
     "name": "stdout",
     "output_type": "stream",
     "text": [
      "        ┌───┐┌──────────────┐┌─┐\n",
      "q_0: |0>┤ H ├┤ Ry(-0.51836) ├┤M├\n",
      "        └───┘└──────────────┘└╥┘\n",
      " c_0: 0 ══════════════════════╩═\n",
      "                                \n",
      "{'1': 251, '0': 749}\n"
     ]
    },
    {
     "data": {
      "image/png": "[encoded data removed]",
      "text/plain": [
       "<Figure size 504x360 with 1 Axes>"
      ]
     },
     "execution_count": 57,
     "metadata": {},
     "output_type": "execute_result"
    }
   ],
   "source": [
    "# Your code goes here\n",
    "\n",
    "qc4 = QuantumCircuit(1,1)\n",
    "qc4.h(0)\n",
    "qc4.ry(33*-pi/200,0) \n",
    "\n",
    "# Or without H gate...\n",
    "\n",
    "#qc4.ry(67*pi/200,0) \n",
    "\n",
    "\n",
    "# Display the Bloch sphere\n",
    "get_psi(qc4)\n",
    "\n",
    "qc4.measure(0,0)\n",
    "\n",
    "print(qc4)\n",
    "\n",
    "backend = Aer.get_backend('qasm_simulator')\n",
    "\n",
    "job4 = execute(qc4, backend, shots=1000)\n",
    "result4 = job4.result()\n",
    "counts4  = result4.get_counts(qc4)\n",
    "print(counts4)\n",
    "plot_histogram(counts4)"
   ]
  },
  {
   "cell_type": "markdown",
   "metadata": {},
   "source": [
    "Congratulations, you now know how to cheat in coin tossing. Next stop Las Vegas! As you have seen, you are not *required* to use the Hadamard gate to put your qubit in a superposition, any rotational gate along the X or Y axis will do. The Hadamard gate is just a very handy gate to initialize your qubit for further computing."
   ]
  },
  {
   "cell_type": "markdown",
   "metadata": {},
   "source": [
    "# Tossing your coin on an IBM quantum computer\n",
    "In this exercise we run our simple coin toss circuit on a real IBM Q quantum computer. For a local Qiskit installation we need to store our IBM Q credentials locally to be able to access the IBM Q backends.\n",
    "We use the `least_busy` method to find the backend with the smallest queue."
   ]
  },
  {
   "cell_type": "code",
   "execution_count": 58,
   "metadata": {},
   "outputs": [],
   "source": [
    "# Import IBMQ and the job monitoring tool\n",
    "from qiskit import IBMQ\n",
    "from qiskit.providers.ibmq import least_busy\n",
    "from qiskit.tools.monitor import job_monitor"
   ]
  },
  {
   "cell_type": "markdown",
   "metadata": {},
   "source": [
    "**Time for some work!** Before you can run your program on IBM Q you must load your API key. If you are running this notebook in an IBM Qx environment, your API key is already stored in the system, but if you are running on your own machine you [must first store the key](https://qiskit.org/documentation/install.html#access-ibm-q-systems)."
   ]
  },
  {
   "cell_type": "code",
   "execution_count": 64,
   "metadata": {},
   "outputs": [],
   "source": [
    "#Save and store API key locally.\n",
    "from qiskit import IBMQ\n",
    "#IBMQ.save_account('MY_API_TOKEN') <- Uncomment this line if you need to store your API key\n",
    "\n",
    "#Load account information \n",
    "IBMQ.load_account()\n",
    "provider = IBMQ.get_provider()"
   ]
  },
  {
   "cell_type": "markdown",
   "metadata": {},
   "source": [
    "Set the backend to the least busy IBM quantum computer. We filter out simulators. We also want to know how long the quque is."
   ]
  },
  {
   "cell_type": "code",
   "execution_count": 60,
   "metadata": {},
   "outputs": [
    {
     "name": "stdout",
     "output_type": "stream",
     "text": [
      "ibmq_vigo\n",
      "1\n"
     ]
    }
   ],
   "source": [
    "backend = least_busy(provider.backends(operational=True, simulator=False))\n",
    "print(backend.configuration().backend_name)\n",
    "print(backend.status().pending_jobs)"
   ]
  },
  {
   "cell_type": "markdown",
   "metadata": {},
   "source": [
    "Create a quantum job for your circuit and the selected backend that runs 1,000 shots to simulate a series of coin tosses. Run the job and monitor the progress. Get and display the results."
   ]
  },
  {
   "cell_type": "code",
   "execution_count": 61,
   "metadata": {},
   "outputs": [
    {
     "name": "stdout",
     "output_type": "stream",
     "text": [
      "Job Status: job has successfully run\n",
      "{'1': 230, '0': 770}\n"
     ]
    },
    {
     "data": {
      "image/png": "[encoded data removed]",
      "text/plain": [
       "<Figure size 504x360 with 1 Axes>"
      ]
     },
     "execution_count": 61,
     "metadata": {},
     "output_type": "execute_result"
    }
   ],
   "source": [
    "job_ibmq = execute(qc4, backend, shots=1000)\n",
    "job_monitor(job_ibmq)\n",
    "\n",
    "counts_ibmq  = job_ibmq.result().get_counts(qc4)\n",
    "\n",
    "print(counts_ibmq)  \n",
    "plot_histogram(counts_ibmq)"
   ]
  },
  {
   "cell_type": "markdown",
   "metadata": {},
   "source": [
    "And a final congratulation for this exercise. You have just run your first quantum program on a bona-fide IBM quantum computer."
   ]
  },
  {
   "cell_type": "code",
   "execution_count": null,
   "metadata": {},
   "outputs": [],
   "source": []
  }
 ],
 "metadata": {
  "celltoolbar": "Slideshow",
  "kernelspec": {
   "display_name": "Python 3",
   "language": "python",
   "name": "python3"
  },
  "language_info": {
   "codemirror_mode": {
    "name": "ipython",
    "version": 3
   },
   "file_extension": ".py",
   "mimetype": "text/x-python",
   "name": "python",
   "nbconvert_exporter": "python",
   "pygments_lexer": "ipython3",
   "version": "3.7.3"
  }
 },
 "nbformat": 4,
 "nbformat_minor": 2
}
