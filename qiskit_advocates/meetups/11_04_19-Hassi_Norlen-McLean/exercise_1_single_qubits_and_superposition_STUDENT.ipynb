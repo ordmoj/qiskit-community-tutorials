{
 "cells": [
  {
   "cell_type": "markdown",
   "metadata": {
    "slideshow": {
     "slide_type": "slide"
    }
   },
   "source": [
    "# Coin toss quantum circuit\n",
    "In this exercise we create a quantum circuit that simulates the probabilistic nature of a single qubit in superposition. The one qubit circuit initializes the qubit in the ground state $|0\\rangle$ and then uses a Hadamard gate to put the qubit in superposition $|\\psi\\rangle = \\left(|0\\rangle+|1\\rangle\\right)/\\sqrt{2}.$  \n",
    "Measuring the qubit causes it to collapse into one of the states $|0\\rangle$ or $|1\\rangle$ with a 50% probability, i.e. a coin toss.   \n",
    "In this exercise we introduce the Hadamard gate, which puts a qubit in superposition.  \n",
    "\n",
    "![Hadamard circuit](data:image/png;base64,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)\n"
   ]
  },
  {
   "cell_type": "code",
   "execution_count": null,
   "metadata": {
    "slideshow": {
     "slide_type": "fragment"
    }
   },
   "outputs": [],
   "source": [
    "from qiskit import QuantumCircuit, execute, Aer\n",
    "\n",
    "# Import visualization\n",
    "from qiskit.visualization import plot_histogram, plot_bloch_multivector, plot_state_qsphere\n"
   ]
  },
  {
   "cell_type": "markdown",
   "metadata": {
    "slideshow": {
     "slide_type": "slide"
    }
   },
   "source": [
    "As we will be using the Bloch sphere visualization (`plot_bloch_multivector`) a bit, here's a quick function that calculates the state vector ($|\\psi\\rangle$) for the circuit to let you display the Bloch vector for any given state.\n"
   ]
  },
  {
   "cell_type": "code",
   "execution_count": null,
   "metadata": {
    "slideshow": {
     "slide_type": "fragment"
    }
   },
   "outputs": [],
   "source": [
    "def get_psi(circuit): \n",
    "    global psi\n",
    "    backend = Aer.get_backend('statevector_simulator') \n",
    "    psi = execute(circuit, backend).result().get_statevector(circuit)\n",
    "    display(plot_bloch_multivector(psi))"
   ]
  },
  {
   "cell_type": "markdown",
   "metadata": {
    "slideshow": {
     "slide_type": "slide"
    }
   },
   "source": [
    "Create an empty quantum circuit. We start out with the qubit in the $|0\\rangle$ state."
   ]
  },
  {
   "cell_type": "code",
   "execution_count": null,
   "metadata": {
    "slideshow": {
     "slide_type": "fragment"
    }
   },
   "outputs": [],
   "source": [
    "qc = QuantumCircuit(1,1)\n",
    "\n",
    "# Print out the circuit\n",
    "display(qc.draw(output=\"mpl\"))\n",
    "\n",
    "# Display the Bloch sphere\n",
    "get_psi(qc)"
   ]
  },
  {
   "cell_type": "markdown",
   "metadata": {
    "slideshow": {
     "slide_type": "slide"
    }
   },
   "source": [
    "Add a Hadamard (super position) gate to the quantum circuit. This puts the qubit in a superposition: $|\\psi\\rangle = \\left(|0\\rangle+|1\\rangle\\right)/\\sqrt{2}.$"
   ]
  },
  {
   "cell_type": "code",
   "execution_count": null,
   "metadata": {
    "scrolled": false,
    "slideshow": {
     "slide_type": "fragment"
    }
   },
   "outputs": [],
   "source": [
    "qc.h(0)\n",
    "\n",
    "# Print out the circuit\n",
    "display(qc.draw(output=\"mpl\"))\n",
    "\n",
    "# Display the Bloch sphere\n",
    "get_psi(qc)\n"
   ]
  },
  {
   "cell_type": "markdown",
   "metadata": {
    "slideshow": {
     "slide_type": "slide"
    }
   },
   "source": [
    "Finally, add a measurement gate to complete the circuit."
   ]
  },
  {
   "cell_type": "code",
   "execution_count": null,
   "metadata": {
    "slideshow": {
     "slide_type": "fragment"
    }
   },
   "outputs": [],
   "source": [
    "# Add measure gate\n",
    "qc.measure(0,0)\n",
    "display(qc.draw(output=\"mpl\"))\n"
   ]
  },
  {
   "cell_type": "markdown",
   "metadata": {
    "slideshow": {
     "slide_type": "slide"
    }
   },
   "source": [
    "Set the backend to a local simulator."
   ]
  },
  {
   "cell_type": "code",
   "execution_count": null,
   "metadata": {
    "slideshow": {
     "slide_type": "fragment"
    }
   },
   "outputs": [],
   "source": [
    "backend = Aer.get_backend('qasm_simulator')"
   ]
  },
  {
   "cell_type": "markdown",
   "metadata": {
    "slideshow": {
     "slide_type": "slide"
    }
   },
   "source": [
    "Create a quantum job that runs just one shot to simulate a coin toss. Then run the job and display the result; either 0 for up (base) or 1 for down (excited). Display the result as a histogram."
   ]
  },
  {
   "cell_type": "code",
   "execution_count": null,
   "metadata": {
    "slideshow": {
     "slide_type": "fragment"
    }
   },
   "outputs": [],
   "source": [
    "job = execute(qc, backend, shots=1)\n",
    "counts  = job.result().get_counts()\n",
    "print(counts)\n",
    "plot_histogram(counts)"
   ]
  },
  {
   "cell_type": "markdown",
   "metadata": {
    "slideshow": {
     "slide_type": "slide"
    }
   },
   "source": [
    "# Adding some statistics\n",
    "**Now, it is your turn!** Just running the circuit once gives you a single quantum outcome, 0 or 1. But generally that cingle result might not be useful, and you want to see some statistics of the potential outcome space. Lets run a thousand coin tosses in a row, print the outcome and display it in a histogram. With what probability do you expect to get 0 and 1? Do the results match your expectation? \n",
    "\n",
    "**Tip:** You can modify the previous commands, or create a new execution by adding code in the next window."
   ]
  },
  {
   "cell_type": "code",
   "execution_count": null,
   "metadata": {
    "slideshow": {
     "slide_type": "fragment"
    }
   },
   "outputs": [],
   "source": [
    "# Add your code here \n",
    "\n"
   ]
  },
  {
   "cell_type": "markdown",
   "metadata": {
    "slideshow": {
     "slide_type": "slide"
    }
   },
   "source": [
    "# Tossing with heads or tails up\n",
    "**Some more work for you!** We can also do our coin flip with the qubit starting in the $|1\\rangle$ state by first flipping the qubit by using the X gate. The Hadamard gate still flips the qubit to the equator, but now on the -X side. Would you expect any difference in the outcome. \n",
    "\n",
    "For this exercise we introduce the X gate that flips the qubit from $|0\\rangle$ to $|1\\rangle$ and vice versa.\n",
    "![NOT circuit](data:image/png;base64,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)\n",
    "\n",
    "**Tip:** You can modify the previous commands, or create and execute a new circuit, adding the gates, and then running the circuit and displaying the results by adding code in the next window. "
   ]
  },
  {
   "cell_type": "code",
   "execution_count": null,
   "metadata": {
    "slideshow": {
     "slide_type": "fragment"
    }
   },
   "outputs": [],
   "source": [
    "# Add your code here \n",
    "\n"
   ]
  },
  {
   "cell_type": "markdown",
   "metadata": {
    "slideshow": {
     "slide_type": "fragment"
    }
   },
   "source": [
    "# Cheating coin toss quantum circuit\n",
    "So, the X gate didn't make much of a difference; our coin toss is pretty fair. So, what can we do about this? Can we tweak the probabilistic nature of a single qubit in superposition? Can we cheat in coin tossing?\n",
    "\n",
    "Like before we put the qubit in superposition $|\\psi\\rangle = \\left(|0\\rangle+|1\\rangle\\right)/\\sqrt{2}.$  \n",
    "We then add an additional Ry (rotation around the Y axis) gate, which pushes the Bloch vector $\\pi/8$ closer to $|1\\rangle$. we tweak the odds in favor of $|1\\rangle$. The expected outcome is now $|0\\rangle$ ~ 33% and $|1\\rangle$ with a 66% probability.\n",
    "\n",
    "In this exercise we introduce the Ry gate, which rotates a qubit around the y-axis.\n",
    "![Hadamard circuit](data:image/png;base64,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)\n"
   ]
  },
  {
   "cell_type": "markdown",
   "metadata": {},
   "source": [
    "Add a Hadamard (super position) gate to the quantum circuit. This puts the qubit in a superposition: $|\\psi\\rangle = \\left(|0\\rangle+|1\\rangle\\right)/\\sqrt{2}.$"
   ]
  },
  {
   "cell_type": "code",
   "execution_count": null,
   "metadata": {},
   "outputs": [],
   "source": [
    "qc3 = QuantumCircuit(1,1)\n",
    "qc3.h(0)\n",
    "\n",
    "display(qc3.draw(output=\"mpl\"))\n",
    "\n",
    "# Display the Bloch sphere\n",
    "get_psi(qc3)\n"
   ]
  },
  {
   "cell_type": "markdown",
   "metadata": {},
   "source": [
    "Now, let's rotate the Bloch vector vector $\\pi$/8 radians closer to $|1\\rangle$ by adding a Y rotation gate.\n",
    "\n",
    "For the rotation gate we need to use $\\pi$, which we import from Python math."
   ]
  },
  {
   "cell_type": "code",
   "execution_count": null,
   "metadata": {},
   "outputs": [],
   "source": [
    "from math import pi\n",
    "\n",
    "qc3.ry(pi/8,0) \n",
    "#Move the Bloch vector pi/8 radians closer to |1>. \n",
    "display(qc3.draw(output=\"mpl\"))\n",
    "\n",
    "# Display the Bloch sphere\n",
    "get_psi(qc3)"
   ]
  },
  {
   "cell_type": "markdown",
   "metadata": {},
   "source": [
    "Add measurement and then run the circuit on a local simulator like before.\n"
   ]
  },
  {
   "cell_type": "code",
   "execution_count": null,
   "metadata": {},
   "outputs": [],
   "source": [
    "qc3.measure(0,0)\n",
    "display(qc3.draw(output=\"mpl\"))\n",
    "\n",
    "backend = Aer.get_backend('qasm_simulator')\n",
    "\n",
    "job3 = execute(qc3, backend, shots=1000)\n",
    "result3 = job3.result()\n",
    "counts3  = result3.get_counts(qc3)\n",
    "print(counts3)\n",
    "plot_histogram(counts3)"
   ]
  },
  {
   "cell_type": "markdown",
   "metadata": {},
   "source": [
    "Notice the change inprobability for getting 0 and 1. The slight tweak of the Bloch vector towards |1> turns out to have a massive result in that ~70% of the coin tosses are now |1>."
   ]
  },
  {
   "cell_type": "markdown",
   "metadata": {},
   "source": [
    "##### Retweak your quantum coin to your advantage\n",
    "**Your turn again!** Now go ahead and change the probability for your coin toss to be ~75% chance to get the result 0.\n",
    "\n",
    "**Tip:** You can modify the previous commands, or create and execute a new circuit, adding the gates, and then running the circuit and displaying the results by adding code in the next window. \n",
    "\n",
    "**Challenge:** Can you get the same results *without* using the Hadamard gate?"
   ]
  },
  {
   "cell_type": "code",
   "execution_count": null,
   "metadata": {},
   "outputs": [],
   "source": [
    "# Your code goes here\n",
    "\n"
   ]
  },
  {
   "cell_type": "markdown",
   "metadata": {},
   "source": [
    "Congratulations, you now know how to cheat in coin tossing. Next stop Las Vegas! As you have seen, you are not *required* to use the Hadamard gate to put your qubit in a superposition, any rotational gate along the X or Y axis will do. The Hadamard gate is just a very handy gate to initialize your qubit for further computing."
   ]
  },
  {
   "cell_type": "markdown",
   "metadata": {},
   "source": [
    "# Tossing your coin on an IBM quantum computer\n",
    "In this exercise we run our simple coin toss circuit on a real IBM Q quantum computer. For a local Qiskit installation we need to store our IBM Q credentials locally to be able to access the IBM Q backends.\n",
    "We use the `least_busy` method to find the backend with the smallest queue."
   ]
  },
  {
   "cell_type": "code",
   "execution_count": null,
   "metadata": {},
   "outputs": [],
   "source": [
    "# Import IBMQ and the job monitoring tool\n",
    "from qiskit import IBMQ\n",
    "from qiskit.providers.ibmq import least_busy\n",
    "from qiskit.tools.monitor import job_monitor"
   ]
  },
  {
   "cell_type": "markdown",
   "metadata": {},
   "source": [
    "**Time for some work!** Before you can run your program on IBM Q you must load your API key. If you are running this notebook in an IBM Qx environment, your API key is already stored in the system, but if you are running on your own machine you [must first store the key](https://qiskit.org/documentation/install.html#access-ibm-q-systems)."
   ]
  },
  {
   "cell_type": "code",
   "execution_count": null,
   "metadata": {},
   "outputs": [],
   "source": [
    "#Save and store API key locally.\n",
    "from qiskit import IBMQ\n",
    "#IBMQ.save_account('MY_API_TOKEN') <- Uncomment this line if you need to store your API key\n",
    "\n",
    "#Load account information \n",
    "IBMQ.load_account()\n",
    "provider = IBMQ.get_provider()"
   ]
  },
  {
   "cell_type": "markdown",
   "metadata": {},
   "source": [
    "Set the backend to the least busy IBM quantum computer. We filter out simulators. We also want to know how long the quque is."
   ]
  },
  {
   "cell_type": "code",
   "execution_count": null,
   "metadata": {},
   "outputs": [],
   "source": [
    "backend = least_busy(provider.backends(operational=True, simulator=False))\n",
    "print(backend.configuration().backend_name)\n",
    "print(backend.status().pending_jobs)"
   ]
  },
  {
   "cell_type": "markdown",
   "metadata": {},
   "source": [
    "Create a quantum job for your circuit and the selected backend that runs 1,000 shots to simulate a series of coin tosses. Run the job and monitor the progress. Get and display the results."
   ]
  },
  {
   "cell_type": "code",
   "execution_count": null,
   "metadata": {},
   "outputs": [],
   "source": [
    "job_ibmq = execute(qc4, backend, shots=1000)\n",
    "job_monitor(job_ibmq)\n",
    "\n",
    "counts_ibmq  = job_ibmq.result().get_counts(qc4)\n",
    "\n",
    "print(counts_ibmq)  \n",
    "plot_histogram(counts_ibmq)"
   ]
  },
  {
   "cell_type": "markdown",
   "metadata": {},
   "source": [
    "And a final congratulation for this exercise. You have just run your first quantum program on a bona-fide IBM quantum computer."
   ]
  },
  {
   "cell_type": "code",
   "execution_count": null,
   "metadata": {},
   "outputs": [],
   "source": []
  }
 ],
 "metadata": {
  "celltoolbar": "Slideshow",
  "kernelspec": {
   "display_name": "Python 3",
   "language": "python",
   "name": "python3"
  },
  "language_info": {
   "codemirror_mode": {
    "name": "ipython",
    "version": 3
   },
   "file_extension": ".py",
   "mimetype": "text/x-python",
   "name": "python",
   "nbconvert_exporter": "python",
   "pygments_lexer": "ipython3",
   "version": "3.7.3"
  }
 },
 "nbformat": 4,
 "nbformat_minor": 2
}
