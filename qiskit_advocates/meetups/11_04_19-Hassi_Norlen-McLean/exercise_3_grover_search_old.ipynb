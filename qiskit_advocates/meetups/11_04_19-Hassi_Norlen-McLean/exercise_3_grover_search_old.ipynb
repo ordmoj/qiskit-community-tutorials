{
 "cells": [
  {
   "cell_type": "markdown",
   "metadata": {
    "slideshow": {
     "slide_type": "slide"
    }
   },
   "source": [
    "# Grover\n",
    "Grover's search algorithm is one of the more straightforward quantum algorithms for solving an actual problem using quantum computing quadratically faster than its classical counterpart. This exercise is losely based on the [Grover's algorithm and its Qiskit implementation Qiskit tutorial](https://quantum-computing.ibm.com/support/guides/quantum-algorithms-with-qiskit?page=5cc0d9fd86b50d00642353ca#experiment-with-simulators), which goes inte greater detail regarding the implementation and theory.\n",
    "\n",
    "What we will demonstrate is an unstructured search of a database, using the so called amplitude amplification trick."
   ]
  },
  {
   "cell_type": "markdown",
   "metadata": {
    "slideshow": {
     "slide_type": "subslide"
    }
   },
   "source": [
    "Let's start by importing the IBMQ method and load our account."
   ]
  },
  {
   "cell_type": "code",
   "execution_count": 1,
   "metadata": {
    "slideshow": {
     "slide_type": "fragment"
    }
   },
   "outputs": [],
   "source": [
    "#initialization\n",
    "import matplotlib.pyplot as plt\n",
    "%matplotlib inline\n",
    "import numpy as np\n",
    "\n",
    "# importing Qiskit\n",
    "from qiskit import IBMQ, BasicAer\n",
    "from qiskit.providers.ibmq import least_busy\n",
    "from qiskit import QuantumCircuit, ClassicalRegister, QuantumRegister, execute\n"
   ]
  },
  {
   "cell_type": "code",
   "execution_count": 2,
   "metadata": {
    "slideshow": {
     "slide_type": "slide"
    }
   },
   "outputs": [],
   "source": [
    "# Import visualization\n",
    "from qiskit.visualization import plot_histogram, plot_bloch_multivector, iplot_bloch_multivector, plot_state_qsphere, iplot_state_qsphere\n",
    "\n",
    "# Add the state vector calculation function\n",
    "def get_psi(circuit, vis=\"B\"): \n",
    "    global psi\n",
    "    backend = BasicAer.get_backend('statevector_simulator') \n",
    "    psi = execute(circuit, backend).result().get_statevector(circuit)\n",
    "    if vis==\"Q\":\n",
    "        display(iplot_state_qsphere(psi))\n",
    "    elif vis==\"q\":\n",
    "        display(plot_state_qsphere(psi))\n",
    "    elif vis==\"M\":\n",
    "        print(psi)\n",
    "    elif vis==\"b\":\n",
    "        display(plot_state_qsphere(psi))\n",
    "    else: # vis=\"B\"\n",
    "        display(iplot_bloch_multivector(psi))\n",
    "        \n",
    "    vis=\"\""
   ]
  },
  {
   "cell_type": "markdown",
   "metadata": {
    "slideshow": {
     "slide_type": "slide"
    }
   },
   "source": [
    "Set the number of qubits for the Grover circuit."
   ]
  },
  {
   "cell_type": "code",
   "execution_count": 3,
   "metadata": {
    "slideshow": {
     "slide_type": "fragment"
    }
   },
   "outputs": [],
   "source": [
    "n_qubits=3\n",
    "oracle_n=2"
   ]
  },
  {
   "cell_type": "markdown",
   "metadata": {
    "slideshow": {
     "slide_type": "slide"
    }
   },
   "source": [
    "We create a phase oracle that will mark states (|000⟩ and \n",
    "|111⟩) as the results (step 1)."
   ]
  },
  {
   "cell_type": "code",
   "execution_count": 4,
   "metadata": {
    "slideshow": {
     "slide_type": "fragment"
    }
   },
   "outputs": [],
   "source": [
    "from qiskit.quantum_info.operators import Operator\n",
    "\n",
    "# Two qubit oracle - with the answer |01>\n",
    "unitary_oracle_0 = Operator([\n",
    "    [-1, 0, 0, 0],\n",
    "    [0, -1, 0, 0],\n",
    "    [0, 0, -1, 0],\n",
    "    [0, 0, 0, 1]])\n",
    "\n",
    "# Three qubit oracle - with the answer |000> and |111>\n",
    "unitary_oracle_1 = Operator([\n",
    "    [ -1,  0,  0,  0,  0,  0,  0,  0],\n",
    "    [ 0, -1,  0,  0,  0,  0,  0,  0],\n",
    "    [ 0,  0, -1,  0,  0,  0,  0,  0], \n",
    "    [ 0,  0,  0, -1,  0,  0,  0,  0], \n",
    "    [ 0,  0,  0,  0, -1,  0,  0,  0], \n",
    "    [ 0,  0,  0,  0,  0, -1,  0,  0], \n",
    "    [ 0,  0,  0,  0,  0,  0, -1,  0], \n",
    "    [ 0,  0,  0,  0,  0,  0,  0, 1]])\n",
    "    \n",
    "# Append the appropriate unitary operator\n",
    "def phase_oracle(circuit, register):\n",
    "    if n_qubits == 3:\n",
    "        circuit.append(unitary_oracle_1,qr)\n",
    "    else:\n",
    "        circuit.append(unitary_oracle_0,qr)\n",
    "    display(print(unitary_oracle_1.is_unitary()))\n",
    "    circuit.barrier(qr)\n",
    "    display(circuit.draw(output=\"mpl\"))\n",
    "\n",
    "    \n",
    "    \n",
    "def phase_oracle2(circuit, register):\n",
    "    if n_qubits == 3:\n",
    "        circuit.z(qr)\n",
    "        circuit.cz(qr[1],qr[0])\n",
    "        circuit.cz(qr[2],qr[0])\n",
    "        circuit.cz(qr[2],qr[1])\n",
    "    else:\n",
    "        circuit.z(qr)\n",
    "        circuit.cz(qr[0],qr[1])\n",
    "    circuit.barrier(qr)\n",
    "    display(circuit.draw(output=\"mpl\"))\n",
    "\n"
   ]
  },
  {
   "cell_type": "markdown",
   "metadata": {
    "slideshow": {
     "slide_type": "slide"
    }
   },
   "source": [
    "Next we set up the circuit for inversion about the average (step 2), where we will first need to define a function that creates a multiple-controlled Z gate."
   ]
  },
  {
   "cell_type": "code",
   "execution_count": 5,
   "metadata": {
    "slideshow": {
     "slide_type": "fragment"
    }
   },
   "outputs": [],
   "source": [
    "def n_controlled_Z(circuit, controls, target):\n",
    "    \"\"\"Implement a Z gate with multiple controls\"\"\"\n",
    "    if (len(controls) > 2):\n",
    "        raise ValueError('The controlled Z with more than 2 controls is not implemented')\n",
    "    elif (len(controls) == 1):\n",
    "        circuit.h(target)\n",
    "        circuit.cx(controls[0], target)\n",
    "        circuit.h(target)\n",
    "    elif (len(controls) == 2):\n",
    "        circuit.h(target)\n",
    "        circuit.ccx(controls[0], controls[1], target)\n",
    "        circuit.h(target)"
   ]
  },
  {
   "cell_type": "markdown",
   "metadata": {
    "slideshow": {
     "slide_type": "slide"
    }
   },
   "source": [
    "..."
   ]
  },
  {
   "cell_type": "code",
   "execution_count": 6,
   "metadata": {
    "slideshow": {
     "slide_type": "fragment"
    }
   },
   "outputs": [],
   "source": [
    "def inversion_about_average(circuit, register, n):\n",
    "    \"\"\"Apply inversion about the average step of Grover's algorithm.\"\"\"\n",
    "    circuit.h(register)\n",
    "    circuit.x(register)\n",
    "    n_controlled_Z(circuit, [register[j] for j in range(n-1)], register[n-1])\n",
    "    circuit.x(register)\n",
    "    circuit.h(register)\n",
    "    circuit.barrier(qr)\n"
   ]
  },
  {
   "cell_type": "markdown",
   "metadata": {
    "slideshow": {
     "slide_type": "slide"
    }
   },
   "source": [
    "Create the initial all-Hadamard circuit."
   ]
  },
  {
   "cell_type": "code",
   "execution_count": 11,
   "metadata": {
    "slideshow": {
     "slide_type": "fragment"
    }
   },
   "outputs": [
    {
     "data": {
      "text/html": [
       "\n",
       "    <p>\n",
       "        <div id=\"content_1571796809628955\" style=\"position: absolute; z-index: 1;\">\n",
       "            <div id=\"qsphere_1571796809628955\"></div>\n",
       "        </div>\n",
       "    </p>\n",
       "    \n",
       "    <script>\n",
       "        requirejs.config({\n",
       "            paths: {\n",
       "                qVisualization: \"https://qvisualization.mybluemix.net/q-visualizations\"\n",
       "            }\n",
       "        });\n",
       "        require([\"qVisualization\"], function(qVisualizations) {\n",
       "            data = [{'points': [{'x': 0.0, 'y': 0.0, 'z': 1.0, 'prob': 0.12500000000000003, 'phase': 0.0}, {'x': 0.9428090415820634, 'y': 0.0, 'z': 0.33333333333333337, 'prob': 0.1249999999999999, 'phase': 0.0}, {'x': -0.47140452079103146, 'y': 0.8164965809277261, 'z': 0.33333333333333337, 'prob': 0.12499999999999994, 'phase': 0.0}, {'x': 0.9428090415820634, 'y': 0.0, 'z': -0.33333333333333326, 'prob': 0.12499999999999994, 'phase': 0.0}, {'x': -0.4714045207910321, 'y': -0.8164965809277258, 'z': 0.33333333333333337, 'prob': 0.12499999999999994, 'phase': 0.0}, {'x': -0.47140452079103146, 'y': 0.8164965809277261, 'z': -0.33333333333333326, 'prob': 0.12499999999999994, 'phase': 0.0}, {'x': -0.4714045207910321, 'y': -0.8164965809277258, 'z': -0.33333333333333326, 'prob': 0.12499999999999994, 'phase': 0.0}, {'x': 0.0, 'y': 0.0, 'z': -1.0, 'prob': 0.1249999999999999, 'phase': 0.0}], 'eigenvalue': 0.9999999999999999}];\n",
       "            qVisualizations.plotState(\"qsphere_1571796809628955\",\n",
       "                                      \"qsphere\",\n",
       "                                      data,\n",
       "                                      {});\n",
       "        });\n",
       "    </script>\n",
       "\n",
       "    "
      ],
      "text/plain": [
       "<IPython.core.display.HTML object>"
      ]
     },
     "metadata": {},
     "output_type": "display_data"
    },
    {
     "data": {
      "text/plain": [
       "None"
      ]
     },
     "metadata": {},
     "output_type": "display_data"
    }
   ],
   "source": [
    "qr = QuantumRegister(n_qubits)\n",
    "cr = ClassicalRegister(n_qubits)\n",
    "groverCircuit = QuantumCircuit(qr,cr)\n",
    "groverCircuit.h(qr)\n",
    "groverCircuit.barrier(qr)\n",
    "groverCircuit.draw(output=\"mpl\")\n",
    "get_psi(groverCircuit,\"Q\")"
   ]
  },
  {
   "cell_type": "markdown",
   "metadata": {
    "slideshow": {
     "slide_type": "fragment"
    }
   },
   "source": [
    "And now build the final Grover circuit by adding in the oracle, the inversion circuitm and the measurement gates. We will display the phase changes as we move though building the circuit."
   ]
  },
  {
   "cell_type": "code",
   "execution_count": 12,
   "metadata": {
    "slideshow": {
     "slide_type": "slide"
    }
   },
   "outputs": [
    {
     "name": "stdout",
     "output_type": "stream",
     "text": [
      "2\n"
     ]
    },
    {
     "data": {
      "image/png": "[encoded data removed]",
      "text/plain": [
       "<Figure size 588.756x264.88 with 1 Axes>"
      ]
     },
     "metadata": {},
     "output_type": "display_data"
    },
    {
     "data": {
      "text/html": [
       "\n",
       "    <p>\n",
       "        <div id=\"content_1571796823926284\" style=\"position: absolute; z-index: 1;\">\n",
       "            <div id=\"qsphere_1571796823926284\"></div>\n",
       "        </div>\n",
       "    </p>\n",
       "    \n",
       "    <script>\n",
       "        requirejs.config({\n",
       "            paths: {\n",
       "                qVisualization: \"https://qvisualization.mybluemix.net/q-visualizations\"\n",
       "            }\n",
       "        });\n",
       "        require([\"qVisualization\"], function(qVisualizations) {\n",
       "            data = [{'points': [{'x': 0.0, 'y': 0.0, 'z': 1.0, 'prob': 0.12499999999999997, 'phase': 0.0}, {'x': 0.9428090415820634, 'y': 0.0, 'z': 0.33333333333333337, 'prob': 0.12500000000000006, 'phase': 3.141592653589793}, {'x': -0.47140452079103146, 'y': 0.8164965809277261, 'z': 0.33333333333333337, 'prob': 0.12500000000000003, 'phase': 3.141592653589793}, {'x': 0.9428090415820634, 'y': 0.0, 'z': -0.33333333333333326, 'prob': 0.12500000000000003, 'phase': 3.141592653589793}, {'x': -0.4714045207910321, 'y': -0.8164965809277258, 'z': 0.33333333333333337, 'prob': 0.12500000000000006, 'phase': 3.141592653589793}, {'x': -0.47140452079103146, 'y': 0.8164965809277261, 'z': -0.33333333333333326, 'prob': 0.1249999999999999, 'phase': 3.141592653589793}, {'x': -0.4714045207910321, 'y': -0.8164965809277258, 'z': -0.33333333333333326, 'prob': 0.12499999999999994, 'phase': 3.141592653589793}, {'x': 0.0, 'y': 0.0, 'z': -1.0, 'prob': 0.12500000000000003, 'phase': 0.0}], 'eigenvalue': 0.9999999999999999}];\n",
       "            qVisualizations.plotState(\"qsphere_1571796823926284\",\n",
       "                                      \"qsphere\",\n",
       "                                      data,\n",
       "                                      {});\n",
       "        });\n",
       "    </script>\n",
       "\n",
       "    "
      ],
      "text/plain": [
       "<IPython.core.display.HTML object>"
      ]
     },
     "metadata": {},
     "output_type": "display_data"
    },
    {
     "data": {
      "text/plain": [
       "None"
      ]
     },
     "metadata": {},
     "output_type": "display_data"
    }
   ],
   "source": [
    "print(oracle_n)\n",
    "if oracle_n==1:\n",
    "    phase_oracle(groverCircuit, qr) #<- Add the oracle/black box\n",
    "else:\n",
    "    phase_oracle2(groverCircuit, qr) #<- Add the oracle/black box\n",
    "\n",
    "\n",
    "get_psi(groverCircuit,\"Q\")\n"
   ]
  },
  {
   "cell_type": "code",
   "execution_count": 13,
   "metadata": {
    "slideshow": {
     "slide_type": "slide"
    }
   },
   "outputs": [
    {
     "data": {
      "text/html": [
       "\n",
       "    <p>\n",
       "        <div id=\"content_15717968327096992\" style=\"position: absolute; z-index: 1;\">\n",
       "            <div id=\"qsphere_15717968327096992\"></div>\n",
       "        </div>\n",
       "    </p>\n",
       "    \n",
       "    <script>\n",
       "        requirejs.config({\n",
       "            paths: {\n",
       "                qVisualization: \"https://qvisualization.mybluemix.net/q-visualizations\"\n",
       "            }\n",
       "        });\n",
       "        require([\"qVisualization\"], function(qVisualizations) {\n",
       "            data = [{'points': [{'x': 0.0, 'y': 0.0, 'z': 1.0, 'prob': 0.4999999999999999, 'phase': 0.0}, {'x': 0.9428090415820634, 'y': 0.0, 'z': 0.33333333333333337, 'prob': 0.0, 'phase': 0.0}, {'x': -0.47140452079103146, 'y': 0.8164965809277261, 'z': 0.33333333333333337, 'prob': 0.0, 'phase': 0.0}, {'x': 0.9428090415820634, 'y': 0.0, 'z': -0.33333333333333326, 'prob': 0.0, 'phase': 0.0}, {'x': -0.4714045207910321, 'y': -0.8164965809277258, 'z': 0.33333333333333337, 'prob': 0.0, 'phase': 0.0}, {'x': -0.47140452079103146, 'y': 0.8164965809277261, 'z': -0.33333333333333326, 'prob': 0.0, 'phase': 0.0}, {'x': -0.4714045207910321, 'y': -0.8164965809277258, 'z': -0.33333333333333326, 'prob': 0.0, 'phase': 0.0}, {'x': 0.0, 'y': 0.0, 'z': -1.0, 'prob': 0.5000000000000001, 'phase': 0.0}], 'eigenvalue': 0.9999999999999997}];\n",
       "            qVisualizations.plotState(\"qsphere_15717968327096992\",\n",
       "                                      \"qsphere\",\n",
       "                                      data,\n",
       "                                      {});\n",
       "        });\n",
       "    </script>\n",
       "\n",
       "    "
      ],
      "text/plain": [
       "<IPython.core.display.HTML object>"
      ]
     },
     "metadata": {},
     "output_type": "display_data"
    },
    {
     "data": {
      "text/plain": [
       "None"
      ]
     },
     "metadata": {},
     "output_type": "display_data"
    }
   ],
   "source": [
    "inversion_about_average(groverCircuit, qr, n_qubits) #<- Add the inversion circuits\n",
    "\n",
    "get_psi(groverCircuit,\"Q\")\n"
   ]
  },
  {
   "cell_type": "code",
   "execution_count": null,
   "metadata": {
    "slideshow": {
     "slide_type": "slide"
    }
   },
   "outputs": [],
   "source": [
    "groverCircuit.measure(qr,cr) #<-Add the measurement gates\n",
    "\n",
    "groverCircuit.draw(output=\"mpl\")"
   ]
  },
  {
   "cell_type": "markdown",
   "metadata": {
    "slideshow": {
     "slide_type": "slide"
    }
   },
   "source": [
    "With the circuit now complete, we can run our search and verify that we can find the hidden item."
   ]
  },
  {
   "cell_type": "code",
   "execution_count": null,
   "metadata": {
    "slideshow": {
     "slide_type": "fragment"
    }
   },
   "outputs": [],
   "source": [
    "backend = BasicAer.get_backend('qasm_simulator')\n",
    "shots = 1024\n",
    "results = execute(groverCircuit, backend=backend, shots=shots).result()\n",
    "answer = results.get_counts()\n",
    "plot_histogram(answer)"
   ]
  },
  {
   "cell_type": "markdown",
   "metadata": {
    "slideshow": {
     "slide_type": "slide"
    }
   },
   "source": [
    "# Hide the ...\n",
    "\n",
    "**Time for some work...** Now, go ahead andupdated the Oracle matrix to hide item we search for, or items. Update the diagonal of the matrix with 1's for search item location, and -1 for non-locations. Then run the circuit again, and verify that Grover indeed finds it... or them."
   ]
  },
  {
   "cell_type": "code",
   "execution_count": null,
   "metadata": {
    "slideshow": {
     "slide_type": "fragment"
    }
   },
   "outputs": [],
   "source": [
    "# Load our saved IBMQ accounts and get the least busy backend device\n",
    "IBMQ.load_account()\n",
    "provider = IBMQ.get_provider()\n",
    "\n",
    "backend_lb = least_busy(provider.backends(simulator=False))\n",
    "print(\"Least busy backend: \", backend_lb)"
   ]
  },
  {
   "cell_type": "code",
   "execution_count": null,
   "metadata": {},
   "outputs": [],
   "source": [
    "# run our circuit on the least busy backend. Monitor the execution of the job in the queue\n",
    "from qiskit.tools.monitor import job_monitor\n",
    "\n",
    "backend = backend_lb\n",
    "shots = 1024\n",
    "job_exp = execute(groverCircuit, backend=backend, shots=shots)\n",
    "\n",
    "job_monitor(job_exp, interval = 2)"
   ]
  },
  {
   "cell_type": "markdown",
   "metadata": {
    "slideshow": {
     "slide_type": "slide"
    }
   },
   "source": [
    "..."
   ]
  },
  {
   "cell_type": "code",
   "execution_count": null,
   "metadata": {
    "slideshow": {
     "slide_type": "fragment"
    }
   },
   "outputs": [],
   "source": [
    "# get the results from the computation\n",
    "results = job_exp.result()\n",
    "answer = results.get_counts(groverCircuit)\n",
    "plot_histogram(answer)\n"
   ]
  },
  {
   "cell_type": "code",
   "execution_count": null,
   "metadata": {},
   "outputs": [],
   "source": []
  },
  {
   "cell_type": "code",
   "execution_count": null,
   "metadata": {},
   "outputs": [],
   "source": []
  }
 ],
 "metadata": {
  "celltoolbar": "Slideshow",
  "kernelspec": {
   "display_name": "Python 3",
   "language": "python",
   "name": "python3"
  },
  "language_info": {
   "codemirror_mode": {
    "name": "ipython",
    "version": 3
   },
   "file_extension": ".py",
   "mimetype": "text/x-python",
   "name": "python",
   "nbconvert_exporter": "python",
   "pygments_lexer": "ipython3",
   "version": "3.7.3"
  }
 },
 "nbformat": 4,
 "nbformat_minor": 2
}
