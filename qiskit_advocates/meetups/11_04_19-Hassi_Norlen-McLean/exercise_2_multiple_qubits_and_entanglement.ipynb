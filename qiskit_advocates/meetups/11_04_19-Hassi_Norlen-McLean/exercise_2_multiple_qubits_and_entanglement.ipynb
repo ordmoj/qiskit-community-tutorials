{
 "cells": [
  {
   "cell_type": "markdown",
   "metadata": {
    "slideshow": {
     "slide_type": "slide"
    }
   },
   "source": [
    "# Multi-qubit quantum circuit\n",
    "In this exercise we creates a two qubit circuit, with two qubits in superposition, and then measures the individual qubits, resulting in two coin toss results with the following possible outcomes with equal probability: $|00\\rangle$, $|01\\rangle$, $|10\\rangle$, and $|11\\rangle$. This is like tossing two coins.\n"
   ]
  },
  {
   "cell_type": "markdown",
   "metadata": {
    "slideshow": {
     "slide_type": "slide"
    }
   },
   "source": [
    "Import the required libraries, including the IBM Q library for working with IBM Q hardware."
   ]
  },
  {
   "cell_type": "code",
   "execution_count": 1,
   "metadata": {
    "slideshow": {
     "slide_type": "fragment"
    }
   },
   "outputs": [],
   "source": [
    "import numpy as np\n",
    "from qiskit import QuantumCircuit, execute, Aer\n",
    "from qiskit.tools.monitor import job_monitor\n",
    "\n",
    "# Import visualization\n",
    "from qiskit.visualization import plot_histogram, plot_bloch_multivector, iplot_bloch_multivector, plot_state_qsphere, iplot_state_qsphere\n",
    "\n",
    "# Add the state vector calculation function\n",
    "def get_psi(circuit, vis=\"B\"): \n",
    "    global psi\n",
    "    backend = Aer.get_backend('statevector_simulator') \n",
    "    psi = execute(circuit, backend).result().get_statevector(circuit)\n",
    "    if vis==\"Q\":\n",
    "        display(iplot_state_qsphere(psi))\n",
    "    elif vis==\"q\":\n",
    "        display(plot_state_qsphere(psi))\n",
    "    elif vis==\"M\":\n",
    "        print(psi)\n",
    "    elif vis==\"b\":\n",
    "        display(plot_state_qsphere(psi))\n",
    "    else: # vis=\"B\"\n",
    "        display(iplot_bloch_multivector(psi))\n",
    "        \n",
    "    vis=\"\""
   ]
  },
  {
   "cell_type": "markdown",
   "metadata": {
    "slideshow": {
     "slide_type": "slide"
    }
   },
   "source": [
    "How many qubits do we want to use. The notebook let's you set up multi-qubit circuits of various sizes. Keep in mind that the biggest publicly available IBM quantum computer is 14 qubits in size. "
   ]
  },
  {
   "cell_type": "code",
   "execution_count": 2,
   "metadata": {
    "slideshow": {
     "slide_type": "fragment"
    }
   },
   "outputs": [],
   "source": [
    "#n_qubits=int(input(\"Enter number of qubits:\"))\n",
    "n_qubits=2"
   ]
  },
  {
   "cell_type": "markdown",
   "metadata": {
    "slideshow": {
     "slide_type": "slide"
    }
   },
   "source": [
    "Create quantum circuit that includes the quantum register and the classic register. Then add a Hadamard (super position) gate to all the qubits. Add measurement gates."
   ]
  },
  {
   "cell_type": "code",
   "execution_count": 4,
   "metadata": {
    "slideshow": {
     "slide_type": "fragment"
    }
   },
   "outputs": [
    {
     "data": {
      "image/png": "[encoded data removed]",
      "text/plain": [
       "<Figure size 216.72x204.68 with 1 Axes>"
      ]
     },
     "metadata": {},
     "output_type": "display_data"
    }
   ],
   "source": [
    "qc1 = QuantumCircuit(n_qubits,n_qubits)\n",
    "qc_measure = QuantumCircuit(n_qubits,n_qubits)\n",
    "for qubit in range (0,n_qubits):\n",
    "    qc1.h(qubit) #A Hadamard gate that creates a superposition\n",
    "for qubit in range (0,n_qubits):\n",
    "    qc_measure.measure(qubit,qubit)\n",
    "display(qc1.draw(output=\"mpl\"))\n"
   ]
  },
  {
   "cell_type": "markdown",
   "metadata": {
    "slideshow": {
     "slide_type": "slide"
    }
   },
   "source": [
    "Now that we have more than one qubit it is starting to become a bit difficult to visualize the outcomes when running the circuit. To alleviate this we can instead have the get_psi return the statevector itself by by calling it with the vis parameter set to `\"M\"`. We can also have it display a Qiskit-unique visualization called a Q Sphere by passing the parameter `\"Q\"` or `\"q\"`. Big Q returns an interactive Q-sphere, and little q a static one."
   ]
  },
  {
   "cell_type": "code",
   "execution_count": 5,
   "metadata": {
    "slideshow": {
     "slide_type": "fragment"
    }
   },
   "outputs": [
    {
     "name": "stdout",
     "output_type": "stream",
     "text": [
      "[0.5+0.j 0.5+0.j 0.5+0.j 0.5+0.j]\n",
      "[0.25 0.25 0.25 0.25]\n"
     ]
    },
    {
     "data": {
      "text/html": [
       "\n",
       "    <p>\n",
       "        <div id=\"content_1572197872361173\" style=\"position: absolute; z-index: 1;\">\n",
       "            <div id=\"qsphere_1572197872361173\"></div>\n",
       "        </div>\n",
       "    </p>\n",
       "    \n",
       "    <script>\n",
       "        requirejs.config({\n",
       "            paths: {\n",
       "                qVisualization: \"https://qvisualization.mybluemix.net/q-visualizations\"\n",
       "            }\n",
       "        });\n",
       "        require([\"qVisualization\"], function(qVisualizations) {\n",
       "            data = [{'points': [{'x': 0.0, 'y': 0.0, 'z': 1.0, 'prob': 0.2499999999999999, 'phase': 0.0}, {'x': 1.0, 'y': 0.0, 'z': 0.0, 'prob': 0.25, 'phase': 0.0}, {'x': -1.0, 'y': 1.2246467991473532e-16, 'z': 0.0, 'prob': 0.25, 'phase': 0.0}, {'x': 0.0, 'y': 0.0, 'z': -1.0, 'prob': 0.2499999999999999, 'phase': 0.0}], 'eigenvalue': 1.0}];\n",
       "            qVisualizations.plotState(\"qsphere_1572197872361173\",\n",
       "                                      \"qsphere\",\n",
       "                                      data,\n",
       "                                      {});\n",
       "        });\n",
       "    </script>\n",
       "\n",
       "    "
      ],
      "text/plain": [
       "<IPython.core.display.HTML object>"
      ]
     },
     "metadata": {},
     "output_type": "display_data"
    },
    {
     "data": {
      "text/plain": [
       "None"
      ]
     },
     "metadata": {},
     "output_type": "display_data"
    }
   ],
   "source": [
    "get_psi(qc1,\"M\")\n",
    "print (abs(np.square(psi))) \n",
    "get_psi(qc1,\"Q\")"
   ]
  },
  {
   "cell_type": "markdown",
   "metadata": {
    "slideshow": {
     "slide_type": "slide"
    }
   },
   "source": [
    "Now we see the statevector for multiple qubits, and can calculate the probabilities for the different outcomes by squaring the complex parameters in the vector.\n",
    "\n",
    "The Q Sphere visualization provides the same informaton in a visual form, with |0..0> at the north pole, |1..1> at the bottom, and other combinations on latitude circles. In the dynamicc version, you can hover over the tips of the vectors to see the state, probability, and phase data. In the static version, the size of the vector tip represents the relative probability of getting that specific result, and the color represents the phase angle for that specific output. More on that later!"
   ]
  },
  {
   "cell_type": "markdown",
   "metadata": {
    "slideshow": {
     "slide_type": "slide"
    }
   },
   "source": [
    "Now add your circuit with the measurement circuit and run a 1,000 shots to get statistics on the possible outcomes.\n",
    " "
   ]
  },
  {
   "cell_type": "code",
   "execution_count": 6,
   "metadata": {
    "slideshow": {
     "slide_type": "fragment"
    }
   },
   "outputs": [
    {
     "name": "stdout",
     "output_type": "stream",
     "text": [
      "{'00': 256, '10': 264, '01': 241, '11': 239}\n"
     ]
    },
    {
     "data": {
      "image/png": "[encoded data removed]",
      "text/plain": [
       "<Figure size 504x360 with 1 Axes>"
      ]
     },
     "execution_count": 6,
     "metadata": {},
     "output_type": "execute_result"
    }
   ],
   "source": [
    "backend = Aer.get_backend('qasm_simulator')\n",
    "\n",
    "qc_final=qc1+qc_measure\n",
    "\n",
    "job = execute(qc_final, backend, shots=1000)\n",
    "counts1  = job.result().get_counts(qc_final)\n",
    "print(counts1)\n",
    "plot_histogram(counts1)"
   ]
  },
  {
   "cell_type": "markdown",
   "metadata": {
    "slideshow": {
     "slide_type": "slide"
    }
   },
   "source": [
    "As you might expect, with two independednt qubits ea h in a superposition, the resulting outcomes should be spread evenly accross th epossible outcomes, all the combinations of 0 and 1.\n",
    "\n",
    "**Time for you to do some work!** To get an understanding of the probable outcomes and how these are displayed on the interactive (or static) Q Sphere, change the `n_qubits=2` value in the cell above, and run the cells again for a different number of qubits. \n",
    "\n",
    "When you are done, set the value back to 2, and continue on.\n"
   ]
  },
  {
   "cell_type": "code",
   "execution_count": 7,
   "metadata": {
    "slideshow": {
     "slide_type": "fragment"
    }
   },
   "outputs": [],
   "source": [
    "n_qubits=2"
   ]
  },
  {
   "cell_type": "markdown",
   "metadata": {
    "slideshow": {
     "slide_type": "slide"
    }
   },
   "source": [
    "# Entangled-qubit quantum circuit - The Bell state\n",
    "\n",
    "Now we are going to do something different. We will entangle the qubits.\n",
    "\n",
    "Create quantum circuit that includes the quantum register and the classic register. Then add a Hadamard (super position) gate to the first qubit. Then add a controlled-NOT gate (cx) between the first and second qubit, entangling them. Add measurement gates. \n",
    "\n",
    "We then take a look at using the CX (Controlled-NOT) gate to entangle the two qubits in a so called Bell state. This surprisingly results in the following possible outcomes with equal probability: $|00\\rangle$ and $|11\\rangle$. Two entangled qubits do not at all behave like two tossed coins.\n",
    "\n",
    "We then run the circuit a large number of times to see what the statistical behavior of the qubits are.\n",
    "Finally, we run the circuit on real IBM Q hardware to see how real physical qubits behave.\n",
    "\n",
    "In this exercise we introduce the CX gate, which creates entanglement between two qubits, by flipping the controlled qubit (q_1) if the controlling qubit (q_0) is 1.\n",
    "```\n",
    "        ┌───┐     \n",
    "q_0: |0>┤ H ├──■──\n",
    "        └───┘┌─┴─┐\n",
    "q_1: |0>─────┤ X ├\n",
    "             └───┘\n",
    "```"
   ]
  },
  {
   "cell_type": "code",
   "execution_count": 10,
   "metadata": {
    "slideshow": {
     "slide_type": "slide"
    }
   },
   "outputs": [
    {
     "data": {
      "image/png": "[encoded data removed]",
      "text/plain": [
       "<Figure size 216.72x204.68 with 1 Axes>"
      ]
     },
     "metadata": {},
     "output_type": "display_data"
    },
    {
     "data": {
      "text/html": [
       "\n",
       "    <p>\n",
       "        <div id=\"content_15721979484373918\" style=\"position: absolute; z-index: 1;\">\n",
       "            <div id=\"bloch_15721979484373918\"></div>\n",
       "        </div>\n",
       "    </p>\n",
       "    \n",
       "    <script>\n",
       "        requirejs.config({\n",
       "            paths: {\n",
       "                qVisualization: \"https://qvisualization.mybluemix.net/q-visualizations\"\n",
       "            }\n",
       "        });\n",
       "        data = [[1.0, 0.0, 2.220446049250313e-16], [0.0, 0.0, 1.0]];\n",
       "        dataValues = [];\n",
       "        for (var i = 0; i < data.length; i++) {\n",
       "            // Coordinates\n",
       "            var x = data[i][0];\n",
       "            var y = data[i][1];\n",
       "            var z = data[i][2];\n",
       "            var point = {'x': x,\n",
       "                        'y': y,\n",
       "                        'z': z};\n",
       "            dataValues.push(point);\n",
       "        }\n",
       "\n",
       "        require([\"qVisualization\"], function(qVisualizations) {\n",
       "            // Plot figure\n",
       "            qVisualizations.plotState(\"bloch_15721979484373918\",\n",
       "                                      \"bloch\",\n",
       "                                      dataValues,\n",
       "                                      {});\n",
       "        });\n",
       "    </script>\n",
       "    "
      ],
      "text/plain": [
       "<IPython.core.display.HTML object>"
      ]
     },
     "metadata": {},
     "output_type": "display_data"
    },
    {
     "data": {
      "text/plain": [
       "None"
      ]
     },
     "metadata": {},
     "output_type": "display_data"
    }
   ],
   "source": [
    "qc2 = QuantumCircuit(n_qubits,n_qubits)\n",
    "qc2_measure = QuantumCircuit(n_qubits, n_qubits)\n",
    "for qubit in range (0,n_qubits):\n",
    "    qc2_measure.measure(qubit,qubit)\n",
    "\n",
    "qc2.h(0) # A Hadamard gate that puts the first qubit in superposition\n",
    "display(qc2.draw(output=\"mpl\"))\n",
    "get_psi(qc2)"
   ]
  },
  {
   "cell_type": "code",
   "execution_count": 11,
   "metadata": {
    "slideshow": {
     "slide_type": "subslide"
    }
   },
   "outputs": [
    {
     "data": {
      "image/png": "[encoded data removed]",
      "text/plain": [
       "<Figure size 276.92x204.68 with 1 Axes>"
      ]
     },
     "metadata": {},
     "output_type": "display_data"
    },
    {
     "data": {
      "text/html": [
       "\n",
       "    <p>\n",
       "        <div id=\"content_1572197949468992\" style=\"position: absolute; z-index: 1;\">\n",
       "            <div id=\"bloch_1572197949468992\"></div>\n",
       "        </div>\n",
       "    </p>\n",
       "    \n",
       "    <script>\n",
       "        requirejs.config({\n",
       "            paths: {\n",
       "                qVisualization: \"https://qvisualization.mybluemix.net/q-visualizations\"\n",
       "            }\n",
       "        });\n",
       "        data = [[0.0, 0.0, 2.220446049250313e-16], [0.0, 0.0, 2.220446049250313e-16]];\n",
       "        dataValues = [];\n",
       "        for (var i = 0; i < data.length; i++) {\n",
       "            // Coordinates\n",
       "            var x = data[i][0];\n",
       "            var y = data[i][1];\n",
       "            var z = data[i][2];\n",
       "            var point = {'x': x,\n",
       "                        'y': y,\n",
       "                        'z': z};\n",
       "            dataValues.push(point);\n",
       "        }\n",
       "\n",
       "        require([\"qVisualization\"], function(qVisualizations) {\n",
       "            // Plot figure\n",
       "            qVisualizations.plotState(\"bloch_1572197949468992\",\n",
       "                                      \"bloch\",\n",
       "                                      dataValues,\n",
       "                                      {});\n",
       "        });\n",
       "    </script>\n",
       "    "
      ],
      "text/plain": [
       "<IPython.core.display.HTML object>"
      ]
     },
     "metadata": {},
     "output_type": "display_data"
    },
    {
     "data": {
      "text/plain": [
       "None"
      ]
     },
     "metadata": {},
     "output_type": "display_data"
    }
   ],
   "source": [
    "for qubit in range (1,n_qubits):\n",
    "    qc2.cx(0,qubit) #A controlled NOT gate that entangles the qubits.\n",
    "\n",
    "display(qc2.draw(output=\"mpl\"))\n",
    "get_psi(qc2)"
   ]
  },
  {
   "cell_type": "markdown",
   "metadata": {
    "slideshow": {
     "slide_type": "slide"
    }
   },
   "source": [
    "Now we notice something peculiar; after we add the CX gate, entangling the qubits the Bloch spheres display nonsense. Why is that? It turns out that once your qubits are entangled they can no longer be described individually, but only as a combined object. Let's take a look at the state vector and Q sphere."
   ]
  },
  {
   "cell_type": "code",
   "execution_count": 12,
   "metadata": {
    "slideshow": {
     "slide_type": "fragment"
    }
   },
   "outputs": [
    {
     "name": "stdout",
     "output_type": "stream",
     "text": [
      "[0.70710678+0.j 0.        +0.j 0.        +0.j 0.70710678+0.j]\n",
      "[0.5 0.  0.  0.5]\n"
     ]
    },
    {
     "data": {
      "text/html": [
       "\n",
       "    <p>\n",
       "        <div id=\"content_1572197964584488\" style=\"position: absolute; z-index: 1;\">\n",
       "            <div id=\"qsphere_1572197964584488\"></div>\n",
       "        </div>\n",
       "    </p>\n",
       "    \n",
       "    <script>\n",
       "        requirejs.config({\n",
       "            paths: {\n",
       "                qVisualization: \"https://qvisualization.mybluemix.net/q-visualizations\"\n",
       "            }\n",
       "        });\n",
       "        require([\"qVisualization\"], function(qVisualizations) {\n",
       "            data = [{'points': [{'x': 0.0, 'y': 0.0, 'z': 1.0, 'prob': 0.4999999999999999, 'phase': 0.0}, {'x': 1.0, 'y': 0.0, 'z': 0.0, 'prob': 0.0, 'phase': 0.0}, {'x': -1.0, 'y': 1.2246467991473532e-16, 'z': 0.0, 'prob': 0.0, 'phase': 0.0}, {'x': 0.0, 'y': 0.0, 'z': -1.0, 'prob': 0.5000000000000001, 'phase': 0.0}], 'eigenvalue': 1.0}];\n",
       "            qVisualizations.plotState(\"qsphere_1572197964584488\",\n",
       "                                      \"qsphere\",\n",
       "                                      data,\n",
       "                                      {});\n",
       "        });\n",
       "    </script>\n",
       "\n",
       "    "
      ],
      "text/plain": [
       "<IPython.core.display.HTML object>"
      ]
     },
     "metadata": {},
     "output_type": "display_data"
    },
    {
     "data": {
      "text/plain": [
       "None"
      ]
     },
     "metadata": {},
     "output_type": "display_data"
    }
   ],
   "source": [
    "get_psi(qc2,\"M\")\n",
    "\n",
    "print (abs(np.square(psi)))\n",
    "\n",
    "get_psi(qc2,\"Q\")"
   ]
  },
  {
   "cell_type": "markdown",
   "metadata": {
    "slideshow": {
     "slide_type": "slide"
    }
   },
   "source": [
    "Set the backend to a local simulator. Then create a quantum job for the circuit, the selected backend, that runs just one shot to simulate a coin toss with two simultaneously tossed coins, then run the job. Display the result; either 0 for up (base) or 1 for down (excited) for each qubit. Display the result as a histogram. Either |00> or |11> with 100% probability."
   ]
  },
  {
   "cell_type": "code",
   "execution_count": 13,
   "metadata": {
    "slideshow": {
     "slide_type": "fragment"
    }
   },
   "outputs": [
    {
     "name": "stdout",
     "output_type": "stream",
     "text": [
      "{'00': 1}\n"
     ]
    },
    {
     "data": {
      "image/png": "[encoded data removed]",
      "text/plain": [
       "<Figure size 504x360 with 1 Axes>"
      ]
     },
     "execution_count": 13,
     "metadata": {},
     "output_type": "execute_result"
    }
   ],
   "source": [
    "backend = Aer.get_backend('qasm_simulator')\n",
    "\n",
    "qc2_final=qc2+qc2_measure\n",
    "\n",
    "job = execute(qc2_final, backend, shots=1)\n",
    "counts2  = job.result().get_counts(qc2_final)\n",
    "print(counts2)\n",
    "plot_histogram(counts2)"
   ]
  },
  {
   "cell_type": "markdown",
   "metadata": {
    "slideshow": {
     "slide_type": "fragment"
    }
   },
   "source": [
    "Note how the qubits completely agree. They are entangled.\n",
    "\n",
    "**Do some work..** Run the cell above a few times to verify that you only get the results 00 or 11."
   ]
  },
  {
   "cell_type": "markdown",
   "metadata": {
    "slideshow": {
     "slide_type": "slide"
    }
   },
   "source": [
    "Now, lets run quite a few more shots, and display the statistsics for the two results. This time, as we are no longer just talking about two qubits, but the amassed results of thousands of runs on these qubits."
   ]
  },
  {
   "cell_type": "code",
   "execution_count": 14,
   "metadata": {
    "slideshow": {
     "slide_type": "fragment"
    }
   },
   "outputs": [
    {
     "name": "stdout",
     "output_type": "stream",
     "text": [
      "{'00': 501, '11': 499}\n"
     ]
    },
    {
     "data": {
      "image/png": "[encoded data removed]",
      "text/plain": [
       "<Figure size 504x360 with 1 Axes>"
      ]
     },
     "execution_count": 14,
     "metadata": {},
     "output_type": "execute_result"
    }
   ],
   "source": [
    "job = execute(qc2_final, backend, shots=1000)\n",
    "result = job.result() \n",
    "counts  = result.get_counts()\n",
    "print(counts)\n",
    "plot_histogram(counts)"
   ]
  },
  {
   "cell_type": "markdown",
   "metadata": {
    "slideshow": {
     "slide_type": "fragment"
    }
   },
   "source": [
    "And look at that, we are back at our coin toss results, fifty-fifty. Every time one of the coins comes up heads (|0>) the other one follows suit. Tossing one coin we immediately know what the other one will come up as; the coins (qubits) are entangled."
   ]
  },
  {
   "cell_type": "markdown",
   "metadata": {
    "slideshow": {
     "slide_type": "slide"
    }
   },
   "source": [
    "# Run your entangled circuit on an IBM quantum computer\n",
    "**Important:** With the simulator we get perfect results, only |00> or |11>. On a real NISQ (Noisy Intermediate Scale Quantum computer) we do not expect perfect results like this. Let's run the Bell state once more, but on an actual IBM Q quantum computer."
   ]
  },
  {
   "cell_type": "markdown",
   "metadata": {},
   "source": [
    "**Time for some work!** Before you can run your program on IBM Q you must load your API key. If you are running this notebook in an IBM Qx environment, your API key is already stored in the system, but if you are running on your own machine you [must first store the key](https://qiskit.org/documentation/install.html#access-ibm-q-systems)."
   ]
  },
  {
   "cell_type": "code",
   "execution_count": 15,
   "metadata": {},
   "outputs": [],
   "source": [
    "#Save and store API key locally.\n",
    "from qiskit import IBMQ\n",
    "#IBMQ.save_account('MY_API_TOKEN') <- Uncomment this line if you need to store your API key\n",
    "\n",
    "#Load account information \n",
    "IBMQ.load_account()\n",
    "provider = IBMQ.get_provider()"
   ]
  },
  {
   "cell_type": "markdown",
   "metadata": {
    "slideshow": {
     "slide_type": "fragment"
    }
   },
   "source": [
    "Grab the least busy IBM Q backend."
   ]
  },
  {
   "cell_type": "code",
   "execution_count": 16,
   "metadata": {
    "slideshow": {
     "slide_type": "fragment"
    }
   },
   "outputs": [
    {
     "name": "stdout",
     "output_type": "stream",
     "text": [
      "Selected backend: ibmq_vigo\n",
      "Number of qubits(n_qubits): 5\n",
      "Pending jobs: 4\n"
     ]
    }
   ],
   "source": [
    "from qiskit.providers.ibmq import least_busy\n",
    "backend = least_busy(provider.backends(operational=True, simulator=False))\n",
    "#backend = provider.get_backend('ibmqx2')\n",
    "print(\"Selected backend:\",backend.status().backend_name)\n",
    "print(\"Number of qubits(n_qubits):\", backend.configuration().n_qubits)\n",
    "print(\"Pending jobs:\", backend.status().pending_jobs)"
   ]
  },
  {
   "cell_type": "markdown",
   "metadata": {
    "slideshow": {
     "slide_type": "slide"
    }
   },
   "source": [
    "Lets run a large number of shots, and display the statistsics for the two results: $|00\\rangle$ and $|11\\rangle$ on the real hardware. Monitor the job and display our place in the queue."
   ]
  },
  {
   "cell_type": "code",
   "execution_count": 17,
   "metadata": {
    "slideshow": {
     "slide_type": "fragment"
    }
   },
   "outputs": [
    {
     "name": "stdout",
     "output_type": "stream",
     "text": [
      "Job Status: job has successfully run\n"
     ]
    }
   ],
   "source": [
    "if n_qubits > backend.configuration().n_qubits:\n",
    "    print(\"Your circuit contains too many qubits (\",n_qubits,\"). Start over!\")\n",
    "else:\n",
    "    job = execute(qc2_final, backend, shots=1000)\n",
    "    job_monitor(job)"
   ]
  },
  {
   "cell_type": "markdown",
   "metadata": {
    "slideshow": {
     "slide_type": "slide"
    }
   },
   "source": [
    "Get the results, and display in a histogram. Notice how we no longer just get the perfect entangled results, but also a few results that include non-entangled qubit results. At this stage, quantum computers are not perfect calculating machines, but pretty noisy. "
   ]
  },
  {
   "cell_type": "code",
   "execution_count": 18,
   "metadata": {
    "slideshow": {
     "slide_type": "fragment"
    }
   },
   "outputs": [
    {
     "name": "stdout",
     "output_type": "stream",
     "text": [
      "{'00': 528, '10': 13, '01': 36, '11': 423}\n"
     ]
    },
    {
     "data": {
      "image/png": "[encoded data removed]",
      "text/plain": [
       "<Figure size 504x360 with 1 Axes>"
      ]
     },
     "execution_count": 18,
     "metadata": {},
     "output_type": "execute_result"
    }
   ],
   "source": [
    "result = job.result()\n",
    "counts  = result.get_counts(qc2_final)\n",
    "print(counts)\n",
    "plot_histogram(counts)"
   ]
  },
  {
   "cell_type": "markdown",
   "metadata": {
    "slideshow": {
     "slide_type": "slide"
    }
   },
   "source": [
    "That was the simple readout. Let's take a look at the whole returned results:"
   ]
  },
  {
   "cell_type": "code",
   "execution_count": 19,
   "metadata": {
    "slideshow": {
     "slide_type": "fragment"
    }
   },
   "outputs": [
    {
     "name": "stdout",
     "output_type": "stream",
     "text": [
      "Result(backend_name='ibmq_vigo', backend_version='1.0.1', date=datetime.datetime(2019, 10, 27, 17, 53, 48, tzinfo=tzutc()), execution_id='b64bfffa-f8e2-11e9-8965-ac1f6b47c318', header=Obj(backend_name='ibmq_vigo', backend_version='1.0.1'), job_id='5db5d681fac5590012e19a08', qobj_id='c4c3dffc-a702-49dd-b939-af1f933c652b', results=[ExperimentResult(data=ExperimentResultData(counts=Obj(0x0=528, 0x1=36, 0x2=13, 0x3=423)), header=Obj(clbit_labels=[['c', 0], ['c', 1]], creg_sizes=[['c', 2]], memory_slots=2, n_qubits=5, name='circuit18', qreg_sizes=[['q', 5]], qubit_labels=[['q', 0], ['q', 1], ['q', 2], ['q', 3], ['q', 4]]), meas_level=2, memory=False, shots=1000, success=True)], status='Successful completion', success=True, time_taken=8.054757595062256)\n"
     ]
    }
   ],
   "source": [
    "print(result)"
   ]
  },
  {
   "cell_type": "code",
   "execution_count": null,
   "metadata": {},
   "outputs": [],
   "source": []
  }
 ],
 "metadata": {
  "celltoolbar": "Slideshow",
  "kernelspec": {
   "display_name": "Python 3",
   "language": "python",
   "name": "python3"
  },
  "language_info": {
   "codemirror_mode": {
    "name": "ipython",
    "version": 3
   },
   "file_extension": ".py",
   "mimetype": "text/x-python",
   "name": "python",
   "nbconvert_exporter": "python",
   "pygments_lexer": "ipython3",
   "version": "3.7.3"
  }
 },
 "nbformat": 4,
 "nbformat_minor": 2
}
