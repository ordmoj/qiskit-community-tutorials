{
 "cells": [
  {
   "cell_type": "markdown",
   "metadata": {
    "slideshow": {
     "slide_type": "slide"
    }
   },
   "source": [
    "# Explore IBM Q\n",
    "Exploring the backend data visually on IBM Q Experience is a handy but strictly manual process. Sometimes you might want to include backend information when running your programs, for example to select the appropriate backend or dynamically apply your gates on the “best” qubits. To do this you need to dig into the available backend information by using Qiskit."
   ]
  },
  {
   "cell_type": "markdown",
   "metadata": {
    "slideshow": {
     "slide_type": "fragment"
    }
   },
   "source": [
    "Let's start by importing the IBMQ method and load our account."
   ]
  },
  {
   "cell_type": "code",
   "execution_count": 1,
   "metadata": {
    "slideshow": {
     "slide_type": "fragment"
    }
   },
   "outputs": [],
   "source": [
    "from qiskit import IBMQ\n",
    "\n",
    "#Save and store API key locally.\n",
    "#IBMQ.save_account('MY_API_TOKEN')\n",
    "\n",
    "IBMQ.load_account()\n",
    "provider = IBMQ.get_provider()"
   ]
  },
  {
   "cell_type": "markdown",
   "metadata": {
    "slideshow": {
     "slide_type": "slide"
    }
   },
   "source": [
    "Then, let's pick the least busy available backend for our exercise"
   ]
  },
  {
   "cell_type": "code",
   "execution_count": 2,
   "metadata": {
    "slideshow": {
     "slide_type": "subslide"
    }
   },
   "outputs": [
    {
     "name": "stdout",
     "output_type": "stream",
     "text": [
      "Selected backend: ibmqx2\n"
     ]
    }
   ],
   "source": [
    "from qiskit.providers.ibmq import least_busy\n",
    "backend = least_busy(provider.backends(operational=True, simulator=False))\n",
    "#backend = provider.get_backend('ibmq_vigo')\n",
    "print(\"Selected backend:\",backend.status().backend_name)\n"
   ]
  },
  {
   "cell_type": "markdown",
   "metadata": {
    "slideshow": {
     "slide_type": "slide"
    }
   },
   "source": [
    "Let's start by taking a look at the backend configuration details."
   ]
  },
  {
   "cell_type": "code",
   "execution_count": 3,
   "metadata": {
    "slideshow": {
     "slide_type": "fragment"
    }
   },
   "outputs": [
    {
     "data": {
      "text/plain": [
       "QasmBackendConfiguration(allow_object_storage=True, allow_q_circuit=False, allow_q_object=True, backend_name='ibmqx2', backend_version='2.0.0', basis_gates=['u1', 'u2', 'u3', 'cx', 'id'], conditional=False, coupling_map=[[0, 1], [0, 2], [1, 0], [1, 2], [2, 0], [2, 1], [2, 3], [2, 4], [3, 2], [3, 4], [4, 2], [4, 3]], credits_required=True, description='5 qubit device', gates=[GateConfig(coupling_map=[[0], [1], [2], [3], [4]], name='id', parameters=[], qasm_def='gate id q { U(0,0,0) q; }'), GateConfig(coupling_map=[[0], [1], [2], [3], [4]], name='u1', parameters=['lambda'], qasm_def='gate u1(lambda) q { U(0,0,lambda) q; }'), GateConfig(coupling_map=[[0], [1], [2], [3], [4]], name='u2', parameters=['phi', 'lambda'], qasm_def='gate u2(phi,lambda) q { U(pi/2,phi,lambda) q; }'), GateConfig(coupling_map=[[0], [1], [2], [3], [4]], name='u3', parameters=['theta', 'phi', 'lambda'], qasm_def='gate u3(theta,phi,lambda) q { U(theta,phi,lambda) q; }'), GateConfig(coupling_map=[[0, 1], [0, 2], [1, 0], [1, 2], [2, 0], [2, 1], [2, 3], [2, 4], [3, 2], [3, 4], [4, 2], [4, 3]], name='cx', parameters=[], qasm_def='gate cx q1,q2 { CX q1,q2; }')], local=False, max_experiments=75, max_shots=8192, memory=True, n_qubits=5, n_registers=1, online_date=datetime.datetime(2018, 11, 6, 5, 0, tzinfo=tzutc()), open_pulse=False, quantum_volume=8, sample_name='sparrow', simulator=False, url='None')"
      ]
     },
     "execution_count": 3,
     "metadata": {},
     "output_type": "execute_result"
    }
   ],
   "source": [
    "backend.configuration()"
   ]
  },
  {
   "cell_type": "markdown",
   "metadata": {
    "slideshow": {
     "slide_type": "slide"
    }
   },
   "source": [
    "We can for example take a look at the number of qubits for the backend by getting the `n_qubits` parameter from the backend configuration."
   ]
  },
  {
   "cell_type": "code",
   "execution_count": 4,
   "metadata": {
    "slideshow": {
     "slide_type": "fragment"
    }
   },
   "outputs": [
    {
     "name": "stdout",
     "output_type": "stream",
     "text": [
      "Number of qubits: 5\n"
     ]
    }
   ],
   "source": [
    "print(\"Number of qubits:\", backend.configuration().n_qubits)"
   ]
  },
  {
   "cell_type": "markdown",
   "metadata": {
    "slideshow": {
     "slide_type": "slide"
    }
   },
   "source": [
    "# Understanding the qubit coupling map for the chip\n",
    "\n",
    "**Time for you to do some work!** \n",
    "\n",
    "Another aspect of the backend that is important for entangling qubits is the interconnectivity between the individual qubits. Not all qubits can communicate directly with all other qubits. The coupling map illustrates which qubits can communicate directly with which, from the first qubit to the second. \n",
    "\n",
    "Use the `coupling_map` parameter from the backend configuration to see this information."
   ]
  },
  {
   "cell_type": "code",
   "execution_count": 5,
   "metadata": {
    "slideshow": {
     "slide_type": "fragment"
    }
   },
   "outputs": [
    {
     "data": {
      "text/plain": [
       "[[0, 1],\n",
       " [0, 2],\n",
       " [1, 0],\n",
       " [1, 2],\n",
       " [2, 0],\n",
       " [2, 1],\n",
       " [2, 3],\n",
       " [2, 4],\n",
       " [3, 2],\n",
       " [3, 4],\n",
       " [4, 2],\n",
       " [4, 3]]"
      ]
     },
     "execution_count": 5,
     "metadata": {},
     "output_type": "execute_result"
    }
   ],
   "source": [
    "# Your code here...\n",
    "\n",
    "backend.configuration().coupling_map"
   ]
  },
  {
   "cell_type": "markdown",
   "metadata": {
    "slideshow": {
     "slide_type": "slide"
    }
   },
   "source": [
    "# More backend information\n",
    "Other interesting information is the number of maximum shots you can run your quantum program and the max number of experiments you can run on the backend per day. It might also be interesting to know the number of pending jobs for the selected backend. For this you can use `backend.status().pending_jobs` which also includes other status information such as if the backend is active and which backend version it runs.. "
   ]
  },
  {
   "cell_type": "code",
   "execution_count": 6,
   "metadata": {
    "slideshow": {
     "slide_type": "fragment"
    }
   },
   "outputs": [
    {
     "name": "stdout",
     "output_type": "stream",
     "text": [
      "Max shots: 8192\n",
      "Max experiments: 75\n",
      "Pending jobs: 1\n"
     ]
    }
   ],
   "source": [
    "print(\"Max shots:\", backend.configuration().max_shots)\n",
    "print(\"Max experiments:\", backend.configuration().max_experiments)\n",
    "print(\"Pending jobs:\", backend.status().pending_jobs)"
   ]
  },
  {
   "cell_type": "markdown",
   "metadata": {
    "slideshow": {
     "slide_type": "slide"
    }
   },
   "source": [
    "You can also use some simple Python scripting to compare the available backends based on different criteria."
   ]
  },
  {
   "cell_type": "code",
   "execution_count": 7,
   "metadata": {
    "slideshow": {
     "slide_type": "fragment"
    }
   },
   "outputs": [
    {
     "name": "stdout",
     "output_type": "stream",
     "text": [
      "Name                 #Qubits    Max exp.   Pending jobs\n",
      "++++                 +++++++    ++++++++   ++++++++++++\n",
      "ibmq_qasm_simulator  32         300        2         \n",
      "ibmqx2               5          75         1         \n",
      "ibmq_16_melbourne    14         150        26        \n",
      "ibmq_vigo            5          75         8         \n",
      "ibmq_ourense         5          75         390       \n",
      "ibmq_london          5          75         4         \n",
      "ibmq_burlington      5          75         1         \n",
      "ibmq_essex           5          75         2         \n"
     ]
    }
   ],
   "source": [
    "# Get all available and operational backends.\n",
    "available_backends = provider.backends(operational=True)\n",
    "\n",
    "# Fish out criteria to compare\n",
    "print(\"{0:20} {1:<10} {2:<10} {3:<10}\".format(\"Name\",\"#Qubits\",\"Max exp.\",\"Pending jobs\"))\n",
    "print(\"{0:20} {1:<10} {2:<10} {3:<10}\".format(\"++++\",\"+++++++\",\"++++++++\",\"++++++++++++\"))\n",
    "\n",
    "for n in range(0, len(available_backends)):\n",
    "    available_backend = provider.get_backend(str(available_backends[n]))\n",
    "    print(\"{0:20} {1:<10} {2:<10} {3:<10}\"\n",
    "          .format(available_backend.name(), available_backend.configuration().n_qubits,\n",
    "                                  available_backend.configuration().max_experiments,\n",
    "                                  available_backend.status().pending_jobs))\n",
    "    \n",
    "    "
   ]
  },
  {
   "cell_type": "markdown",
   "metadata": {
    "slideshow": {
     "slide_type": "slide"
    }
   },
   "source": [
    "# The physical properties of a backend\n",
    "We can now take a look at the physical properties of the selected backend. Let's start by collecting everything in one big pile."
   ]
  },
  {
   "cell_type": "code",
   "execution_count": 8,
   "metadata": {
    "slideshow": {
     "slide_type": "fragment"
    }
   },
   "outputs": [
    {
     "data": {
      "text/plain": [
       "BackendProperties(backend_name='ibmqx2', backend_version='2.0.0', gates=[Gate(gate='id', name='id_0', parameters=[Nduv(date=datetime.datetime(2019, 10, 28, 8, 40, 22, tzinfo=tzutc()), name='gate_error', unit='', value=0.0005212457153247779), Nduv(date=datetime.datetime(2019, 10, 28, 9, 20, 32, tzinfo=tzutc()), name='gate_length', unit='ns', value=35.55555555555556)], qubits=[0]), Gate(gate='u1', name='u1_0', parameters=[Nduv(date=datetime.datetime(2019, 10, 28, 8, 40, 22, tzinfo=tzutc()), name='gate_error', unit='', value=0.0), Nduv(date=datetime.datetime(2019, 10, 28, 9, 20, 32, tzinfo=tzutc()), name='gate_length', unit='ns', value=0.0)], qubits=[0]), Gate(gate='u2', name='u2_0', parameters=[Nduv(date=datetime.datetime(2019, 10, 28, 8, 40, 22, tzinfo=tzutc()), name='gate_error', unit='', value=0.0005212457153247779), Nduv(date=datetime.datetime(2019, 10, 28, 9, 20, 32, tzinfo=tzutc()), name='gate_length', unit='ns', value=35.55555555555556)], qubits=[0]), Gate(gate='u3', name='u3_0', parameters=[Nduv(date=datetime.datetime(2019, 10, 28, 8, 40, 22, tzinfo=tzutc()), name='gate_error', unit='', value=0.0010424914306495557), Nduv(date=datetime.datetime(2019, 10, 28, 9, 20, 32, tzinfo=tzutc()), name='gate_length', unit='ns', value=71.11111111111111)], qubits=[0]), Gate(gate='id', name='id_1', parameters=[Nduv(date=datetime.datetime(2019, 10, 28, 8, 42, 9, tzinfo=tzutc()), name='gate_error', unit='', value=0.0007126261807064454), Nduv(date=datetime.datetime(2019, 10, 28, 9, 20, 32, tzinfo=tzutc()), name='gate_length', unit='ns', value=35.55555555555556)], qubits=[1]), Gate(gate='u1', name='u1_1', parameters=[Nduv(date=datetime.datetime(2019, 10, 28, 8, 42, 9, tzinfo=tzutc()), name='gate_error', unit='', value=0.0), Nduv(date=datetime.datetime(2019, 10, 28, 9, 20, 32, tzinfo=tzutc()), name='gate_length', unit='ns', value=0.0)], qubits=[1]), Gate(gate='u2', name='u2_1', parameters=[Nduv(date=datetime.datetime(2019, 10, 28, 8, 42, 9, tzinfo=tzutc()), name='gate_error', unit='', value=0.0007126261807064454), Nduv(date=datetime.datetime(2019, 10, 28, 9, 20, 32, tzinfo=tzutc()), name='gate_length', unit='ns', value=35.55555555555556)], qubits=[1]), Gate(gate='u3', name='u3_1', parameters=[Nduv(date=datetime.datetime(2019, 10, 28, 8, 42, 9, tzinfo=tzutc()), name='gate_error', unit='', value=0.0014252523614128908), Nduv(date=datetime.datetime(2019, 10, 28, 9, 20, 32, tzinfo=tzutc()), name='gate_length', unit='ns', value=71.11111111111111)], qubits=[1]), Gate(gate='id', name='id_2', parameters=[Nduv(date=datetime.datetime(2019, 10, 28, 8, 43, 57, tzinfo=tzutc()), name='gate_error', unit='', value=0.00039095830394524084), Nduv(date=datetime.datetime(2019, 10, 28, 9, 20, 32, tzinfo=tzutc()), name='gate_length', unit='ns', value=35.55555555555556)], qubits=[2]), Gate(gate='u1', name='u1_2', parameters=[Nduv(date=datetime.datetime(2019, 10, 28, 8, 43, 57, tzinfo=tzutc()), name='gate_error', unit='', value=0.0), Nduv(date=datetime.datetime(2019, 10, 28, 9, 20, 32, tzinfo=tzutc()), name='gate_length', unit='ns', value=0.0)], qubits=[2]), Gate(gate='u2', name='u2_2', parameters=[Nduv(date=datetime.datetime(2019, 10, 28, 8, 43, 57, tzinfo=tzutc()), name='gate_error', unit='', value=0.00039095830394524084), Nduv(date=datetime.datetime(2019, 10, 28, 9, 20, 32, tzinfo=tzutc()), name='gate_length', unit='ns', value=35.55555555555556)], qubits=[2]), Gate(gate='u3', name='u3_2', parameters=[Nduv(date=datetime.datetime(2019, 10, 28, 8, 43, 57, tzinfo=tzutc()), name='gate_error', unit='', value=0.0007819166078904817), Nduv(date=datetime.datetime(2019, 10, 28, 9, 20, 32, tzinfo=tzutc()), name='gate_length', unit='ns', value=71.11111111111111)], qubits=[2]), Gate(gate='id', name='id_3', parameters=[Nduv(date=datetime.datetime(2019, 10, 28, 8, 45, 44, tzinfo=tzutc()), name='gate_error', unit='', value=0.0004921610024274444), Nduv(date=datetime.datetime(2019, 10, 28, 9, 20, 32, tzinfo=tzutc()), name='gate_length', unit='ns', value=35.55555555555556)], qubits=[3]), Gate(gate='u1', name='u1_3', parameters=[Nduv(date=datetime.datetime(2019, 10, 28, 8, 45, 44, tzinfo=tzutc()), name='gate_error', unit='', value=0.0), Nduv(date=datetime.datetime(2019, 10, 28, 9, 20, 32, tzinfo=tzutc()), name='gate_length', unit='ns', value=0.0)], qubits=[3]), Gate(gate='u2', name='u2_3', parameters=[Nduv(date=datetime.datetime(2019, 10, 28, 8, 45, 44, tzinfo=tzutc()), name='gate_error', unit='', value=0.0004921610024274444), Nduv(date=datetime.datetime(2019, 10, 28, 9, 20, 32, tzinfo=tzutc()), name='gate_length', unit='ns', value=35.55555555555556)], qubits=[3]), Gate(gate='u3', name='u3_3', parameters=[Nduv(date=datetime.datetime(2019, 10, 28, 8, 45, 44, tzinfo=tzutc()), name='gate_error', unit='', value=0.0009843220048548888), Nduv(date=datetime.datetime(2019, 10, 28, 9, 20, 32, tzinfo=tzutc()), name='gate_length', unit='ns', value=71.11111111111111)], qubits=[3]), Gate(gate='id', name='id_4', parameters=[Nduv(date=datetime.datetime(2019, 10, 28, 8, 47, 32, tzinfo=tzutc()), name='gate_error', unit='', value=0.000389409638026384), Nduv(date=datetime.datetime(2019, 10, 28, 9, 20, 32, tzinfo=tzutc()), name='gate_length', unit='ns', value=35.55555555555556)], qubits=[4]), Gate(gate='u1', name='u1_4', parameters=[Nduv(date=datetime.datetime(2019, 10, 28, 8, 47, 32, tzinfo=tzutc()), name='gate_error', unit='', value=0.0), Nduv(date=datetime.datetime(2019, 10, 28, 9, 20, 32, tzinfo=tzutc()), name='gate_length', unit='ns', value=0.0)], qubits=[4]), Gate(gate='u2', name='u2_4', parameters=[Nduv(date=datetime.datetime(2019, 10, 28, 8, 47, 32, tzinfo=tzutc()), name='gate_error', unit='', value=0.000389409638026384), Nduv(date=datetime.datetime(2019, 10, 28, 9, 20, 32, tzinfo=tzutc()), name='gate_length', unit='ns', value=35.55555555555556)], qubits=[4]), Gate(gate='u3', name='u3_4', parameters=[Nduv(date=datetime.datetime(2019, 10, 28, 8, 47, 32, tzinfo=tzutc()), name='gate_error', unit='', value=0.000778819276052768), Nduv(date=datetime.datetime(2019, 10, 28, 9, 20, 32, tzinfo=tzutc()), name='gate_length', unit='ns', value=71.11111111111111)], qubits=[4]), Gate(gate='cx', name='cx0_1', parameters=[Nduv(date=datetime.datetime(2019, 10, 28, 8, 51, 13, tzinfo=tzutc()), name='gate_error', unit='', value=0.019667248618445127), Nduv(date=datetime.datetime(2019, 10, 28, 9, 20, 32, tzinfo=tzutc()), name='gate_length', unit='ns', value=362.66666666666663)], qubits=[0, 1]), Gate(gate='cx', name='cx0_2', parameters=[Nduv(date=datetime.datetime(2019, 10, 28, 8, 57, 5, tzinfo=tzutc()), name='gate_error', unit='', value=0.019803971437818618), Nduv(date=datetime.datetime(2019, 10, 28, 9, 20, 32, tzinfo=tzutc()), name='gate_length', unit='ns', value=490.66666666666663)], qubits=[0, 2]), Gate(gate='cx', name='cx1_0', parameters=[Nduv(date=datetime.datetime(2019, 10, 28, 8, 51, 13, tzinfo=tzutc()), name='gate_error', unit='', value=0.019667248618445127), Nduv(date=datetime.datetime(2019, 10, 28, 9, 20, 32, tzinfo=tzutc()), name='gate_length', unit='ns', value=362.66666666666663)], qubits=[1, 0]), Gate(gate='cx', name='cx1_2', parameters=[Nduv(date=datetime.datetime(2019, 10, 28, 9, 2, 56, tzinfo=tzutc()), name='gate_error', unit='', value=0.024566754542921593), Nduv(date=datetime.datetime(2019, 10, 28, 9, 20, 32, tzinfo=tzutc()), name='gate_length', unit='ns', value=512.0)], qubits=[1, 2]), Gate(gate='cx', name='cx2_0', parameters=[Nduv(date=datetime.datetime(2019, 10, 28, 8, 57, 5, tzinfo=tzutc()), name='gate_error', unit='', value=0.019803971437818618), Nduv(date=datetime.datetime(2019, 10, 28, 9, 20, 32, tzinfo=tzutc()), name='gate_length', unit='ns', value=490.66666666666663)], qubits=[2, 0]), Gate(gate='cx', name='cx2_1', parameters=[Nduv(date=datetime.datetime(2019, 10, 28, 9, 2, 56, tzinfo=tzutc()), name='gate_error', unit='', value=0.024566754542921593), Nduv(date=datetime.datetime(2019, 10, 28, 9, 20, 32, tzinfo=tzutc()), name='gate_length', unit='ns', value=512.0)], qubits=[2, 1]), Gate(gate='cx', name='cx2_3', parameters=[Nduv(date=datetime.datetime(2019, 10, 28, 9, 8, 48, tzinfo=tzutc()), name='gate_error', unit='', value=0.015768977941000323), Nduv(date=datetime.datetime(2019, 10, 28, 9, 20, 32, tzinfo=tzutc()), name='gate_length', unit='ns', value=391.1111111111111)], qubits=[2, 3]), Gate(gate='cx', name='cx2_4', parameters=[Nduv(date=datetime.datetime(2019, 10, 28, 9, 20, 32, tzinfo=tzutc()), name='gate_error', unit='', value=0.012311784716447782), Nduv(date=datetime.datetime(2019, 10, 28, 9, 20, 32, tzinfo=tzutc()), name='gate_length', unit='ns', value=312.88888888888886)], qubits=[2, 4]), Gate(gate='cx', name='cx3_2', parameters=[Nduv(date=datetime.datetime(2019, 10, 28, 9, 8, 48, tzinfo=tzutc()), name='gate_error', unit='', value=0.015768977941000323), Nduv(date=datetime.datetime(2019, 10, 28, 9, 20, 32, tzinfo=tzutc()), name='gate_length', unit='ns', value=391.1111111111111)], qubits=[3, 2]), Gate(gate='cx', name='cx3_4', parameters=[Nduv(date=datetime.datetime(2019, 10, 28, 9, 14, 40, tzinfo=tzutc()), name='gate_error', unit='', value=0.01503604638721795), Nduv(date=datetime.datetime(2019, 10, 28, 9, 20, 32, tzinfo=tzutc()), name='gate_length', unit='ns', value=405.3333333333333)], qubits=[3, 4]), Gate(gate='cx', name='cx4_2', parameters=[Nduv(date=datetime.datetime(2019, 10, 28, 9, 20, 32, tzinfo=tzutc()), name='gate_error', unit='', value=0.012311784716447782), Nduv(date=datetime.datetime(2019, 10, 28, 9, 20, 32, tzinfo=tzutc()), name='gate_length', unit='ns', value=312.88888888888886)], qubits=[4, 2]), Gate(gate='cx', name='cx4_3', parameters=[Nduv(date=datetime.datetime(2019, 10, 28, 9, 14, 40, tzinfo=tzutc()), name='gate_error', unit='', value=0.01503604638721795), Nduv(date=datetime.datetime(2019, 10, 28, 9, 20, 32, tzinfo=tzutc()), name='gate_length', unit='ns', value=405.3333333333333)], qubits=[4, 3])], general=[], last_update_date=datetime.datetime(2019, 10, 28, 9, 20, 32, tzinfo=tzutc()), qubits=[[Nduv(date=datetime.datetime(2019, 10, 28, 8, 35, 9, tzinfo=tzutc()), name='T1', unit='µs', value=56.81845343292151), Nduv(date=datetime.datetime(2019, 10, 28, 8, 36, 40, tzinfo=tzutc()), name='T2', unit='µs', value=56.78515177122035), Nduv(date=datetime.datetime(2019, 10, 28, 9, 20, 32, tzinfo=tzutc()), name='frequency', unit='GHz', value=5.286301422713525), Nduv(date=datetime.datetime(2019, 10, 28, 8, 34, 24, tzinfo=tzutc()), name='readout_error', unit='', value=0.012499999999999956), Nduv(date=datetime.datetime(2019, 10, 28, 8, 34, 24, tzinfo=tzutc()), name='prob_meas0_prep1', unit='', value=0.016000000000000014), Nduv(date=datetime.datetime(2019, 10, 28, 8, 34, 24, tzinfo=tzutc()), name='prob_meas1_prep0', unit='', value=0.009)], [Nduv(date=datetime.datetime(2019, 10, 27, 8, 13, 32, tzinfo=tzutc()), name='T1', unit='µs', value=47.42848083646743), Nduv(date=datetime.datetime(2019, 10, 28, 8, 37, 46, tzinfo=tzutc()), name='T2', unit='µs', value=26.840959416801752), Nduv(date=datetime.datetime(2019, 10, 28, 9, 20, 32, tzinfo=tzutc()), name='frequency', unit='GHz', value=5.237854913650781), Nduv(date=datetime.datetime(2019, 10, 28, 8, 34, 24, tzinfo=tzutc()), name='readout_error', unit='', value=0.01649999999999996), Nduv(date=datetime.datetime(2019, 10, 28, 8, 34, 24, tzinfo=tzutc()), name='prob_meas0_prep1', unit='', value=0.026000000000000023), Nduv(date=datetime.datetime(2019, 10, 28, 8, 34, 24, tzinfo=tzutc()), name='prob_meas1_prep0', unit='', value=0.007)], [Nduv(date=datetime.datetime(2019, 10, 28, 8, 35, 9, tzinfo=tzutc()), name='T1', unit='µs', value=62.19461064365008), Nduv(date=datetime.datetime(2019, 10, 28, 8, 39, 13, tzinfo=tzutc()), name='T2', unit='µs', value=62.67889819498196), Nduv(date=datetime.datetime(2019, 10, 28, 9, 20, 32, tzinfo=tzutc()), name='frequency', unit='GHz', value=5.030267204176968), Nduv(date=datetime.datetime(2019, 10, 28, 8, 34, 24, tzinfo=tzutc()), name='readout_error', unit='', value=0.016000000000000014), Nduv(date=datetime.datetime(2019, 10, 28, 8, 34, 24, tzinfo=tzutc()), name='prob_meas0_prep1', unit='', value=0.019000000000000017), Nduv(date=datetime.datetime(2019, 10, 28, 8, 34, 24, tzinfo=tzutc()), name='prob_meas1_prep0', unit='', value=0.013)], [Nduv(date=datetime.datetime(2019, 10, 28, 8, 35, 9, tzinfo=tzutc()), name='T1', unit='µs', value=49.88641614410751), Nduv(date=datetime.datetime(2019, 10, 28, 8, 36, 40, tzinfo=tzutc()), name='T2', unit='µs', value=24.939848831732604), Nduv(date=datetime.datetime(2019, 10, 28, 9, 20, 32, tzinfo=tzutc()), name='frequency', unit='GHz', value=5.296030056704045), Nduv(date=datetime.datetime(2019, 10, 28, 8, 34, 24, tzinfo=tzutc()), name='readout_error', unit='', value=0.013500000000000068), Nduv(date=datetime.datetime(2019, 10, 28, 8, 34, 24, tzinfo=tzutc()), name='prob_meas0_prep1', unit='', value=0.020000000000000018), Nduv(date=datetime.datetime(2019, 10, 28, 8, 34, 24, tzinfo=tzutc()), name='prob_meas1_prep0', unit='', value=0.007)], [Nduv(date=datetime.datetime(2019, 10, 27, 8, 13, 32, tzinfo=tzutc()), name='T1', unit='µs', value=46.742931292054294), Nduv(date=datetime.datetime(2019, 10, 28, 8, 37, 46, tzinfo=tzutc()), name='T2', unit='µs', value=31.09158904525702), Nduv(date=datetime.datetime(2019, 10, 28, 9, 20, 32, tzinfo=tzutc()), name='frequency', unit='GHz', value=5.08471379563457), Nduv(date=datetime.datetime(2019, 10, 28, 8, 34, 24, tzinfo=tzutc()), name='readout_error', unit='', value=0.019500000000000073), Nduv(date=datetime.datetime(2019, 10, 28, 8, 34, 24, tzinfo=tzutc()), name='prob_meas0_prep1', unit='', value=0.027000000000000024), Nduv(date=datetime.datetime(2019, 10, 28, 8, 34, 24, tzinfo=tzutc()), name='prob_meas1_prep0', unit='', value=0.012)]])"
      ]
     },
     "execution_count": 8,
     "metadata": {},
     "output_type": "execute_result"
    }
   ],
   "source": [
    "backend.properties()\n"
   ]
  },
  {
   "cell_type": "markdown",
   "metadata": {
    "slideshow": {
     "slide_type": "slide"
    }
   },
   "source": [
    "From this mess, which contains all relevant hardware information for the backend, we can dig out the meat. Let us start with some simple data such as the backend name."
   ]
  },
  {
   "cell_type": "code",
   "execution_count": 9,
   "metadata": {
    "slideshow": {
     "slide_type": "fragment"
    }
   },
   "outputs": [
    {
     "data": {
      "text/plain": [
       "'ibmqx2'"
      ]
     },
     "execution_count": 9,
     "metadata": {},
     "output_type": "execute_result"
    }
   ],
   "source": [
    "backend.properties().backend_name\n"
   ]
  },
  {
   "cell_type": "markdown",
   "metadata": {
    "slideshow": {
     "slide_type": "slide"
    }
   },
   "source": [
    "Other properties involve more complex information, such as the performance information for the qubits. Let us take a look at the available qubit information for this backend, which is returned as a Python list."
   ]
  },
  {
   "cell_type": "code",
   "execution_count": 10,
   "metadata": {
    "slideshow": {
     "slide_type": "fragment"
    }
   },
   "outputs": [
    {
     "data": {
      "text/plain": [
       "[[Nduv(date=datetime.datetime(2019, 10, 28, 8, 35, 9, tzinfo=tzutc()), name='T1', unit='µs', value=56.81845343292151),\n",
       "  Nduv(date=datetime.datetime(2019, 10, 28, 8, 36, 40, tzinfo=tzutc()), name='T2', unit='µs', value=56.78515177122035),\n",
       "  Nduv(date=datetime.datetime(2019, 10, 28, 9, 20, 32, tzinfo=tzutc()), name='frequency', unit='GHz', value=5.286301422713525),\n",
       "  Nduv(date=datetime.datetime(2019, 10, 28, 8, 34, 24, tzinfo=tzutc()), name='readout_error', unit='', value=0.012499999999999956),\n",
       "  Nduv(date=datetime.datetime(2019, 10, 28, 8, 34, 24, tzinfo=tzutc()), name='prob_meas0_prep1', unit='', value=0.016000000000000014),\n",
       "  Nduv(date=datetime.datetime(2019, 10, 28, 8, 34, 24, tzinfo=tzutc()), name='prob_meas1_prep0', unit='', value=0.009)],\n",
       " [Nduv(date=datetime.datetime(2019, 10, 27, 8, 13, 32, tzinfo=tzutc()), name='T1', unit='µs', value=47.42848083646743),\n",
       "  Nduv(date=datetime.datetime(2019, 10, 28, 8, 37, 46, tzinfo=tzutc()), name='T2', unit='µs', value=26.840959416801752),\n",
       "  Nduv(date=datetime.datetime(2019, 10, 28, 9, 20, 32, tzinfo=tzutc()), name='frequency', unit='GHz', value=5.237854913650781),\n",
       "  Nduv(date=datetime.datetime(2019, 10, 28, 8, 34, 24, tzinfo=tzutc()), name='readout_error', unit='', value=0.01649999999999996),\n",
       "  Nduv(date=datetime.datetime(2019, 10, 28, 8, 34, 24, tzinfo=tzutc()), name='prob_meas0_prep1', unit='', value=0.026000000000000023),\n",
       "  Nduv(date=datetime.datetime(2019, 10, 28, 8, 34, 24, tzinfo=tzutc()), name='prob_meas1_prep0', unit='', value=0.007)],\n",
       " [Nduv(date=datetime.datetime(2019, 10, 28, 8, 35, 9, tzinfo=tzutc()), name='T1', unit='µs', value=62.19461064365008),\n",
       "  Nduv(date=datetime.datetime(2019, 10, 28, 8, 39, 13, tzinfo=tzutc()), name='T2', unit='µs', value=62.67889819498196),\n",
       "  Nduv(date=datetime.datetime(2019, 10, 28, 9, 20, 32, tzinfo=tzutc()), name='frequency', unit='GHz', value=5.030267204176968),\n",
       "  Nduv(date=datetime.datetime(2019, 10, 28, 8, 34, 24, tzinfo=tzutc()), name='readout_error', unit='', value=0.016000000000000014),\n",
       "  Nduv(date=datetime.datetime(2019, 10, 28, 8, 34, 24, tzinfo=tzutc()), name='prob_meas0_prep1', unit='', value=0.019000000000000017),\n",
       "  Nduv(date=datetime.datetime(2019, 10, 28, 8, 34, 24, tzinfo=tzutc()), name='prob_meas1_prep0', unit='', value=0.013)],\n",
       " [Nduv(date=datetime.datetime(2019, 10, 28, 8, 35, 9, tzinfo=tzutc()), name='T1', unit='µs', value=49.88641614410751),\n",
       "  Nduv(date=datetime.datetime(2019, 10, 28, 8, 36, 40, tzinfo=tzutc()), name='T2', unit='µs', value=24.939848831732604),\n",
       "  Nduv(date=datetime.datetime(2019, 10, 28, 9, 20, 32, tzinfo=tzutc()), name='frequency', unit='GHz', value=5.296030056704045),\n",
       "  Nduv(date=datetime.datetime(2019, 10, 28, 8, 34, 24, tzinfo=tzutc()), name='readout_error', unit='', value=0.013500000000000068),\n",
       "  Nduv(date=datetime.datetime(2019, 10, 28, 8, 34, 24, tzinfo=tzutc()), name='prob_meas0_prep1', unit='', value=0.020000000000000018),\n",
       "  Nduv(date=datetime.datetime(2019, 10, 28, 8, 34, 24, tzinfo=tzutc()), name='prob_meas1_prep0', unit='', value=0.007)],\n",
       " [Nduv(date=datetime.datetime(2019, 10, 27, 8, 13, 32, tzinfo=tzutc()), name='T1', unit='µs', value=46.742931292054294),\n",
       "  Nduv(date=datetime.datetime(2019, 10, 28, 8, 37, 46, tzinfo=tzutc()), name='T2', unit='µs', value=31.09158904525702),\n",
       "  Nduv(date=datetime.datetime(2019, 10, 28, 9, 20, 32, tzinfo=tzutc()), name='frequency', unit='GHz', value=5.08471379563457),\n",
       "  Nduv(date=datetime.datetime(2019, 10, 28, 8, 34, 24, tzinfo=tzutc()), name='readout_error', unit='', value=0.019500000000000073),\n",
       "  Nduv(date=datetime.datetime(2019, 10, 28, 8, 34, 24, tzinfo=tzutc()), name='prob_meas0_prep1', unit='', value=0.027000000000000024),\n",
       "  Nduv(date=datetime.datetime(2019, 10, 28, 8, 34, 24, tzinfo=tzutc()), name='prob_meas1_prep0', unit='', value=0.012)]]"
      ]
     },
     "execution_count": 10,
     "metadata": {},
     "output_type": "execute_result"
    }
   ],
   "source": [
    "backend.properties().qubits"
   ]
  },
  {
   "cell_type": "markdown",
   "metadata": {
    "slideshow": {
     "slide_type": "slide"
    }
   },
   "source": [
    "Again, let us dig in an and take a look at some of the available qubit data, such as the T1 and T2 decoherence values, the frequency, and the readout error for the qubits. For this exercise we can write a simple Python `for` loop that prints the `name`, `value`, and `unit` for the relevant data entry for each qubit. "
   ]
  },
  {
   "cell_type": "code",
   "execution_count": 11,
   "metadata": {
    "slideshow": {
     "slide_type": "fragment"
    }
   },
   "outputs": [
    {
     "name": "stdout",
     "output_type": "stream",
     "text": [
      "Qubit 0 :\n",
      "T1 = 56.81845343292151 µs\n",
      "T2 = 56.78515177122035 µs\n",
      "frequency = 5.286301422713525 GHz\n",
      "readout_error = 0.012499999999999956 \n",
      "prob_meas0_prep1 = 0.016000000000000014 \n",
      "prob_meas1_prep0 = 0.009 \n",
      "Qubit 1 :\n",
      "T1 = 47.42848083646743 µs\n",
      "T2 = 26.840959416801752 µs\n",
      "frequency = 5.237854913650781 GHz\n",
      "readout_error = 0.01649999999999996 \n",
      "prob_meas0_prep1 = 0.026000000000000023 \n",
      "prob_meas1_prep0 = 0.007 \n",
      "Qubit 2 :\n",
      "T1 = 62.19461064365008 µs\n",
      "T2 = 62.67889819498196 µs\n",
      "frequency = 5.030267204176968 GHz\n",
      "readout_error = 0.016000000000000014 \n",
      "prob_meas0_prep1 = 0.019000000000000017 \n",
      "prob_meas1_prep0 = 0.013 \n",
      "Qubit 3 :\n",
      "T1 = 49.88641614410751 µs\n",
      "T2 = 24.939848831732604 µs\n",
      "frequency = 5.296030056704045 GHz\n",
      "readout_error = 0.013500000000000068 \n",
      "prob_meas0_prep1 = 0.020000000000000018 \n",
      "prob_meas1_prep0 = 0.007 \n",
      "Qubit 4 :\n",
      "T1 = 46.742931292054294 µs\n",
      "T2 = 31.09158904525702 µs\n",
      "frequency = 5.08471379563457 GHz\n",
      "readout_error = 0.019500000000000073 \n",
      "prob_meas0_prep1 = 0.027000000000000024 \n",
      "prob_meas1_prep0 = 0.012 \n"
     ]
    }
   ],
   "source": [
    "for q in range (0, backend.configuration().n_qubits):\n",
    "    print(\"Qubit\",q,\":\")\n",
    "    for n in range (0, len(backend.properties().qubits[0])):\n",
    "        print(backend.properties().qubits[q][n].name,\n",
    "              \"=\",\n",
    "              backend.properties().qubits[q][n].value,backend.properties().qubits[q][n].unit)"
   ]
  },
  {
   "cell_type": "markdown",
   "metadata": {
    "slideshow": {
     "slide_type": "slide"
    }
   },
   "source": [
    "In addition to the Qiskit way of pulling out the data you can also use the graphical Jupyter view of this information. "
   ]
  },
  {
   "cell_type": "code",
   "execution_count": 12,
   "metadata": {
    "scrolled": false,
    "slideshow": {
     "slide_type": "fragment"
    }
   },
   "outputs": [
    {
     "data": {
      "application/vnd.jupyter.widget-view+json": {
       "model_id": "e25ebf66c21441ba8aa5a14e6404d005",
       "version_major": 2,
       "version_minor": 0
      },
      "text/plain": [
       "VBox(children=(HTML(value=\"<h2 style ='color:#ffffff; background-color:#000000;padding-top: 1%; padding-bottom…"
      ]
     },
     "metadata": {},
     "output_type": "display_data"
    },
    {
     "name": "stderr",
     "output_type": "stream",
     "text": [
      "UsageError: Line magic function `%qiskit_backend_monitor` not found.\n"
     ]
    }
   ],
   "source": [
    "%matplotlib inline\n",
    "from qiskit.tools.jupyter import *\n",
    "%qiskit_backend_overview\n",
    "%qiskit_backend_monitor backend\n"
   ]
  },
  {
   "cell_type": "markdown",
   "metadata": {
    "slideshow": {
     "slide_type": "slide"
    }
   },
   "source": [
    "Depending on the type of quantum program that you are writing, certain aspects of the backend might be important to your, and you might want to include these directly when you code your program. For example, you might be interested in the qubits with the smallest gate errors and readout errors, or if you are running deep circuits you might be interested in long T1 and T2 times. Another important piece of information might be the quality of the CNOT gates supported by the chip. "
   ]
  },
  {
   "cell_type": "markdown",
   "metadata": {
    "slideshow": {
     "slide_type": "subslide"
    }
   },
   "source": [
    "For more assistance on the backend, use `help(backend)`"
   ]
  },
  {
   "cell_type": "code",
   "execution_count": null,
   "metadata": {
    "slideshow": {
     "slide_type": "subslide"
    }
   },
   "outputs": [],
   "source": [
    "help(backend)"
   ]
  },
  {
   "cell_type": "code",
   "execution_count": null,
   "metadata": {},
   "outputs": [],
   "source": []
  }
 ],
 "metadata": {
  "celltoolbar": "Slideshow",
  "kernelspec": {
   "display_name": "Python 3",
   "language": "python",
   "name": "python3"
  },
  "language_info": {
   "codemirror_mode": {
    "name": "ipython",
    "version": 3
   },
   "file_extension": ".py",
   "mimetype": "text/x-python",
   "name": "python",
   "nbconvert_exporter": "python",
   "pygments_lexer": "ipython3",
   "version": "3.7.3"
  }
 },
 "nbformat": 4,
 "nbformat_minor": 2
}
