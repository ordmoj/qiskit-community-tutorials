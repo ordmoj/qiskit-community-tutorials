{
 "cells": [
  {
   "cell_type": "markdown",
   "metadata": {
    "slideshow": {
     "slide_type": "slide"
    }
   },
   "source": [
    "# Explore IBM Q\n",
    "Exploring the backend data visually on IBM Q Experience is a handy but strictly manual process. Sometimes you might want to include backend information when running your programs, for example to select the appropriate backend or dynamically apply your gates on the “best” qubits. To do this you need to dig into the available backend information by using Qiskit."
   ]
  },
  {
   "cell_type": "markdown",
   "metadata": {
    "slideshow": {
     "slide_type": "fragment"
    }
   },
   "source": [
    "Let's start by importing the IBMQ method and load our account."
   ]
  },
  {
   "cell_type": "code",
   "execution_count": 1,
   "metadata": {
    "slideshow": {
     "slide_type": "fragment"
    }
   },
   "outputs": [],
   "source": [
    "from qiskit import IBMQ\n",
    "\n",
    "#Save and store API key locally.\n",
    "#IBMQ.save_account('MY_API_TOKEN')\n",
    "\n",
    "IBMQ.load_account()\n",
    "provider = IBMQ.get_provider()"
   ]
  },
  {
   "cell_type": "markdown",
   "metadata": {
    "slideshow": {
     "slide_type": "slide"
    }
   },
   "source": [
    "Then, let's pick the least busy available backend for our exercise"
   ]
  },
  {
   "cell_type": "code",
   "execution_count": 2,
   "metadata": {
    "slideshow": {
     "slide_type": "subslide"
    }
   },
   "outputs": [
    {
     "name": "stdout",
     "output_type": "stream",
     "text": [
      "Selected backend: ibmq_vigo\n"
     ]
    }
   ],
   "source": [
    "from qiskit.providers.ibmq import least_busy\n",
    "backend = least_busy(provider.backends(operational=True, simulator=False))\n",
    "#backend = provider.get_backend('ibmq_vigo')\n",
    "print(\"Selected backend:\",backend.status().backend_name)\n"
   ]
  },
  {
   "cell_type": "markdown",
   "metadata": {
    "slideshow": {
     "slide_type": "slide"
    }
   },
   "source": [
    "Let's start by taking a look at the backend configuration details."
   ]
  },
  {
   "cell_type": "code",
   "execution_count": 3,
   "metadata": {
    "slideshow": {
     "slide_type": "fragment"
    }
   },
   "outputs": [
    {
     "data": {
      "text/plain": [
       "QasmBackendConfiguration(allow_object_storage=True, allow_q_circuit=False, allow_q_object=True, backend_name='ibmq_vigo', backend_version='1.0.1', basis_gates=['u1', 'u2', 'u3', 'cx', 'id'], conditional=False, coupling_map=[[0, 1], [1, 0], [1, 2], [1, 3], [2, 1], [3, 1], [3, 4], [4, 3]], credits_required=True, description='5 qubit device Vigo', gates=[GateConfig(coupling_map=[[0], [1], [2], [3], [4]], name='id', parameters=[], qasm_def='gate id q { U(0,0,0) q; }'), GateConfig(coupling_map=[[0], [1], [2], [3], [4]], name='u1', parameters=['lambda'], qasm_def='gate u1(lambda) q { U(0,0,lambda) q; }'), GateConfig(coupling_map=[[0], [1], [2], [3], [4]], name='u2', parameters=['phi', 'lambda'], qasm_def='gate u2(phi,lambda) q { U(pi/2,phi,lambda) q; }'), GateConfig(coupling_map=[[0], [1], [2], [3], [4]], name='u3', parameters=['theta', 'phi', 'lambda'], qasm_def='gate u3(theta,phi,lambda) q { U(theta,phi,lambda) q; }'), GateConfig(coupling_map=[[0, 1], [1, 0], [1, 2], [1, 3], [2, 1], [3, 1], [3, 4], [4, 3]], name='cx', parameters=[], qasm_def='gate cx q1,q2 { CX q1,q2; }')], local=False, max_experiments=75, max_shots=8192, memory=True, n_qubits=5, n_registers=1, online_date=datetime.datetime(2019, 7, 3, 4, 0, tzinfo=tzutc()), open_pulse=False, quantum_volume=16, sample_name='Giraffe', simulator=False, url='None')"
      ]
     },
     "execution_count": 3,
     "metadata": {},
     "output_type": "execute_result"
    }
   ],
   "source": [
    "backend.configuration()"
   ]
  },
  {
   "cell_type": "markdown",
   "metadata": {
    "slideshow": {
     "slide_type": "slide"
    }
   },
   "source": [
    "We can for example take a look at the number of qubits for the backend by getting the `n_qubits` parameter from the backend configuration."
   ]
  },
  {
   "cell_type": "code",
   "execution_count": 4,
   "metadata": {
    "slideshow": {
     "slide_type": "fragment"
    }
   },
   "outputs": [
    {
     "name": "stdout",
     "output_type": "stream",
     "text": [
      "Number of qubits: 5\n"
     ]
    }
   ],
   "source": [
    "print(\"Number of qubits:\", backend.configuration().n_qubits)"
   ]
  },
  {
   "cell_type": "markdown",
   "metadata": {
    "slideshow": {
     "slide_type": "slide"
    }
   },
   "source": [
    "# Understanding the qubit coupling map for the chip\n",
    "\n",
    "**Time for you to do some work!** \n",
    "\n",
    "Another aspect of the backend that is important for entangling qubits is the interconnectivity between the individual qubits. Not all qubits can communicate directly with all other qubits. The coupling map illustrates which qubits can communicate directly with which, from the first qubit to the second. \n",
    "\n",
    "Use the `coupling_map` parameter from the backend configuration to see this information."
   ]
  },
  {
   "cell_type": "code",
   "execution_count": 5,
   "metadata": {
    "slideshow": {
     "slide_type": "fragment"
    }
   },
   "outputs": [
    {
     "data": {
      "text/plain": [
       "[[0, 1], [1, 0], [1, 2], [1, 3], [2, 1], [3, 1], [3, 4], [4, 3]]"
      ]
     },
     "execution_count": 5,
     "metadata": {},
     "output_type": "execute_result"
    }
   ],
   "source": [
    "# Your code here...\n",
    "\n",
    "backend.configuration().coupling_map"
   ]
  },
  {
   "cell_type": "markdown",
   "metadata": {
    "slideshow": {
     "slide_type": "slide"
    }
   },
   "source": [
    "# More backend information\n",
    "Other interesting information is the number of maximum shots you can run your quantum program and the max number of experiments you can run on the backend per day. It might also be interesting to know the number of pending jobs for the selected backend. For this you can use `backend.status().pending_jobs` which also includes other status information such as if the backend is active and which backend version it runs.. "
   ]
  },
  {
   "cell_type": "code",
   "execution_count": 8,
   "metadata": {
    "slideshow": {
     "slide_type": "fragment"
    }
   },
   "outputs": [
    {
     "name": "stdout",
     "output_type": "stream",
     "text": [
      "Max shots: 8192\n",
      "Max experiments: 75\n",
      "Pending jobs: 1\n"
     ]
    }
   ],
   "source": [
    "print(\"Max shots:\", backend.configuration().max_shots)\n",
    "print(\"Max experiments:\", backend.configuration().max_experiments)\n",
    "print(\"Pending jobs:\", backend.status().pending_jobs)"
   ]
  },
  {
   "cell_type": "markdown",
   "metadata": {
    "slideshow": {
     "slide_type": "slide"
    }
   },
   "source": [
    "You can also use some simple Python scripting to compare the available backends based on different criteria."
   ]
  },
  {
   "cell_type": "code",
   "execution_count": null,
   "metadata": {
    "slideshow": {
     "slide_type": "fragment"
    }
   },
   "outputs": [],
   "source": [
    "# Get all available and operational backends.\n",
    "available_backends = provider.backends(operational=True)\n",
    "\n",
    "# Fish out criteria to compare\n",
    "print(\"{0:20} {1:<10} {2:<10} {3:<10}\".format(\"Name\",\"#Qubits\",\"Max exp.\",\"Pending jobs\"))\n",
    "print(\"{0:20} {1:<10} {2:<10} {3:<10}\".format(\"++++\",\"+++++++\",\"++++++++\",\"++++++++++++\"))\n",
    "\n",
    "for n in range(0, len(available_backends)):\n",
    "    available_backend = provider.get_backend(str(available_backends[n]))\n",
    "    print(\"{0:20} {1:<10} {2:<10} {3:<10}\"\n",
    "          .format(available_backend.name(), available_backend.configuration().n_qubits,\n",
    "                                  available_backend.configuration().max_experiments,\n",
    "                                  available_backend.status().pending_jobs))\n",
    "    \n",
    "    "
   ]
  },
  {
   "cell_type": "markdown",
   "metadata": {
    "slideshow": {
     "slide_type": "slide"
    }
   },
   "source": [
    "# The physical properties of a backend\n",
    "We can now take a look at the physical properties of the selected backend. Let's start by collecting everything in one big pile."
   ]
  },
  {
   "cell_type": "code",
   "execution_count": 9,
   "metadata": {
    "slideshow": {
     "slide_type": "fragment"
    }
   },
   "outputs": [
    {
     "data": {
      "text/plain": [
       "BackendProperties(backend_name='ibmq_vigo', backend_version='1.0.1', gates=[Gate(gate='id', name='id_0', parameters=[Nduv(date=datetime.datetime(2019, 10, 18, 6, 27, 25, tzinfo=tzutc()), name='gate_error', unit='', value=0.0003124880456005525), Nduv(date=datetime.datetime(2019, 10, 20, 6, 22, 19, tzinfo=tzutc()), name='gate_length', unit='ns', value=35.55555555555556)], qubits=[0]), Gate(gate='u1', name='u1_0', parameters=[Nduv(date=datetime.datetime(2019, 10, 18, 6, 27, 25, tzinfo=tzutc()), name='gate_error', unit='', value=0.0), Nduv(date=datetime.datetime(2019, 10, 20, 6, 22, 19, tzinfo=tzutc()), name='gate_length', unit='ns', value=0.0)], qubits=[0]), Gate(gate='u2', name='u2_0', parameters=[Nduv(date=datetime.datetime(2019, 10, 18, 6, 27, 25, tzinfo=tzutc()), name='gate_error', unit='', value=0.0003124880456005525), Nduv(date=datetime.datetime(2019, 10, 20, 6, 22, 19, tzinfo=tzutc()), name='gate_length', unit='ns', value=35.55555555555556)], qubits=[0]), Gate(gate='u3', name='u3_0', parameters=[Nduv(date=datetime.datetime(2019, 10, 18, 6, 27, 25, tzinfo=tzutc()), name='gate_error', unit='', value=0.000624976091201105), Nduv(date=datetime.datetime(2019, 10, 20, 6, 22, 19, tzinfo=tzutc()), name='gate_length', unit='ns', value=71.11111111111111)], qubits=[0]), Gate(gate='id', name='id_1', parameters=[Nduv(date=datetime.datetime(2019, 10, 18, 6, 27, 25, tzinfo=tzutc()), name='gate_error', unit='', value=0.0005381263704374163), Nduv(date=datetime.datetime(2019, 10, 20, 6, 22, 19, tzinfo=tzutc()), name='gate_length', unit='ns', value=35.55555555555556)], qubits=[1]), Gate(gate='u1', name='u1_1', parameters=[Nduv(date=datetime.datetime(2019, 10, 18, 6, 27, 25, tzinfo=tzutc()), name='gate_error', unit='', value=0.0), Nduv(date=datetime.datetime(2019, 10, 20, 6, 22, 19, tzinfo=tzutc()), name='gate_length', unit='ns', value=0.0)], qubits=[1]), Gate(gate='u2', name='u2_1', parameters=[Nduv(date=datetime.datetime(2019, 10, 18, 6, 27, 25, tzinfo=tzutc()), name='gate_error', unit='', value=0.0005381263704374163), Nduv(date=datetime.datetime(2019, 10, 20, 6, 22, 19, tzinfo=tzutc()), name='gate_length', unit='ns', value=35.55555555555556)], qubits=[1]), Gate(gate='u3', name='u3_1', parameters=[Nduv(date=datetime.datetime(2019, 10, 18, 6, 27, 25, tzinfo=tzutc()), name='gate_error', unit='', value=0.0010762527408748326), Nduv(date=datetime.datetime(2019, 10, 20, 6, 22, 19, tzinfo=tzutc()), name='gate_length', unit='ns', value=71.11111111111111)], qubits=[1]), Gate(gate='id', name='id_2', parameters=[Nduv(date=datetime.datetime(2019, 10, 18, 6, 27, 25, tzinfo=tzutc()), name='gate_error', unit='', value=0.0004029049576818198), Nduv(date=datetime.datetime(2019, 10, 20, 6, 22, 19, tzinfo=tzutc()), name='gate_length', unit='ns', value=35.55555555555556)], qubits=[2]), Gate(gate='u1', name='u1_2', parameters=[Nduv(date=datetime.datetime(2019, 10, 18, 6, 27, 25, tzinfo=tzutc()), name='gate_error', unit='', value=0.0), Nduv(date=datetime.datetime(2019, 10, 20, 6, 22, 19, tzinfo=tzutc()), name='gate_length', unit='ns', value=0.0)], qubits=[2]), Gate(gate='u2', name='u2_2', parameters=[Nduv(date=datetime.datetime(2019, 10, 18, 6, 27, 25, tzinfo=tzutc()), name='gate_error', unit='', value=0.0004029049576818198), Nduv(date=datetime.datetime(2019, 10, 20, 6, 22, 19, tzinfo=tzutc()), name='gate_length', unit='ns', value=35.55555555555556)], qubits=[2]), Gate(gate='u3', name='u3_2', parameters=[Nduv(date=datetime.datetime(2019, 10, 18, 6, 27, 25, tzinfo=tzutc()), name='gate_error', unit='', value=0.0008058099153636396), Nduv(date=datetime.datetime(2019, 10, 20, 6, 22, 19, tzinfo=tzutc()), name='gate_length', unit='ns', value=71.11111111111111)], qubits=[2]), Gate(gate='id', name='id_3', parameters=[Nduv(date=datetime.datetime(2019, 10, 18, 6, 27, 25, tzinfo=tzutc()), name='gate_error', unit='', value=0.0005721458655122918), Nduv(date=datetime.datetime(2019, 10, 20, 6, 22, 19, tzinfo=tzutc()), name='gate_length', unit='ns', value=35.55555555555556)], qubits=[3]), Gate(gate='u1', name='u1_3', parameters=[Nduv(date=datetime.datetime(2019, 10, 18, 6, 27, 25, tzinfo=tzutc()), name='gate_error', unit='', value=0.0), Nduv(date=datetime.datetime(2019, 10, 20, 6, 22, 19, tzinfo=tzutc()), name='gate_length', unit='ns', value=0.0)], qubits=[3]), Gate(gate='u2', name='u2_3', parameters=[Nduv(date=datetime.datetime(2019, 10, 18, 6, 27, 25, tzinfo=tzutc()), name='gate_error', unit='', value=0.0005721458655122918), Nduv(date=datetime.datetime(2019, 10, 20, 6, 22, 19, tzinfo=tzutc()), name='gate_length', unit='ns', value=35.55555555555556)], qubits=[3]), Gate(gate='u3', name='u3_3', parameters=[Nduv(date=datetime.datetime(2019, 10, 18, 6, 27, 25, tzinfo=tzutc()), name='gate_error', unit='', value=0.0011442917310245835), Nduv(date=datetime.datetime(2019, 10, 20, 6, 22, 19, tzinfo=tzutc()), name='gate_length', unit='ns', value=71.11111111111111)], qubits=[3]), Gate(gate='id', name='id_4', parameters=[Nduv(date=datetime.datetime(2019, 10, 18, 6, 27, 25, tzinfo=tzutc()), name='gate_error', unit='', value=0.0005972097701615095), Nduv(date=datetime.datetime(2019, 10, 20, 6, 22, 19, tzinfo=tzutc()), name='gate_length', unit='ns', value=35.55555555555556)], qubits=[4]), Gate(gate='u1', name='u1_4', parameters=[Nduv(date=datetime.datetime(2019, 10, 18, 6, 27, 25, tzinfo=tzutc()), name='gate_error', unit='', value=0.0), Nduv(date=datetime.datetime(2019, 10, 20, 6, 22, 19, tzinfo=tzutc()), name='gate_length', unit='ns', value=0.0)], qubits=[4]), Gate(gate='u2', name='u2_4', parameters=[Nduv(date=datetime.datetime(2019, 10, 18, 6, 27, 25, tzinfo=tzutc()), name='gate_error', unit='', value=0.0005972097701615095), Nduv(date=datetime.datetime(2019, 10, 20, 6, 22, 19, tzinfo=tzutc()), name='gate_length', unit='ns', value=35.55555555555556)], qubits=[4]), Gate(gate='u3', name='u3_4', parameters=[Nduv(date=datetime.datetime(2019, 10, 18, 6, 27, 25, tzinfo=tzutc()), name='gate_error', unit='', value=0.001194419540323019), Nduv(date=datetime.datetime(2019, 10, 20, 6, 22, 19, tzinfo=tzutc()), name='gate_length', unit='ns', value=71.11111111111111)], qubits=[4]), Gate(gate='cx', name='cx0_1', parameters=[Nduv(date=datetime.datetime(2019, 10, 20, 6, 11, 21, tzinfo=tzutc()), name='gate_error', unit='', value=0.010215854064975854), Nduv(date=datetime.datetime(2019, 10, 20, 6, 22, 19, tzinfo=tzutc()), name='gate_length', unit='ns', value=348.4444444444444)], qubits=[0, 1]), Gate(gate='cx', name='cx1_0', parameters=[Nduv(date=datetime.datetime(2019, 10, 20, 6, 11, 21, tzinfo=tzutc()), name='gate_error', unit='', value=0.010215854064975854), Nduv(date=datetime.datetime(2019, 10, 20, 6, 22, 19, tzinfo=tzutc()), name='gate_length', unit='ns', value=348.4444444444444)], qubits=[1, 0]), Gate(gate='cx', name='cx1_2', parameters=[Nduv(date=datetime.datetime(2019, 10, 20, 6, 14, 44, tzinfo=tzutc()), name='gate_error', unit='', value=0.0070308296169134255), Nduv(date=datetime.datetime(2019, 10, 20, 6, 22, 19, tzinfo=tzutc()), name='gate_length', unit='ns', value=227.55555555555554)], qubits=[1, 2]), Gate(gate='cx', name='cx1_3', parameters=[Nduv(date=datetime.datetime(2019, 10, 20, 6, 18, 31, tzinfo=tzutc()), name='gate_error', unit='', value=0.012304110260594109), Nduv(date=datetime.datetime(2019, 10, 20, 6, 22, 19, tzinfo=tzutc()), name='gate_length', unit='ns', value=462.2222222222222)], qubits=[1, 3]), Gate(gate='cx', name='cx2_1', parameters=[Nduv(date=datetime.datetime(2019, 10, 20, 6, 14, 44, tzinfo=tzutc()), name='gate_error', unit='', value=0.0070308296169134255), Nduv(date=datetime.datetime(2019, 10, 20, 6, 22, 19, tzinfo=tzutc()), name='gate_length', unit='ns', value=227.55555555555554)], qubits=[2, 1]), Gate(gate='cx', name='cx3_1', parameters=[Nduv(date=datetime.datetime(2019, 10, 20, 6, 18, 31, tzinfo=tzutc()), name='gate_error', unit='', value=0.012304110260594109), Nduv(date=datetime.datetime(2019, 10, 20, 6, 22, 19, tzinfo=tzutc()), name='gate_length', unit='ns', value=462.2222222222222)], qubits=[3, 1]), Gate(gate='cx', name='cx3_4', parameters=[Nduv(date=datetime.datetime(2019, 10, 20, 6, 22, 19, tzinfo=tzutc()), name='gate_error', unit='', value=0.00753853229033713), Nduv(date=datetime.datetime(2019, 10, 20, 6, 22, 19, tzinfo=tzutc()), name='gate_length', unit='ns', value=270.22222222222223)], qubits=[3, 4]), Gate(gate='cx', name='cx4_3', parameters=[Nduv(date=datetime.datetime(2019, 10, 20, 6, 22, 19, tzinfo=tzutc()), name='gate_error', unit='', value=0.00753853229033713), Nduv(date=datetime.datetime(2019, 10, 20, 6, 22, 19, tzinfo=tzutc()), name='gate_length', unit='ns', value=270.22222222222223)], qubits=[4, 3])], general=[], last_update_date=datetime.datetime(2019, 10, 20, 6, 22, 19, tzinfo=tzutc()), qubits=[[Nduv(date=datetime.datetime(2019, 10, 20, 6, 6, 28, tzinfo=tzutc()), name='T1', unit='µs', value=120.80666407747465), Nduv(date=datetime.datetime(2019, 8, 9, 16, 59, 15, tzinfo=tzutc()), name='T2', unit='µs', value=18.38638524492989), Nduv(date=datetime.datetime(2019, 10, 20, 6, 22, 19, tzinfo=tzutc()), name='frequency', unit='GHz', value=4.795982361476481), Nduv(date=datetime.datetime(2019, 10, 20, 6, 6, 15, tzinfo=tzutc()), name='readout_error', unit='', value=0.07699999999999996), Nduv(date=datetime.datetime(2019, 10, 20, 6, 6, 15, tzinfo=tzutc()), name='prob_meas0_prep1', unit='', value=0.058), Nduv(date=datetime.datetime(2019, 10, 20, 6, 6, 15, tzinfo=tzutc()), name='prob_meas1_prep0', unit='', value=0.09599999999999997)], [Nduv(date=datetime.datetime(2019, 10, 20, 6, 6, 28, tzinfo=tzutc()), name='T1', unit='µs', value=98.94382217473189), Nduv(date=datetime.datetime(2019, 10, 20, 6, 8, 33, tzinfo=tzutc()), name='T2', unit='µs', value=100.0717894424845), Nduv(date=datetime.datetime(2019, 10, 20, 6, 22, 19, tzinfo=tzutc()), name='frequency', unit='GHz', value=4.940047536530192), Nduv(date=datetime.datetime(2019, 10, 20, 6, 6, 15, tzinfo=tzutc()), name='readout_error', unit='', value=0.015000000000000013), Nduv(date=datetime.datetime(2019, 10, 20, 6, 6, 15, tzinfo=tzutc()), name='prob_meas0_prep1', unit='', value=0.026000000000000023), Nduv(date=datetime.datetime(2019, 10, 20, 6, 6, 15, tzinfo=tzutc()), name='prob_meas1_prep0', unit='', value=0.004)], [Nduv(date=datetime.datetime(2019, 10, 20, 6, 6, 28, tzinfo=tzutc()), name='T1', unit='µs', value=96.2923872661221), Nduv(date=datetime.datetime(2019, 10, 20, 6, 7, 28, tzinfo=tzutc()), name='T2', unit='µs', value=167.79834206764465), Nduv(date=datetime.datetime(2019, 10, 20, 6, 22, 19, tzinfo=tzutc()), name='frequency', unit='GHz', value=4.833251787417111), Nduv(date=datetime.datetime(2019, 10, 20, 6, 6, 15, tzinfo=tzutc()), name='readout_error', unit='', value=0.016000000000000014), Nduv(date=datetime.datetime(2019, 10, 20, 6, 6, 15, tzinfo=tzutc()), name='prob_meas0_prep1', unit='', value=0.02200000000000002), Nduv(date=datetime.datetime(2019, 10, 20, 6, 6, 15, tzinfo=tzutc()), name='prob_meas1_prep0', unit='', value=0.01)], [Nduv(date=datetime.datetime(2019, 10, 20, 6, 6, 28, tzinfo=tzutc()), name='T1', unit='µs', value=83.71085430465864), Nduv(date=datetime.datetime(2019, 10, 20, 6, 7, 28, tzinfo=tzutc()), name='T2', unit='µs', value=92.73468776860886), Nduv(date=datetime.datetime(2019, 10, 20, 6, 22, 19, tzinfo=tzutc()), name='frequency', unit='GHz', value=4.807990609310798), Nduv(date=datetime.datetime(2019, 10, 20, 6, 6, 15, tzinfo=tzutc()), name='readout_error', unit='', value=0.010000000000000009), Nduv(date=datetime.datetime(2019, 10, 20, 6, 6, 15, tzinfo=tzutc()), name='prob_meas0_prep1', unit='', value=0.016000000000000014), Nduv(date=datetime.datetime(2019, 10, 20, 6, 6, 15, tzinfo=tzutc()), name='prob_meas1_prep0', unit='', value=0.004)], [Nduv(date=datetime.datetime(2019, 10, 20, 6, 6, 28, tzinfo=tzutc()), name='T1', unit='µs', value=96.95474132935135), Nduv(date=datetime.datetime(2019, 10, 20, 6, 8, 33, tzinfo=tzutc()), name='T2', unit='µs', value=45.80803996746207), Nduv(date=datetime.datetime(2019, 10, 20, 6, 22, 19, tzinfo=tzutc()), name='frequency', unit='GHz', value=4.74989464831662), Nduv(date=datetime.datetime(2019, 10, 20, 6, 6, 15, tzinfo=tzutc()), name='readout_error', unit='', value=0.010000000000000009), Nduv(date=datetime.datetime(2019, 10, 20, 6, 6, 15, tzinfo=tzutc()), name='prob_meas0_prep1', unit='', value=0.01), Nduv(date=datetime.datetime(2019, 10, 20, 6, 6, 15, tzinfo=tzutc()), name='prob_meas1_prep0', unit='', value=0.010000000000000009)]])"
      ]
     },
     "execution_count": 9,
     "metadata": {},
     "output_type": "execute_result"
    }
   ],
   "source": [
    "backend.properties()\n"
   ]
  },
  {
   "cell_type": "markdown",
   "metadata": {
    "slideshow": {
     "slide_type": "slide"
    }
   },
   "source": [
    "From this mess, which contains all relevant hardware information for the backend, we can dig out the meat. Let us start with some simple data such as the backend name."
   ]
  },
  {
   "cell_type": "code",
   "execution_count": 10,
   "metadata": {
    "slideshow": {
     "slide_type": "fragment"
    }
   },
   "outputs": [
    {
     "data": {
      "text/plain": [
       "'ibmq_vigo'"
      ]
     },
     "execution_count": 10,
     "metadata": {},
     "output_type": "execute_result"
    }
   ],
   "source": [
    "backend.properties().backend_name\n"
   ]
  },
  {
   "cell_type": "markdown",
   "metadata": {
    "slideshow": {
     "slide_type": "slide"
    }
   },
   "source": [
    "Other properties involve more complex information, such as the performance information for the qubits. Let us take a look at the available qubit information for this backend, which is returned as a Python list."
   ]
  },
  {
   "cell_type": "code",
   "execution_count": 11,
   "metadata": {
    "slideshow": {
     "slide_type": "fragment"
    }
   },
   "outputs": [
    {
     "data": {
      "text/plain": [
       "[[Nduv(date=datetime.datetime(2019, 10, 20, 6, 6, 28, tzinfo=tzutc()), name='T1', unit='µs', value=120.80666407747465),\n",
       "  Nduv(date=datetime.datetime(2019, 8, 9, 16, 59, 15, tzinfo=tzutc()), name='T2', unit='µs', value=18.38638524492989),\n",
       "  Nduv(date=datetime.datetime(2019, 10, 20, 6, 22, 19, tzinfo=tzutc()), name='frequency', unit='GHz', value=4.795982361476481),\n",
       "  Nduv(date=datetime.datetime(2019, 10, 20, 6, 6, 15, tzinfo=tzutc()), name='readout_error', unit='', value=0.07699999999999996),\n",
       "  Nduv(date=datetime.datetime(2019, 10, 20, 6, 6, 15, tzinfo=tzutc()), name='prob_meas0_prep1', unit='', value=0.058),\n",
       "  Nduv(date=datetime.datetime(2019, 10, 20, 6, 6, 15, tzinfo=tzutc()), name='prob_meas1_prep0', unit='', value=0.09599999999999997)],\n",
       " [Nduv(date=datetime.datetime(2019, 10, 20, 6, 6, 28, tzinfo=tzutc()), name='T1', unit='µs', value=98.94382217473189),\n",
       "  Nduv(date=datetime.datetime(2019, 10, 20, 6, 8, 33, tzinfo=tzutc()), name='T2', unit='µs', value=100.0717894424845),\n",
       "  Nduv(date=datetime.datetime(2019, 10, 20, 6, 22, 19, tzinfo=tzutc()), name='frequency', unit='GHz', value=4.940047536530192),\n",
       "  Nduv(date=datetime.datetime(2019, 10, 20, 6, 6, 15, tzinfo=tzutc()), name='readout_error', unit='', value=0.015000000000000013),\n",
       "  Nduv(date=datetime.datetime(2019, 10, 20, 6, 6, 15, tzinfo=tzutc()), name='prob_meas0_prep1', unit='', value=0.026000000000000023),\n",
       "  Nduv(date=datetime.datetime(2019, 10, 20, 6, 6, 15, tzinfo=tzutc()), name='prob_meas1_prep0', unit='', value=0.004)],\n",
       " [Nduv(date=datetime.datetime(2019, 10, 20, 6, 6, 28, tzinfo=tzutc()), name='T1', unit='µs', value=96.2923872661221),\n",
       "  Nduv(date=datetime.datetime(2019, 10, 20, 6, 7, 28, tzinfo=tzutc()), name='T2', unit='µs', value=167.79834206764465),\n",
       "  Nduv(date=datetime.datetime(2019, 10, 20, 6, 22, 19, tzinfo=tzutc()), name='frequency', unit='GHz', value=4.833251787417111),\n",
       "  Nduv(date=datetime.datetime(2019, 10, 20, 6, 6, 15, tzinfo=tzutc()), name='readout_error', unit='', value=0.016000000000000014),\n",
       "  Nduv(date=datetime.datetime(2019, 10, 20, 6, 6, 15, tzinfo=tzutc()), name='prob_meas0_prep1', unit='', value=0.02200000000000002),\n",
       "  Nduv(date=datetime.datetime(2019, 10, 20, 6, 6, 15, tzinfo=tzutc()), name='prob_meas1_prep0', unit='', value=0.01)],\n",
       " [Nduv(date=datetime.datetime(2019, 10, 20, 6, 6, 28, tzinfo=tzutc()), name='T1', unit='µs', value=83.71085430465864),\n",
       "  Nduv(date=datetime.datetime(2019, 10, 20, 6, 7, 28, tzinfo=tzutc()), name='T2', unit='µs', value=92.73468776860886),\n",
       "  Nduv(date=datetime.datetime(2019, 10, 20, 6, 22, 19, tzinfo=tzutc()), name='frequency', unit='GHz', value=4.807990609310798),\n",
       "  Nduv(date=datetime.datetime(2019, 10, 20, 6, 6, 15, tzinfo=tzutc()), name='readout_error', unit='', value=0.010000000000000009),\n",
       "  Nduv(date=datetime.datetime(2019, 10, 20, 6, 6, 15, tzinfo=tzutc()), name='prob_meas0_prep1', unit='', value=0.016000000000000014),\n",
       "  Nduv(date=datetime.datetime(2019, 10, 20, 6, 6, 15, tzinfo=tzutc()), name='prob_meas1_prep0', unit='', value=0.004)],\n",
       " [Nduv(date=datetime.datetime(2019, 10, 20, 6, 6, 28, tzinfo=tzutc()), name='T1', unit='µs', value=96.95474132935135),\n",
       "  Nduv(date=datetime.datetime(2019, 10, 20, 6, 8, 33, tzinfo=tzutc()), name='T2', unit='µs', value=45.80803996746207),\n",
       "  Nduv(date=datetime.datetime(2019, 10, 20, 6, 22, 19, tzinfo=tzutc()), name='frequency', unit='GHz', value=4.74989464831662),\n",
       "  Nduv(date=datetime.datetime(2019, 10, 20, 6, 6, 15, tzinfo=tzutc()), name='readout_error', unit='', value=0.010000000000000009),\n",
       "  Nduv(date=datetime.datetime(2019, 10, 20, 6, 6, 15, tzinfo=tzutc()), name='prob_meas0_prep1', unit='', value=0.01),\n",
       "  Nduv(date=datetime.datetime(2019, 10, 20, 6, 6, 15, tzinfo=tzutc()), name='prob_meas1_prep0', unit='', value=0.010000000000000009)]]"
      ]
     },
     "execution_count": 11,
     "metadata": {},
     "output_type": "execute_result"
    }
   ],
   "source": [
    "backend.properties().qubits"
   ]
  },
  {
   "cell_type": "markdown",
   "metadata": {
    "slideshow": {
     "slide_type": "slide"
    }
   },
   "source": [
    "Again, let us dig in an and take a look at some of the available qubit data, such as the T1 and T2 decoherence values, the frequency, and the readout error for the qubits. For this exercise we can write a simple Python `for` loop that prints the `name`, `value`, and `unit` for the relevant data entry for each qubit. "
   ]
  },
  {
   "cell_type": "code",
   "execution_count": 12,
   "metadata": {
    "slideshow": {
     "slide_type": "fragment"
    }
   },
   "outputs": [
    {
     "name": "stdout",
     "output_type": "stream",
     "text": [
      "Qubit 0 :\n",
      "T1 = 120.80666407747465 µs\n",
      "T2 = 18.38638524492989 µs\n",
      "frequency = 4.795982361476481 GHz\n",
      "readout_error = 0.07699999999999996 \n",
      "prob_meas0_prep1 = 0.058 \n",
      "prob_meas1_prep0 = 0.09599999999999997 \n",
      "Qubit 1 :\n",
      "T1 = 98.94382217473189 µs\n",
      "T2 = 100.0717894424845 µs\n",
      "frequency = 4.940047536530192 GHz\n",
      "readout_error = 0.015000000000000013 \n",
      "prob_meas0_prep1 = 0.026000000000000023 \n",
      "prob_meas1_prep0 = 0.004 \n",
      "Qubit 2 :\n",
      "T1 = 96.2923872661221 µs\n",
      "T2 = 167.79834206764465 µs\n",
      "frequency = 4.833251787417111 GHz\n",
      "readout_error = 0.016000000000000014 \n",
      "prob_meas0_prep1 = 0.02200000000000002 \n",
      "prob_meas1_prep0 = 0.01 \n",
      "Qubit 3 :\n",
      "T1 = 83.71085430465864 µs\n",
      "T2 = 92.73468776860886 µs\n",
      "frequency = 4.807990609310798 GHz\n",
      "readout_error = 0.010000000000000009 \n",
      "prob_meas0_prep1 = 0.016000000000000014 \n",
      "prob_meas1_prep0 = 0.004 \n",
      "Qubit 4 :\n",
      "T1 = 96.95474132935135 µs\n",
      "T2 = 45.80803996746207 µs\n",
      "frequency = 4.74989464831662 GHz\n",
      "readout_error = 0.010000000000000009 \n",
      "prob_meas0_prep1 = 0.01 \n",
      "prob_meas1_prep0 = 0.010000000000000009 \n"
     ]
    }
   ],
   "source": [
    "for q in range (0, backend.configuration().n_qubits):\n",
    "    print(\"Qubit\",q,\":\")\n",
    "    for n in range (0, len(backend.properties().qubits[0])):\n",
    "        print(backend.properties().qubits[q][n].name,\n",
    "              \"=\",\n",
    "              backend.properties().qubits[q][n].value,backend.properties().qubits[q][n].unit)"
   ]
  },
  {
   "cell_type": "markdown",
   "metadata": {
    "slideshow": {
     "slide_type": "slide"
    }
   },
   "source": [
    "In addition to the Qiskit way of pulling out the data you can also use the graphical Jupyter view of this information. "
   ]
  },
  {
   "cell_type": "code",
   "execution_count": 23,
   "metadata": {
    "scrolled": false,
    "slideshow": {
     "slide_type": "fragment"
    }
   },
   "outputs": [
    {
     "data": {
      "application/vnd.jupyter.widget-view+json": {
       "model_id": "c5b049dc0e76494dbe35f26ce7b07522",
       "version_major": 2,
       "version_minor": 0
      },
      "text/plain": [
       "VBox(children=(HTML(value=\"<h2 style ='color:#ffffff; background-color:#000000;padding-top: 1%; padding-bottom…"
      ]
     },
     "metadata": {},
     "output_type": "display_data"
    },
    {
     "name": "stderr",
     "output_type": "stream",
     "text": [
      "UsageError: Line magic function `%qiskit_backend_monitor` not found.\n"
     ]
    }
   ],
   "source": [
    "%matplotlib inline\n",
    "from qiskit.tools.jupyter import *\n",
    "%qiskit_backend_overview\n",
    "%qiskit_backend_monitor backend\n"
   ]
  },
  {
   "cell_type": "markdown",
   "metadata": {
    "slideshow": {
     "slide_type": "slide"
    }
   },
   "source": [
    "Depending on the type of quantum program that you are writing, certain aspects of the backend might be important to your, and you might want to include these directly when you code your program. For example, you might be interested in the qubits with the smallest gate errors and readout errors, or if you are running deep circuits you might be interested in long T1 and T2 times. Another important piece of information might be the quality of the CNOT gates supported by the chip. "
   ]
  },
  {
   "cell_type": "markdown",
   "metadata": {
    "slideshow": {
     "slide_type": "subslide"
    }
   },
   "source": [
    "For more assistance on the backend, use `help(backend)`"
   ]
  },
  {
   "cell_type": "code",
   "execution_count": 20,
   "metadata": {
    "slideshow": {
     "slide_type": "subslide"
    }
   },
   "outputs": [
    {
     "name": "stdout",
     "output_type": "stream",
     "text": [
      "Help on IBMQBackend in module qiskit.providers.ibmq.ibmqbackend object:\n",
      "\n",
      "class IBMQBackend(qiskit.providers.basebackend.BaseBackend)\n",
      " |  IBMQBackend(configuration, provider, credentials, api)\n",
      " |  \n",
      " |  Backend class interfacing with an IBMQ backend.\n",
      " |  \n",
      " |  Method resolution order:\n",
      " |      IBMQBackend\n",
      " |      qiskit.providers.basebackend.BaseBackend\n",
      " |      abc.ABC\n",
      " |      builtins.object\n",
      " |  \n",
      " |  Methods defined here:\n",
      " |  \n",
      " |  __init__(self, configuration, provider, credentials, api)\n",
      " |      Initialize remote backend for IBM Quantum Experience.\n",
      " |      \n",
      " |      Args:\n",
      " |          configuration (BackendConfiguration): configuration of backend.\n",
      " |          provider (IBMQProvider): provider.\n",
      " |          credentials (Credentials): credentials.\n",
      " |          api (IBMQConnector):\n",
      " |              api for communicating with the Quantum Experience.\n",
      " |  \n",
      " |  __repr__(self)\n",
      " |      Official string representation of a Backend.\n",
      " |      \n",
      " |      Note that, by Qiskit convention, it is consciously *not* a fully valid\n",
      " |      Python expression. Subclasses should provide 'a string of the form\n",
      " |      <...some useful description...>'. [0]\n",
      " |      \n",
      " |      [0] https://docs.python.org/3/reference/datamodel.html#object.__repr__\n",
      " |  \n",
      " |  defaults(self, refresh=False)\n",
      " |      Return the pulse defaults for the backend.\n",
      " |      \n",
      " |      Args:\n",
      " |          refresh (bool): if True, the return is via a QX API call.\n",
      " |              Otherwise, a cached version is returned.\n",
      " |      \n",
      " |      Returns:\n",
      " |          PulseDefaults: the pulse defaults for the backend. If the backend\n",
      " |              does not support defaults, it returns ``None``.\n",
      " |  \n",
      " |  jobs(self, limit=10, skip=0, status=None, db_filter=None)\n",
      " |      Return the jobs submitted to this backend.\n",
      " |      \n",
      " |      Return the jobs submitted to this backend, with optional filtering and\n",
      " |      pagination. Note that the API has a limit for the number of jobs\n",
      " |      returned in a single call, and this function might involve making\n",
      " |      several calls to the API. See also the `skip` parameter for more control\n",
      " |      over pagination.\n",
      " |      \n",
      " |      Note that jobs submitted with earlier versions of Qiskit\n",
      " |      (in particular, those that predate the Qobj format) are not included\n",
      " |      in the returned list.\n",
      " |      \n",
      " |      Args:\n",
      " |          limit (int): number of jobs to retrieve.\n",
      " |          skip (int): starting index for the job retrieval.\n",
      " |          status (None or qiskit.providers.JobStatus or str): only get jobs\n",
      " |              with this status, where status is e.g. `JobStatus.RUNNING` or\n",
      " |              `'RUNNING'`\n",
      " |          db_filter (dict): `loopback-based filter\n",
      " |              <https://loopback.io/doc/en/lb2/Querying-data.html>`_.\n",
      " |              This is an interface to a database ``where`` filter. Some\n",
      " |              examples of its usage are:\n",
      " |      \n",
      " |              Filter last five jobs with errors::\n",
      " |      \n",
      " |                 job_list = backend.jobs(limit=5, status=JobStatus.ERROR)\n",
      " |      \n",
      " |              Filter last five jobs with counts=1024, and counts for\n",
      " |              states ``00`` and ``11`` each exceeding 400::\n",
      " |      \n",
      " |                cnts_filter = {'shots': 1024,\n",
      " |                               'qasms.result.data.counts.00': {'gt': 400},\n",
      " |                               'qasms.result.data.counts.11': {'gt': 400}}\n",
      " |                job_list = backend.jobs(limit=5, db_filter=cnts_filter)\n",
      " |      \n",
      " |              Filter last five jobs from 30 days ago::\n",
      " |      \n",
      " |                 past_date = datetime.datetime.now() - datetime.timedelta(days=30)\n",
      " |                 date_filter = {'creationDate': {'lt': past_date.isoformat()}}\n",
      " |                 job_list = backend.jobs(limit=5, db_filter=date_filter)\n",
      " |      \n",
      " |      Returns:\n",
      " |          list(IBMQJob): list of IBMQJob instances\n",
      " |      \n",
      " |      Raises:\n",
      " |          IBMQBackendValueError: status keyword value unrecognized\n",
      " |  \n",
      " |  properties(self, refresh=False)\n",
      " |      Return the online backend properties.\n",
      " |      \n",
      " |      Args:\n",
      " |          refresh (bool): if True, the return is via a QX API call.\n",
      " |              Otherwise, a cached version is returned.\n",
      " |      \n",
      " |      Returns:\n",
      " |          BackendProperties: The properties of the backend.\n",
      " |  \n",
      " |  retrieve_job(self, job_id)\n",
      " |      Return a job submitted to this backend.\n",
      " |      \n",
      " |      Args:\n",
      " |          job_id (str): the job id of the job to retrieve\n",
      " |      \n",
      " |      Returns:\n",
      " |          IBMQJob: class instance\n",
      " |      \n",
      " |      Raises:\n",
      " |          IBMQBackendError: if retrieval failed\n",
      " |  \n",
      " |  run(self, qobj)\n",
      " |      Run a Qobj asynchronously.\n",
      " |      \n",
      " |      Args:\n",
      " |          qobj (Qobj): description of job\n",
      " |      \n",
      " |      Returns:\n",
      " |          IBMQJob: an instance derived from BaseJob\n",
      " |  \n",
      " |  status(self)\n",
      " |      Return the online backend status.\n",
      " |      \n",
      " |      Returns:\n",
      " |          BackendStatus: The status of the backend.\n",
      " |      \n",
      " |      Raises:\n",
      " |          LookupError: If status for the backend can't be found.\n",
      " |          IBMQBackendError: If the status can't be formatted properly.\n",
      " |  \n",
      " |  ----------------------------------------------------------------------\n",
      " |  Data and other attributes defined here:\n",
      " |  \n",
      " |  __abstractmethods__ = frozenset()\n",
      " |  \n",
      " |  ----------------------------------------------------------------------\n",
      " |  Methods inherited from qiskit.providers.basebackend.BaseBackend:\n",
      " |  \n",
      " |  __str__(self)\n",
      " |      Return str(self).\n",
      " |  \n",
      " |  configuration(self)\n",
      " |      Return the backend configuration.\n",
      " |      \n",
      " |      Returns:\n",
      " |          BackendConfiguration: the configuration for the backend.\n",
      " |  \n",
      " |  name(self)\n",
      " |      Return the backend name.\n",
      " |      \n",
      " |      Returns:\n",
      " |          str: the name of the backend.\n",
      " |  \n",
      " |  provider(self)\n",
      " |      Return the backend Provider.\n",
      " |      \n",
      " |      Returns:\n",
      " |          BaseProvider: the Provider responsible for the backend.\n",
      " |  \n",
      " |  ----------------------------------------------------------------------\n",
      " |  Data descriptors inherited from qiskit.providers.basebackend.BaseBackend:\n",
      " |  \n",
      " |  __dict__\n",
      " |      dictionary for instance variables (if defined)\n",
      " |  \n",
      " |  __weakref__\n",
      " |      list of weak references to the object (if defined)\n",
      "\n"
     ]
    }
   ],
   "source": [
    "help(backend)"
   ]
  },
  {
   "cell_type": "code",
   "execution_count": null,
   "metadata": {},
   "outputs": [],
   "source": []
  }
 ],
 "metadata": {
  "celltoolbar": "Slideshow",
  "kernelspec": {
   "display_name": "Python 3",
   "language": "python",
   "name": "python3"
  },
  "language_info": {
   "codemirror_mode": {
    "name": "ipython",
    "version": 3
   },
   "file_extension": ".py",
   "mimetype": "text/x-python",
   "name": "python",
   "nbconvert_exporter": "python",
   "pygments_lexer": "ipython3",
   "version": "3.7.3"
  }
 },
 "nbformat": 4,
 "nbformat_minor": 2
}
