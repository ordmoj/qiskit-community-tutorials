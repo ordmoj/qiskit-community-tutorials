{
 "cells": [
  {
   "cell_type": "markdown",
   "metadata": {
    "slideshow": {
     "slide_type": "slide"
    }
   },
   "source": [
    "# Multi-qubit quantum circuit\n",
    "In this exercise we creates a two qubit circuit, with two qubits in superposition, and then measures the individual qubits, resulting in two coin toss results with the following possible outcomes with equal probability: $|00\\rangle$, $|01\\rangle$, $|10\\rangle$, and $|11\\rangle$. This is like tossing two coins.\n"
   ]
  },
  {
   "cell_type": "markdown",
   "metadata": {
    "slideshow": {
     "slide_type": "slide"
    }
   },
   "source": [
    "Import the required libraries, including the IBM Q library for working with IBM Q hardware."
   ]
  },
  {
   "cell_type": "code",
   "execution_count": null,
   "metadata": {
    "slideshow": {
     "slide_type": "fragment"
    }
   },
   "outputs": [],
   "source": [
    "import numpy as np\n",
    "from qiskit import QuantumCircuit, execute, Aer\n",
    "from qiskit.tools.monitor import job_monitor\n",
    "\n",
    "# Import visualization\n",
    "from qiskit.visualization import plot_histogram, plot_bloch_multivector, iplot_bloch_multivector, plot_state_qsphere, iplot_state_qsphere\n",
    "\n",
    "# Add the state vector calculation function\n",
    "def get_psi(circuit, vis): \n",
    "    global psi\n",
    "    backend = Aer.get_backend('statevector_simulator') \n",
    "    psi = execute(circuit, backend).result().get_statevector(circuit)\n",
    "    if vis==\"IQ\":\n",
    "        display(iplot_state_qsphere(psi))\n",
    "    elif vis==\"Q\":\n",
    "        display(plot_state_qsphere(psi))\n",
    "    elif vis==\"M\":\n",
    "        print(psi)\n",
    "    elif vis==\"B\":\n",
    "        display(plot_bloch_multivector(psi))\n",
    "    else: # vis=\"IB\"\n",
    "        display(iplot_bloch_multivector(psi))\n",
    "        \n",
    "    vis=\"\""
   ]
  },
  {
   "cell_type": "markdown",
   "metadata": {
    "slideshow": {
     "slide_type": "slide"
    }
   },
   "source": [
    "How many qubits do we want to use. The notebook let's you set up multi-qubit circuits of various sizes. Keep in mind that the biggest publicly available IBM quantum computer is 14 qubits in size. "
   ]
  },
  {
   "cell_type": "code",
   "execution_count": null,
   "metadata": {
    "slideshow": {
     "slide_type": "fragment"
    }
   },
   "outputs": [],
   "source": [
    "#n_qubits=int(input(\"Enter number of qubits:\"))\n",
    "n_qubits=2"
   ]
  },
  {
   "cell_type": "markdown",
   "metadata": {
    "slideshow": {
     "slide_type": "slide"
    }
   },
   "source": [
    "Create quantum circuit that includes the quantum register and the classic register. Then add a Hadamard (super position) gate to all the qubits. Add measurement gates."
   ]
  },
  {
   "cell_type": "code",
   "execution_count": null,
   "metadata": {
    "slideshow": {
     "slide_type": "fragment"
    }
   },
   "outputs": [],
   "source": [
    "qc1 = QuantumCircuit(n_qubits,n_qubits)\n",
    "qc_measure = QuantumCircuit(n_qubits,n_qubits)\n",
    "for qubit in range (0,n_qubits):\n",
    "    qc1.h(qubit) #A Hadamard gate that creates a superposition\n",
    "for qubit in range (0,n_qubits):\n",
    "    qc_measure.measure(qubit,qubit)\n",
    "display(qc1.draw(output=\"mpl\"))\n"
   ]
  },
  {
   "cell_type": "markdown",
   "metadata": {
    "slideshow": {
     "slide_type": "slide"
    }
   },
   "source": [
    "Now that we have more than one qubit it is starting to become a bit difficult to visualize the outcomes when running the circuit. To alleviate this we can instead have the get_psi return the statevector itself by by calling it with the vis parameter set to `\"M\"`. We can also have it display a Qiskit-unique visualization called a Q Sphere by passing the parameter `\"Q\"` or `\"q\"`. Big Q returns an interactive Q-sphere, and little q a static one."
   ]
  },
  {
   "cell_type": "code",
   "execution_count": null,
   "metadata": {
    "slideshow": {
     "slide_type": "fragment"
    }
   },
   "outputs": [],
   "source": [
    "get_psi(qc1,\"M\")\n",
    "print (abs(np.square(psi))) \n",
    "get_psi(qc1,\"B\")"
   ]
  },
  {
   "cell_type": "markdown",
   "metadata": {
    "slideshow": {
     "slide_type": "slide"
    }
   },
   "source": [
    "Now we see the statevector for multiple qubits, and can calculate the probabilities for the different outcomes by squaring the complex parameters in the vector.\n",
    "\n",
    "The Q Sphere visualization provides the same informaton in a visual form, with |0..0> at the north pole, |1..1> at the bottom, and other combinations on latitude circles. In the dynamicc version, you can hover over the tips of the vectors to see the state, probability, and phase data. In the static version, the size of the vector tip represents the relative probability of getting that specific result, and the color represents the phase angle for that specific output. More on that later!"
   ]
  },
  {
   "cell_type": "markdown",
   "metadata": {
    "slideshow": {
     "slide_type": "slide"
    }
   },
   "source": [
    "Now add your circuit with the measurement circuit and run a 1,000 shots to get statistics on the possible outcomes.\n",
    " "
   ]
  },
  {
   "cell_type": "code",
   "execution_count": null,
   "metadata": {
    "slideshow": {
     "slide_type": "fragment"
    }
   },
   "outputs": [],
   "source": [
    "backend = Aer.get_backend('qasm_simulator')\n",
    "\n",
    "qc_final=qc1+qc_measure\n",
    "\n",
    "job = execute(qc_final, backend, shots=1000)\n",
    "counts1  = job.result().get_counts(qc_final)\n",
    "print(counts1)\n",
    "plot_histogram(counts1)"
   ]
  },
  {
   "cell_type": "markdown",
   "metadata": {
    "slideshow": {
     "slide_type": "slide"
    }
   },
   "source": [
    "As you might expect, with two independednt qubits ea h in a superposition, the resulting outcomes should be spread evenly accross th epossible outcomes, all the combinations of 0 and 1.\n",
    "\n",
    "**Time for you to do some work!** To get an understanding of the probable outcomes and how these are displayed on the interactive (or static) Q Sphere, change the `n_qubits=2` value in the cell above, and run the cells again for a different number of qubits. \n",
    "\n",
    "When you are done, set the value back to 2, and continue on.\n"
   ]
  },
  {
   "cell_type": "code",
   "execution_count": null,
   "metadata": {
    "slideshow": {
     "slide_type": "fragment"
    }
   },
   "outputs": [],
   "source": [
    "n_qubits=2"
   ]
  },
  {
   "cell_type": "markdown",
   "metadata": {
    "slideshow": {
     "slide_type": "slide"
    }
   },
   "source": [
    "# Entangled-qubit quantum circuit - The Bell state\n",
    "\n",
    "Now we are going to do something different. We will entangle the qubits.\n",
    "\n",
    "Create quantum circuit that includes the quantum register and the classic register. Then add a Hadamard (super position) gate to the first qubit. Then add a controlled-NOT gate (cx) between the first and second qubit, entangling them. Add measurement gates. \n",
    "\n",
    "We then take a look at using the CX (Controlled-NOT) gate to entangle the two qubits in a so called Bell state. This surprisingly results in the following possible outcomes with equal probability: $|00\\rangle$ and $|11\\rangle$. Two entangled qubits do not at all behave like two tossed coins.\n",
    "\n",
    "We then run the circuit a large number of times to see what the statistical behavior of the qubits are.\n",
    "Finally, we run the circuit on real IBM Q hardware to see how real physical qubits behave.\n",
    "\n",
    "In this exercise we introduce the CX gate, which creates entanglement between two qubits, by flipping the controlled qubit (q_1) if the controlling qubit (q_0) is 1.\n",
    "\n",
    "![Hadamard circuit](data:image/png;base64,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)\n"
   ]
  },
  {
   "cell_type": "code",
   "execution_count": null,
   "metadata": {
    "slideshow": {
     "slide_type": "slide"
    }
   },
   "outputs": [],
   "source": [
    "qc2 = QuantumCircuit(n_qubits,n_qubits)\n",
    "qc2_measure = QuantumCircuit(n_qubits, n_qubits)\n",
    "for qubit in range (0,n_qubits):\n",
    "    qc2_measure.measure(qubit,qubit)\n",
    "\n",
    "qc2.h(0) # A Hadamard gate that puts the first qubit in superposition\n",
    "display(qc2.draw(output=\"mpl\"))\n",
    "get_psi(qc2,\"M\")\n",
    "get_psi(qc2,\"B\")"
   ]
  },
  {
   "cell_type": "code",
   "execution_count": null,
   "metadata": {
    "slideshow": {
     "slide_type": "subslide"
    }
   },
   "outputs": [],
   "source": [
    "for qubit in range (1,n_qubits):\n",
    "    qc2.cx(0,qubit) #A controlled NOT gate that entangles the qubits.\n",
    "\n",
    "display(qc2.draw(output=\"mpl\"))\n",
    "get_psi(qc2, \"B\")"
   ]
  },
  {
   "cell_type": "markdown",
   "metadata": {
    "slideshow": {
     "slide_type": "slide"
    }
   },
   "source": [
    "Now we notice something peculiar; after we add the CX gate, entangling the qubits the Bloch spheres display nonsense. Why is that? It turns out that once your qubits are entangled they can no longer be described individually, but only as a combined object. Let's take a look at the state vector and Q sphere."
   ]
  },
  {
   "cell_type": "code",
   "execution_count": null,
   "metadata": {
    "slideshow": {
     "slide_type": "fragment"
    }
   },
   "outputs": [],
   "source": [
    "get_psi(qc2,\"M\")\n",
    "\n",
    "print (abs(np.square(psi)))\n",
    "\n",
    "get_psi(qc2,\"Q\")"
   ]
  },
  {
   "cell_type": "markdown",
   "metadata": {
    "slideshow": {
     "slide_type": "slide"
    }
   },
   "source": [
    "Set the backend to a local simulator. Then create a quantum job for the circuit, the selected backend, that runs just one shot to simulate a coin toss with two simultaneously tossed coins, then run the job. Display the result; either 0 for up (base) or 1 for down (excited) for each qubit. Display the result as a histogram. Either |00> or |11> with 100% probability."
   ]
  },
  {
   "cell_type": "code",
   "execution_count": null,
   "metadata": {
    "slideshow": {
     "slide_type": "fragment"
    }
   },
   "outputs": [],
   "source": [
    "backend = Aer.get_backend('qasm_simulator')\n",
    "\n",
    "qc2_final=qc2+qc2_measure\n",
    "\n",
    "job = execute(qc2_final, backend, shots=1)\n",
    "counts2  = job.result().get_counts(qc2_final)\n",
    "print(counts2)\n",
    "plot_histogram(counts2)"
   ]
  },
  {
   "cell_type": "markdown",
   "metadata": {
    "slideshow": {
     "slide_type": "fragment"
    }
   },
   "source": [
    "Note how the qubits completely agree. They are entangled.\n",
    "\n",
    "**Do some work..** Run the cell above a few times to verify that you only get the results 00 or 11."
   ]
  },
  {
   "cell_type": "markdown",
   "metadata": {
    "slideshow": {
     "slide_type": "slide"
    }
   },
   "source": [
    "**Your turn again!** Now, lets run quite a few more shots, and display the statistsics for the two results. This time, as we are no longer just talking about two qubits, but the amassed results of thousands of runs on these qubits."
   ]
  },
  {
   "cell_type": "code",
   "execution_count": null,
   "metadata": {
    "slideshow": {
     "slide_type": "fragment"
    }
   },
   "outputs": [],
   "source": [
    "# Add your code here \n"
   ]
  },
  {
   "cell_type": "markdown",
   "metadata": {
    "slideshow": {
     "slide_type": "fragment"
    }
   },
   "source": [
    "And look at that, we are back at our coin toss results, fifty-fifty. Every time one of the coins comes up heads (|0>) the other one follows suit. Tossing one coin we immediately know what the other one will come up as; the coins (qubits) are entangled."
   ]
  },
  {
   "cell_type": "markdown",
   "metadata": {
    "slideshow": {
     "slide_type": "slide"
    }
   },
   "source": [
    "# Run your entangled circuit on an IBM quantum computer\n",
    "**Important:** With the simulator we get perfect results, only |00> or |11>. On a real NISQ (Noisy Intermediate Scale Quantum computer) we do not expect perfect results like this. Let's run the Bell state once more, but on an actual IBM Q quantum computer."
   ]
  },
  {
   "cell_type": "markdown",
   "metadata": {},
   "source": [
    "**Time for some work!** Before you can run your program on IBM Q you must load your API key. If you are running this notebook in an IBM Qx environment, your API key is already stored in the system, but if you are running on your own machine you [must first store the key](https://qiskit.org/documentation/install.html#access-ibm-q-systems)."
   ]
  },
  {
   "cell_type": "code",
   "execution_count": null,
   "metadata": {},
   "outputs": [],
   "source": [
    "#Save and store API key locally.\n",
    "from qiskit import IBMQ\n",
    "#IBMQ.save_account('MY_API_TOKEN') <- Uncomment this line if you need to store your API key\n",
    "\n",
    "#Load account information \n",
    "IBMQ.load_account()\n",
    "provider = IBMQ.get_provider()"
   ]
  },
  {
   "cell_type": "markdown",
   "metadata": {
    "slideshow": {
     "slide_type": "fragment"
    }
   },
   "source": [
    "Grab the least busy IBM Q backend."
   ]
  },
  {
   "cell_type": "code",
   "execution_count": null,
   "metadata": {
    "slideshow": {
     "slide_type": "fragment"
    }
   },
   "outputs": [],
   "source": [
    "from qiskit.providers.ibmq import least_busy\n",
    "backend = least_busy(provider.backends(operational=True, simulator=False))\n",
    "#backend = provider.get_backend('ibmqx2')\n",
    "print(\"Selected backend:\",backend.status().backend_name)\n",
    "print(\"Number of qubits(n_qubits):\", backend.configuration().n_qubits)\n",
    "print(\"Pending jobs:\", backend.status().pending_jobs)"
   ]
  },
  {
   "cell_type": "markdown",
   "metadata": {
    "slideshow": {
     "slide_type": "slide"
    }
   },
   "source": [
    "Lets run a large number of shots, and display the statistsics for the two results: $|00\\rangle$ and $|11\\rangle$ on the real hardware. Monitor the job and display our place in the queue."
   ]
  },
  {
   "cell_type": "code",
   "execution_count": null,
   "metadata": {
    "slideshow": {
     "slide_type": "fragment"
    }
   },
   "outputs": [],
   "source": [
    "if n_qubits > backend.configuration().n_qubits:\n",
    "    print(\"Your circuit contains too many qubits (\",n_qubits,\"). Start over!\")\n",
    "else:\n",
    "    job = execute(qc2_final, backend, shots=1000)\n",
    "    job_monitor(job)"
   ]
  },
  {
   "cell_type": "markdown",
   "metadata": {
    "slideshow": {
     "slide_type": "slide"
    }
   },
   "source": [
    "Get the results, and display in a histogram. Notice how we no longer just get the perfect entangled results, but also a few results that include non-entangled qubit results. At this stage, quantum computers are not perfect calculating machines, but pretty noisy. "
   ]
  },
  {
   "cell_type": "code",
   "execution_count": null,
   "metadata": {
    "slideshow": {
     "slide_type": "fragment"
    }
   },
   "outputs": [],
   "source": [
    "result = job.result()\n",
    "counts  = result.get_counts(qc2_final)\n",
    "print(counts)\n",
    "plot_histogram(counts)"
   ]
  },
  {
   "cell_type": "markdown",
   "metadata": {
    "slideshow": {
     "slide_type": "slide"
    }
   },
   "source": [
    "That was the simple readout. Let's take a look at the whole returned results:"
   ]
  },
  {
   "cell_type": "code",
   "execution_count": null,
   "metadata": {
    "slideshow": {
     "slide_type": "fragment"
    }
   },
   "outputs": [],
   "source": [
    "print(result)"
   ]
  },
  {
   "cell_type": "code",
   "execution_count": null,
   "metadata": {},
   "outputs": [],
   "source": []
  }
 ],
 "metadata": {
  "celltoolbar": "Slideshow",
  "kernelspec": {
   "display_name": "Python 3",
   "language": "python",
   "name": "python3"
  },
  "language_info": {
   "codemirror_mode": {
    "name": "ipython",
    "version": 3
   },
   "file_extension": ".py",
   "mimetype": "text/x-python",
   "name": "python",
   "nbconvert_exporter": "python",
   "pygments_lexer": "ipython3",
   "version": "3.7.3"
  }
 },
 "nbformat": 4,
 "nbformat_minor": 2
}
